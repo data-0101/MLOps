{
 "cells": [
  {
   "cell_type": "code",
   "execution_count": 2,
   "id": "c3088f45-9464-4c96-8b0d-de2c33353d5f",
   "metadata": {},
   "outputs": [],
   "source": [
    "import os\n",
    "import pandas as pd\n",
    "import numpy as np"
   ]
  },
  {
   "cell_type": "code",
   "execution_count": 3,
   "id": "92a4a2ae-0470-4745-b23b-f403a745176f",
   "metadata": {},
   "outputs": [
    {
     "data": {
      "text/plain": [
       "True"
      ]
     },
     "execution_count": 3,
     "metadata": {},
     "output_type": "execute_result"
    }
   ],
   "source": [
    "path = os.path.join(os.path.expanduser(\"~\"), \"project/data\", \"shopping_behavior_updated.csv\")\n",
    "os.path.exists(path)"
   ]
  },
  {
   "cell_type": "markdown",
   "id": "9dd4f3ef-9c16-498f-b362-565c742bada6",
   "metadata": {},
   "source": [
    "## [Section title](#hello)"
   ]
  },
  {
   "cell_type": "code",
   "execution_count": 4,
   "id": "d2c7d098-542d-4065-89f1-378b973ff457",
   "metadata": {},
   "outputs": [],
   "source": [
    "# Set the display options to show all columns and rows without truncation\n",
    "pd.set_option('display.max_columns', None)\n",
    "pd.set_option('display.max_rows', None)\n",
    "pd.set_option('display.width', None)\n",
    "pd.set_option('display.width', None)"
   ]
  },
  {
   "cell_type": "code",
   "execution_count": 5,
   "id": "696a6358-7a76-45c0-8b2d-8c634745cb58",
   "metadata": {},
   "outputs": [],
   "source": [
    "df = pd.read_csv(path)"
   ]
  },
  {
   "cell_type": "code",
   "execution_count": 6,
   "id": "8e7dc3a3-97af-46a9-afed-4b05ce5e1812",
   "metadata": {},
   "outputs": [
    {
     "data": {
      "text/html": [
       "<div>\n",
       "<style scoped>\n",
       "    .dataframe tbody tr th:only-of-type {\n",
       "        vertical-align: middle;\n",
       "    }\n",
       "\n",
       "    .dataframe tbody tr th {\n",
       "        vertical-align: top;\n",
       "    }\n",
       "\n",
       "    .dataframe thead th {\n",
       "        text-align: right;\n",
       "    }\n",
       "</style>\n",
       "<table border=\"1\" class=\"dataframe\">\n",
       "  <thead>\n",
       "    <tr style=\"text-align: right;\">\n",
       "      <th></th>\n",
       "      <th>Customer ID</th>\n",
       "      <th>Age</th>\n",
       "      <th>Gender</th>\n",
       "      <th>Item Purchased</th>\n",
       "      <th>Category</th>\n",
       "      <th>Purchase Amount (USD)</th>\n",
       "      <th>Location</th>\n",
       "      <th>Size</th>\n",
       "      <th>Color</th>\n",
       "      <th>Season</th>\n",
       "      <th>Review Rating</th>\n",
       "      <th>Subscription Status</th>\n",
       "      <th>Shipping Type</th>\n",
       "      <th>Discount Applied</th>\n",
       "      <th>Promo Code Used</th>\n",
       "      <th>Previous Purchases</th>\n",
       "      <th>Payment Method</th>\n",
       "      <th>Frequency of Purchases</th>\n",
       "    </tr>\n",
       "  </thead>\n",
       "  <tbody>\n",
       "    <tr>\n",
       "      <th>0</th>\n",
       "      <td>1</td>\n",
       "      <td>55</td>\n",
       "      <td>Male</td>\n",
       "      <td>Blouse</td>\n",
       "      <td>Clothing</td>\n",
       "      <td>53</td>\n",
       "      <td>Kentucky</td>\n",
       "      <td>L</td>\n",
       "      <td>Gray</td>\n",
       "      <td>Winter</td>\n",
       "      <td>3.1</td>\n",
       "      <td>Yes</td>\n",
       "      <td>Express</td>\n",
       "      <td>Yes</td>\n",
       "      <td>Yes</td>\n",
       "      <td>14</td>\n",
       "      <td>Venmo</td>\n",
       "      <td>Fortnightly</td>\n",
       "    </tr>\n",
       "    <tr>\n",
       "      <th>1</th>\n",
       "      <td>2</td>\n",
       "      <td>19</td>\n",
       "      <td>Male</td>\n",
       "      <td>Sweater</td>\n",
       "      <td>Clothing</td>\n",
       "      <td>64</td>\n",
       "      <td>Maine</td>\n",
       "      <td>L</td>\n",
       "      <td>Maroon</td>\n",
       "      <td>Winter</td>\n",
       "      <td>3.1</td>\n",
       "      <td>Yes</td>\n",
       "      <td>Express</td>\n",
       "      <td>Yes</td>\n",
       "      <td>Yes</td>\n",
       "      <td>2</td>\n",
       "      <td>Cash</td>\n",
       "      <td>Fortnightly</td>\n",
       "    </tr>\n",
       "    <tr>\n",
       "      <th>2</th>\n",
       "      <td>3</td>\n",
       "      <td>50</td>\n",
       "      <td>Male</td>\n",
       "      <td>Jeans</td>\n",
       "      <td>Clothing</td>\n",
       "      <td>73</td>\n",
       "      <td>Massachusetts</td>\n",
       "      <td>S</td>\n",
       "      <td>Maroon</td>\n",
       "      <td>Spring</td>\n",
       "      <td>3.1</td>\n",
       "      <td>Yes</td>\n",
       "      <td>Free Shipping</td>\n",
       "      <td>Yes</td>\n",
       "      <td>Yes</td>\n",
       "      <td>23</td>\n",
       "      <td>Credit Card</td>\n",
       "      <td>Weekly</td>\n",
       "    </tr>\n",
       "    <tr>\n",
       "      <th>3</th>\n",
       "      <td>4</td>\n",
       "      <td>21</td>\n",
       "      <td>Male</td>\n",
       "      <td>Sandals</td>\n",
       "      <td>Footwear</td>\n",
       "      <td>90</td>\n",
       "      <td>Rhode Island</td>\n",
       "      <td>M</td>\n",
       "      <td>Maroon</td>\n",
       "      <td>Spring</td>\n",
       "      <td>3.5</td>\n",
       "      <td>Yes</td>\n",
       "      <td>Next Day Air</td>\n",
       "      <td>Yes</td>\n",
       "      <td>Yes</td>\n",
       "      <td>49</td>\n",
       "      <td>PayPal</td>\n",
       "      <td>Weekly</td>\n",
       "    </tr>\n",
       "    <tr>\n",
       "      <th>4</th>\n",
       "      <td>5</td>\n",
       "      <td>45</td>\n",
       "      <td>Male</td>\n",
       "      <td>Blouse</td>\n",
       "      <td>Clothing</td>\n",
       "      <td>49</td>\n",
       "      <td>Oregon</td>\n",
       "      <td>M</td>\n",
       "      <td>Turquoise</td>\n",
       "      <td>Spring</td>\n",
       "      <td>2.7</td>\n",
       "      <td>Yes</td>\n",
       "      <td>Free Shipping</td>\n",
       "      <td>Yes</td>\n",
       "      <td>Yes</td>\n",
       "      <td>31</td>\n",
       "      <td>PayPal</td>\n",
       "      <td>Annually</td>\n",
       "    </tr>\n",
       "  </tbody>\n",
       "</table>\n",
       "</div>"
      ],
      "text/plain": [
       "   Customer ID  Age Gender Item Purchased  Category  Purchase Amount (USD)  \\\n",
       "0            1   55   Male         Blouse  Clothing                     53   \n",
       "1            2   19   Male        Sweater  Clothing                     64   \n",
       "2            3   50   Male          Jeans  Clothing                     73   \n",
       "3            4   21   Male        Sandals  Footwear                     90   \n",
       "4            5   45   Male         Blouse  Clothing                     49   \n",
       "\n",
       "        Location Size      Color  Season  Review Rating Subscription Status  \\\n",
       "0       Kentucky    L       Gray  Winter            3.1                 Yes   \n",
       "1          Maine    L     Maroon  Winter            3.1                 Yes   \n",
       "2  Massachusetts    S     Maroon  Spring            3.1                 Yes   \n",
       "3   Rhode Island    M     Maroon  Spring            3.5                 Yes   \n",
       "4         Oregon    M  Turquoise  Spring            2.7                 Yes   \n",
       "\n",
       "   Shipping Type Discount Applied Promo Code Used  Previous Purchases  \\\n",
       "0        Express              Yes             Yes                  14   \n",
       "1        Express              Yes             Yes                   2   \n",
       "2  Free Shipping              Yes             Yes                  23   \n",
       "3   Next Day Air              Yes             Yes                  49   \n",
       "4  Free Shipping              Yes             Yes                  31   \n",
       "\n",
       "  Payment Method Frequency of Purchases  \n",
       "0          Venmo            Fortnightly  \n",
       "1           Cash            Fortnightly  \n",
       "2    Credit Card                 Weekly  \n",
       "3         PayPal                 Weekly  \n",
       "4         PayPal               Annually  "
      ]
     },
     "execution_count": 6,
     "metadata": {},
     "output_type": "execute_result"
    }
   ],
   "source": [
    "df.head()"
   ]
  },
  {
   "cell_type": "code",
   "execution_count": 6,
   "id": "a0ee01a0-8f5d-4331-b5f5-695a3adb0f2d",
   "metadata": {},
   "outputs": [
    {
     "data": {
      "text/plain": [
       "(3900, 18)"
      ]
     },
     "execution_count": 6,
     "metadata": {},
     "output_type": "execute_result"
    }
   ],
   "source": [
    "df.shape"
   ]
  },
  {
   "cell_type": "code",
   "execution_count": 7,
   "id": "c3b62db0-22eb-44c7-bf92-f5d126cb1286",
   "metadata": {},
   "outputs": [
    {
     "name": "stdout",
     "output_type": "stream",
     "text": [
      "<class 'pandas.core.frame.DataFrame'>\n",
      "RangeIndex: 3900 entries, 0 to 3899\n",
      "Data columns (total 18 columns):\n",
      " #   Column                  Non-Null Count  Dtype  \n",
      "---  ------                  --------------  -----  \n",
      " 0   Customer ID             3900 non-null   int64  \n",
      " 1   Age                     3900 non-null   int64  \n",
      " 2   Gender                  3900 non-null   object \n",
      " 3   Item Purchased          3900 non-null   object \n",
      " 4   Category                3900 non-null   object \n",
      " 5   Purchase Amount (USD)   3900 non-null   int64  \n",
      " 6   Location                3900 non-null   object \n",
      " 7   Size                    3900 non-null   object \n",
      " 8   Color                   3900 non-null   object \n",
      " 9   Season                  3900 non-null   object \n",
      " 10  Review Rating           3900 non-null   float64\n",
      " 11  Subscription Status     3900 non-null   object \n",
      " 12  Shipping Type           3900 non-null   object \n",
      " 13  Discount Applied        3900 non-null   object \n",
      " 14  Promo Code Used         3900 non-null   object \n",
      " 15  Previous Purchases      3900 non-null   int64  \n",
      " 16  Payment Method          3900 non-null   object \n",
      " 17  Frequency of Purchases  3900 non-null   object \n",
      "dtypes: float64(1), int64(4), object(13)\n",
      "memory usage: 548.6+ KB\n"
     ]
    }
   ],
   "source": [
    "df.info()"
   ]
  },
  {
   "cell_type": "code",
   "execution_count": 8,
   "id": "06b3d13c-7111-45b9-ac17-4889c914b85a",
   "metadata": {},
   "outputs": [
    {
     "data": {
      "text/html": [
       "<div>\n",
       "<style scoped>\n",
       "    .dataframe tbody tr th:only-of-type {\n",
       "        vertical-align: middle;\n",
       "    }\n",
       "\n",
       "    .dataframe tbody tr th {\n",
       "        vertical-align: top;\n",
       "    }\n",
       "\n",
       "    .dataframe thead th {\n",
       "        text-align: right;\n",
       "    }\n",
       "</style>\n",
       "<table border=\"1\" class=\"dataframe\">\n",
       "  <thead>\n",
       "    <tr style=\"text-align: right;\">\n",
       "      <th></th>\n",
       "      <th>Gender</th>\n",
       "      <th>Item Purchased</th>\n",
       "      <th>Category</th>\n",
       "      <th>Location</th>\n",
       "      <th>Size</th>\n",
       "      <th>Color</th>\n",
       "      <th>Season</th>\n",
       "      <th>Subscription Status</th>\n",
       "      <th>Shipping Type</th>\n",
       "      <th>Discount Applied</th>\n",
       "      <th>Promo Code Used</th>\n",
       "      <th>Payment Method</th>\n",
       "      <th>Frequency of Purchases</th>\n",
       "    </tr>\n",
       "  </thead>\n",
       "  <tbody>\n",
       "    <tr>\n",
       "      <th>count</th>\n",
       "      <td>3900</td>\n",
       "      <td>3900</td>\n",
       "      <td>3900</td>\n",
       "      <td>3900</td>\n",
       "      <td>3900</td>\n",
       "      <td>3900</td>\n",
       "      <td>3900</td>\n",
       "      <td>3900</td>\n",
       "      <td>3900</td>\n",
       "      <td>3900</td>\n",
       "      <td>3900</td>\n",
       "      <td>3900</td>\n",
       "      <td>3900</td>\n",
       "    </tr>\n",
       "    <tr>\n",
       "      <th>unique</th>\n",
       "      <td>2</td>\n",
       "      <td>25</td>\n",
       "      <td>4</td>\n",
       "      <td>50</td>\n",
       "      <td>4</td>\n",
       "      <td>25</td>\n",
       "      <td>4</td>\n",
       "      <td>2</td>\n",
       "      <td>6</td>\n",
       "      <td>2</td>\n",
       "      <td>2</td>\n",
       "      <td>6</td>\n",
       "      <td>7</td>\n",
       "    </tr>\n",
       "    <tr>\n",
       "      <th>top</th>\n",
       "      <td>Male</td>\n",
       "      <td>Blouse</td>\n",
       "      <td>Clothing</td>\n",
       "      <td>Montana</td>\n",
       "      <td>M</td>\n",
       "      <td>Olive</td>\n",
       "      <td>Spring</td>\n",
       "      <td>No</td>\n",
       "      <td>Free Shipping</td>\n",
       "      <td>No</td>\n",
       "      <td>No</td>\n",
       "      <td>PayPal</td>\n",
       "      <td>Every 3 Months</td>\n",
       "    </tr>\n",
       "    <tr>\n",
       "      <th>freq</th>\n",
       "      <td>2652</td>\n",
       "      <td>171</td>\n",
       "      <td>1737</td>\n",
       "      <td>96</td>\n",
       "      <td>1755</td>\n",
       "      <td>177</td>\n",
       "      <td>999</td>\n",
       "      <td>2847</td>\n",
       "      <td>675</td>\n",
       "      <td>2223</td>\n",
       "      <td>2223</td>\n",
       "      <td>677</td>\n",
       "      <td>584</td>\n",
       "    </tr>\n",
       "  </tbody>\n",
       "</table>\n",
       "</div>"
      ],
      "text/plain": [
       "       Gender Item Purchased  Category Location  Size  Color  Season  \\\n",
       "count    3900           3900      3900     3900  3900   3900    3900   \n",
       "unique      2             25         4       50     4     25       4   \n",
       "top      Male         Blouse  Clothing  Montana     M  Olive  Spring   \n",
       "freq     2652            171      1737       96  1755    177     999   \n",
       "\n",
       "       Subscription Status  Shipping Type Discount Applied Promo Code Used  \\\n",
       "count                 3900           3900             3900            3900   \n",
       "unique                   2              6                2               2   \n",
       "top                     No  Free Shipping               No              No   \n",
       "freq                  2847            675             2223            2223   \n",
       "\n",
       "       Payment Method Frequency of Purchases  \n",
       "count            3900                   3900  \n",
       "unique              6                      7  \n",
       "top            PayPal         Every 3 Months  \n",
       "freq              677                    584  "
      ]
     },
     "execution_count": 8,
     "metadata": {},
     "output_type": "execute_result"
    }
   ],
   "source": [
    "df.describe(include='object')"
   ]
  },
  {
   "cell_type": "code",
   "execution_count": 9,
   "id": "230e9610-656a-4c27-929f-e450be5f9afc",
   "metadata": {},
   "outputs": [
    {
     "data": {
      "text/html": [
       "<div>\n",
       "<style scoped>\n",
       "    .dataframe tbody tr th:only-of-type {\n",
       "        vertical-align: middle;\n",
       "    }\n",
       "\n",
       "    .dataframe tbody tr th {\n",
       "        vertical-align: top;\n",
       "    }\n",
       "\n",
       "    .dataframe thead th {\n",
       "        text-align: right;\n",
       "    }\n",
       "</style>\n",
       "<table border=\"1\" class=\"dataframe\">\n",
       "  <thead>\n",
       "    <tr style=\"text-align: right;\">\n",
       "      <th></th>\n",
       "      <th>Customer ID</th>\n",
       "      <th>Age</th>\n",
       "      <th>Purchase Amount (USD)</th>\n",
       "      <th>Review Rating</th>\n",
       "      <th>Previous Purchases</th>\n",
       "    </tr>\n",
       "  </thead>\n",
       "  <tbody>\n",
       "    <tr>\n",
       "      <th>count</th>\n",
       "      <td>3900.000000</td>\n",
       "      <td>3900.000000</td>\n",
       "      <td>3900.000000</td>\n",
       "      <td>3900.000000</td>\n",
       "      <td>3900.000000</td>\n",
       "    </tr>\n",
       "    <tr>\n",
       "      <th>mean</th>\n",
       "      <td>1950.500000</td>\n",
       "      <td>44.068462</td>\n",
       "      <td>59.764359</td>\n",
       "      <td>3.749949</td>\n",
       "      <td>25.351538</td>\n",
       "    </tr>\n",
       "    <tr>\n",
       "      <th>std</th>\n",
       "      <td>1125.977353</td>\n",
       "      <td>15.207589</td>\n",
       "      <td>23.685392</td>\n",
       "      <td>0.716223</td>\n",
       "      <td>14.447125</td>\n",
       "    </tr>\n",
       "    <tr>\n",
       "      <th>min</th>\n",
       "      <td>1.000000</td>\n",
       "      <td>18.000000</td>\n",
       "      <td>20.000000</td>\n",
       "      <td>2.500000</td>\n",
       "      <td>1.000000</td>\n",
       "    </tr>\n",
       "    <tr>\n",
       "      <th>25%</th>\n",
       "      <td>975.750000</td>\n",
       "      <td>31.000000</td>\n",
       "      <td>39.000000</td>\n",
       "      <td>3.100000</td>\n",
       "      <td>13.000000</td>\n",
       "    </tr>\n",
       "    <tr>\n",
       "      <th>50%</th>\n",
       "      <td>1950.500000</td>\n",
       "      <td>44.000000</td>\n",
       "      <td>60.000000</td>\n",
       "      <td>3.700000</td>\n",
       "      <td>25.000000</td>\n",
       "    </tr>\n",
       "    <tr>\n",
       "      <th>75%</th>\n",
       "      <td>2925.250000</td>\n",
       "      <td>57.000000</td>\n",
       "      <td>81.000000</td>\n",
       "      <td>4.400000</td>\n",
       "      <td>38.000000</td>\n",
       "    </tr>\n",
       "    <tr>\n",
       "      <th>max</th>\n",
       "      <td>3900.000000</td>\n",
       "      <td>70.000000</td>\n",
       "      <td>100.000000</td>\n",
       "      <td>5.000000</td>\n",
       "      <td>50.000000</td>\n",
       "    </tr>\n",
       "  </tbody>\n",
       "</table>\n",
       "</div>"
      ],
      "text/plain": [
       "       Customer ID          Age  Purchase Amount (USD)  Review Rating  \\\n",
       "count  3900.000000  3900.000000            3900.000000    3900.000000   \n",
       "mean   1950.500000    44.068462              59.764359       3.749949   \n",
       "std    1125.977353    15.207589              23.685392       0.716223   \n",
       "min       1.000000    18.000000              20.000000       2.500000   \n",
       "25%     975.750000    31.000000              39.000000       3.100000   \n",
       "50%    1950.500000    44.000000              60.000000       3.700000   \n",
       "75%    2925.250000    57.000000              81.000000       4.400000   \n",
       "max    3900.000000    70.000000             100.000000       5.000000   \n",
       "\n",
       "       Previous Purchases  \n",
       "count         3900.000000  \n",
       "mean            25.351538  \n",
       "std             14.447125  \n",
       "min              1.000000  \n",
       "25%             13.000000  \n",
       "50%             25.000000  \n",
       "75%             38.000000  \n",
       "max             50.000000  "
      ]
     },
     "execution_count": 9,
     "metadata": {},
     "output_type": "execute_result"
    }
   ],
   "source": [
    "df.describe()"
   ]
  },
  {
   "cell_type": "markdown",
   "id": "92c1adff-17b3-4d73-a5c1-34367391c251",
   "metadata": {},
   "source": [
    "# hello"
   ]
  },
  {
   "cell_type": "code",
   "execution_count": 10,
   "id": "6c294800-f1b4-4dfc-af69-aeaec393922f",
   "metadata": {},
   "outputs": [],
   "source": [
    "hi = 1"
   ]
  },
  {
   "cell_type": "code",
   "execution_count": 11,
   "id": "b81fedf8-b8ee-4d44-a7b3-3430c9894fe8",
   "metadata": {},
   "outputs": [
    {
     "ename": "SyntaxError",
     "evalue": "invalid syntax. Perhaps you forgot a comma? (3475584347.py, line 1)",
     "output_type": "error",
     "traceback": [
      "\u001b[0;36m  Cell \u001b[0;32mIn[11], line 1\u001b[0;36m\u001b[0m\n\u001b[0;31m    print(f\"hello {hi f'this is inside {hi}'}\")\u001b[0m\n\u001b[0m                   ^\u001b[0m\n\u001b[0;31mSyntaxError\u001b[0m\u001b[0;31m:\u001b[0m invalid syntax. Perhaps you forgot a comma?\n"
     ]
    }
   ],
   "source": [
    "print(f\"hello {hi f'this is inside {hi}'}\")"
   ]
  },
  {
   "cell_type": "code",
   "execution_count": 12,
   "id": "0d917b76-3f5b-44a7-8d44-2e8a82ecd6b2",
   "metadata": {},
   "outputs": [
    {
     "name": "stdout",
     "output_type": "stream",
     "text": [
      "hello 1 inside 1\n"
     ]
    }
   ],
   "source": [
    "print(f'hello {hi} {f'inside {hi}'}')"
   ]
  },
  {
   "cell_type": "code",
   "execution_count": 13,
   "id": "d0052717-5e70-448c-a106-db105967bbc3",
   "metadata": {},
   "outputs": [],
   "source": [
    "col = 'wood'"
   ]
  },
  {
   "cell_type": "code",
   "execution_count": 14,
   "id": "250575da-ba14-4c52-a281-def50b3f5076",
   "metadata": {},
   "outputs": [
    {
     "name": "stdout",
     "output_type": "stream",
     "text": [
      "('null value in wood == {}'.format(df.wood.isnull().sum()))\n"
     ]
    }
   ],
   "source": [
    "print(f\"('null value in {col} == {{}}'.format(df.{col}.isnull().sum()))\")"
   ]
  },
  {
   "cell_type": "code",
   "execution_count": 15,
   "id": "0b54e861-6a1d-447a-9d7b-ff794997aa40",
   "metadata": {},
   "outputs": [
    {
     "name": "stdout",
     "output_type": "stream",
     "text": [
      "null value in wood == df.wood.isnull().sum()\n"
     ]
    }
   ],
   "source": [
    "print(f'null value in {col} == {f'df.{col}.isnull().sum()'}')"
   ]
  },
  {
   "cell_type": "code",
   "execution_count": 81,
   "id": "aae1da3f-e358-4305-adb9-5b494a93a9a6",
   "metadata": {},
   "outputs": [
    {
     "data": {
      "image/png": "[encoded data removed]",
      "text/plain": [
       "<Figure size 500x500 with 1 Axes>"
      ]
     },
     "metadata": {},
     "output_type": "display_data"
    }
   ],
   "source": [
    "l = [1,1,2,2,3,3,4,4,5,5]\n",
    "s = [i for i in range(0,500)]\n",
    "import matplotlib.pyplot as plt\n",
    "import seaborn\n",
    "x = seaborn.displot(s,discrete=True,kde=True)\n",
    "\n",
    "plt.show()"
   ]
  },
  {
   "cell_type": "code",
   "execution_count": 77,
   "id": "2f180311-486d-456f-8616-b510bfd8633c",
   "metadata": {},
   "outputs": [
    {
     "data": {
      "image/png": "[encoded data removed]",
      "text/plain": [
       "<Figure size 640x480 with 1 Axes>"
      ]
     },
     "metadata": {},
     "output_type": "display_data"
    }
   ],
   "source": [
    "import matplotlib.pyplot as plt\n",
    "import seaborn as sns\n",
    "\n",
    "# Generate unique values from 1 to 500\n",
    "data = list(range(1, 501))\n",
    "\n",
    "# Create a histogram\n",
    "sns.histplot(data, bins=50, color='skyblue', kde=False,  discrete=True)\n",
    "\n",
    "# Show the plot\n",
    "plt.show()"
   ]
  },
  {
   "cell_type": "code",
   "execution_count": 13,
   "id": "de10f204-4d29-4307-a144-649152c75342",
   "metadata": {},
   "outputs": [],
   "source": [
    "import nbformat\n",
    "\n",
    "# Assuming header is a list of strings\n",
    "# header = [\"header1\", \"header2\", \"header3\"]\n",
    "columns = df.columns.tolist()\n",
    "title = [f'##$123@xyz![- {i}](#{i})' for i in columns]\n",
    "link = '\\n'.join(title)\n",
    "link = link.replace(' ','-')\n",
    "link = link.replace('$123@xyz!', ' ')\n",
    "\n",
    "# initial cells\n",
    "initial_cells = [\n",
    "    nbformat.v4.new_code_cell(source='import os\\nimport pandas as pd\\nimport numpy as np\\nimport seaborn as sns\\nimport matplotlib.pyplot as plt\\nimport warnings\\n%matplotlib inline\\nsns.set()\\n# Filter out the warning about deprecated distplot\\nwarnings.filterwarnings(\"ignore\")'),\n",
    "    nbformat.v4.new_code_cell(source=\"# Set the display options to show all columns and rows without truncation\\npd.set_option('display.max_columns', None)\"),\n",
    "    nbformat.v4.new_code_cell(source=\"\"\"path = os.path.join(os.path.expanduser(\"~\"), \"project/data\", \"shopping_behavior_updated.csv\")\"\"\"),\n",
    "    nbformat.v4.new_code_cell(source=\"df = pd.read_csv(path)\"),\n",
    "    nbformat.v4.new_code_cell(source='label = {}'),\n",
    "    nbformat.v4.new_code_cell(source=\"def remove_outliers(df, column_name):\\n    # Step 1: Calculate the IQR for the specified column\\n    q1 = df[column_name].quantile(0.25)\\n    q3 = df[column_name].quantile(0.75)\\n    iqr = q3 - q1\\n    # Step 2: Define the lower and upper bounds for outlier removal\\n    lower_bound = q1 - 1.5 * iqr\\n    upper_bound = q3 + 1.5 * iqr\\n    # Step 3: Update the specified column with the cleaned data\\n    df[f'{column_name}c*'] = np.where(\\n        (df[column_name] >= lower_bound) & (df[column_name] <= upper_bound),\\n        df[column_name],\\n        np.nan\\n    )\"),\n",
    "    nbformat.v4.new_code_cell(source='df.head()'),\n",
    "    nbformat.v4.new_code_cell(source='df.shape'),\n",
    "    nbformat.v4.new_code_cell(source='df.info()'),\n",
    "    nbformat.v4.new_code_cell(source='df.describe()'),\n",
    "    nbformat.v4.new_code_cell(source='df.describe(include=\"object\")'),\n",
    "    nbformat.v4.new_markdown_cell(source='# **<font size=21px color=\"solid red\">INDEX</font>**'),\n",
    "    nbformat.v4.new_markdown_cell(source=link),\n",
    "]\n",
    "\n",
    "final_notebook = nbformat.v4.new_notebook()\n",
    "final_notebook.cells.extend(initial_cells)\n",
    "\n",
    "for col in columns:\n",
    "    func_strings1 = \"**clean data here**<br>1. remove nan(null values)<br>&nbsp;&nbsp;&nbsp;&nbsp;* remove null<br>&nbsp;&nbsp;&nbsp;&nbsp;* replace null(mean, median, mode)<br>\"\n",
    "    func_strings2 = \"<br>2. organize the data using domain knowledge<br>3. don't map the value yet we will give labels later\"\n",
    "    nb = nbformat.v4.new_notebook()\n",
    "    final = []\n",
    "    cells = [\n",
    "        nbformat.v4.new_markdown_cell(source='<hr style=\"border: 2px solid lime;\">'),\n",
    "        nbformat.v4.new_markdown_cell(source=f'# **<font size=17px color=\"lightgreen\">{col}</font>**'),\n",
    "        nbformat.v4.new_code_cell(source=f\"\"\"print(f\"{{df['{col}'].head(5)}}\\\\n\\\\n{{'*'*21}}\\\\n\\\\ntop 5 sorted values\\\\n{{df['{col}'].sort_values().head(5)}}\\\\n\\\\n{{'*'*21}}\\\\n\\\\nbottom 5 sorted values\\\\n{{df['{col}'].sort_values().tail(5)}}\")\"\"\"),\n",
    "        nbformat.v4.new_markdown_cell(source=\"### <font size=5px color='blue'>data operation</font>\"),\n",
    "        nbformat.v4.new_code_cell(source=f\"print('null value in [{col}] == {{}}'.format(df['{col}'].isnull().sum()))\"),\n",
    "        nbformat.v4.new_code_cell(source=f\"print(f'unique values in [{col}] == {{df['{col}'].nunique()}}')\"),\n",
    "        nbformat.v4.new_code_cell(source=f\"print(f'top 5 unique values:\\\\nvalue - count : {{df['{col}'].value_counts()[:5]}}\\\\n\\\\n{{'*'*21}}\\\\n\\\\nbottom 5 unique value:\\\\nvalue - count :  {{df['{col}'].value_counts()[-5:]}}')\"),\n",
    "        nbformat.v4.new_markdown_cell(source=\"#### <font size= 3.5px color='blue'>dtype</font>\"),\n",
    "        nbformat.v4.new_code_cell(source=f\"df['{col}'].dtype\\n# format if dtype is wrong\"),\n",
    "        nbformat.v4.new_code_cell(source=f\"## see non numeric value in column\\n\\n## Identify non-numeric values using boolean indexing\\n# non_numeric_value = df['{col}'][numeric_column.isna()]\\n# print(non_numeric_value)\\n\\n## Convert the column to numeric, coercing non-numeric values to NaN\\n# numeric_column = pd.to_numeric(df['{col}'], errors='coerce')\\n\\n\"),\n",
    "        nbformat.v4.new_code_cell(source='# format opreation\\n# if dtype is numeric skip this 4 cell\\n'),\n",
    "        nbformat.v4.new_code_cell(source=f\"\"\"# key = df['{col}'].unique().tolist()\\n# values = []  ## assign your values here\\n# print(key)\\n# print(values)  ## len of key and values should be same\"\"\"),\n",
    "        nbformat.v4.new_code_cell(source=f\"# {col} = dict(zip(key,values)) # label data in 'key': value pair\\n# label['{col}'] = {col} # store data label dict in main dict actually it's updating/\"),\n",
    "        nbformat.v4.new_code_cell(source=f\"# df['{col}'].replace({col}, inplace=True)\\n# print('Modified DataFrame:')\\n# print(df['{col}'].head(10))\"),\n",
    "        nbformat.v4.new_code_cell(source=f\"df['{col}'].unique()\"),\n",
    "        nbformat.v4.new_code_cell(source=f\"# First plot - Distribution plot\\nplt.figure(figsize=(10, 7))\\nsns.distplot(df['{col}'])\\nplt.title('Distribution Plot for {col}')  # Title for the plot\\nplt.xlabel('{col} Values')  # X-axis label\\nplt.ylabel('Density')  # Y-axis label\\n\\n# Second plot - Boxplot\\nplt.figure(figsize=(10, 7))\\nsns.boxplot(df['{col}'],orient='h')\\nplt.title('Box Plot for {col}')  # Title for the plot\\nplt.xlabel('{col}')  # X-axis label\\nplt.ylabel('{col} values')\"),\n",
    "        nbformat.v4.new_markdown_cell(source=\"<font size=3.5px color='bblue'> # type some insight here </font>\"),\n",
    "        nbformat.v4.new_markdown_cell(source=\"#### <font size=3.5px color = 'blue'>clean data here</font>\"),\n",
    "        nbformat.v4.new_code_cell(source=f\"## for removing null value\\n# df.dropna(subset=['{col}'], inplace=True)\"),\n",
    "        nbformat.v4.new_code_cell(source=f\"# mean = df['{col}'].mean()\\n# print(mean)\\n\\n# median = df['{col}'].median()\\n# print(median)\\n\\n# mode = df['{col}'].mode()\\n# print(mode)\"),\n",
    "        nbformat.v4.new_code_cell(source=f\"## Example 1: Replace missing values in a numerical column with the mean\\n# df['{col}'].fillna(df['{col}'].mean(), inplace=True)\\n\\n## Example 2: Replace missing values in a numerical column with the median\\n# df['{col}'].fillna(df['{col}'].median(), inplace=True)\\n\\n## Example 3: if **non-numeric**\\n\\n# df['{col}'].value_counts()\\n\\n ## Replace missing values in a categorical column with the mode\\n# df['{col}'].fillna(df['{col}'].mode()[0], inplace=True)\"),\n",
    "        nbformat.v4.new_markdown_cell(source=\"#### <font size=3.5px color = 'blue'>outliers</font>\"),\n",
    "        nbformat.v4.new_code_cell(source=f\"# remove_outliers(df,'{col}')\"),\n",
    "        nbformat.v4.new_code_cell(source=f\"# print('null value in {col}c* == {{}}'.format(df['{col}']c*.isnull().sum()))\"),\n",
    "        nbformat.v4.new_code_cell(source=f\"## Example 1: Replace missing values in a numerical column with the mean\\n# df['{col}c*'].fillna(df['{col}c*'].mean(), inplace=True)\\n\\n## Example 2: Replace missing values in a numerical column with the median\\n# df['{col}c*'].fillna(df['{col}c*'].median(), inplace=True)\\n\\n## Example 3: if **non-numeric**\\n\\n# df['{col}c*'].value_counts()\\n\\n ## Replace missing values in a categorical column with the mode\\n# df['{col}c*'].fillna(df['{col}c*'].mode()[0], inplace=True)\"),\n",
    "        nbformat.v4.new_markdown_cell(source=\"### **<font size = 5px color = 'lime'>verify the process</font>**\"),\n",
    "        nbformat.v4.new_code_cell(source=\"df.head()\"),\n",
    "        nbformat.v4.new_code_cell(source=f\"print('null value in [{col}] == {{}}'.format(df['{col}'].isnull().sum()))\\n# print('\\\\n---\\\\n')\\n# print('null value in {col}c* == {{}}'.format(df['{col}c*'].isnull().sum()))\"),\n",
    "        nbformat.v4.new_code_cell(source=f\"print(f'The dtype of [{col}] == {{df['{col}'].dtype}}')\\n# print('\\\\n---\\\\n')\\n# print(f'The dtype of {col}c* is {{df['{col}c*'].dtype}}')\"),\n",
    "        nbformat.v4.new_code_cell(source=f\"## First plot - Distribution plot\\n# plt.figure(figsize=(10, 7))\\n# sns.distplot(df['{col}c*'])\\n# plt.title('Distribution Plot for {col}c*')  ## Title for the plot\\n# plt.xlabel('{col}c* Values')  ## X-axis label\\n# plt.ylabel('Density')  ## Y-axis label\\n\\n## Second plot - Boxplot\\n# plt.figure(figsize=(10, 7))\\n# sns.boxplot(df['{col}c*'],orient='h')\\n# plt.title('Box Plot for {col}c*')  ## Title for the plot\\n# plt.xlabel('{col}c*')  ## X-axis label\\n# plt.ylabel('{col}c* values')\"),\n",
    "        nbformat.v4.new_code_cell(source=\"# more plot ?\\n\"),\n",
    "        nbformat.v4.new_markdown_cell(source=\"<font size=5px color='bblue'> # type some insight here </font>\"),\n",
    "        nbformat.v4.new_markdown_cell(source='<hr style=\"border: 2px solid magenta;\">'),\n",
    "        nbformat.v4.new_markdown_cell(source='## [***](#INDEX)'),\n",
    "    ]\n",
    "\n",
    "\n",
    "    final.extend(cells)\n",
    "    nb['cells'] = final\n",
    "\n",
    "    ## Append the cells of each notebook to the final notebook\n",
    "    final_notebook.cells.extend(nb['cells'])\n",
    "\n",
    "# Write the final combined notebook to a new file\n",
    "nbformat.write(final_notebook, 'clean.ipynb')\n",
    "\n",
    "## Save the final combined notebook back to the same file\n",
    "# with open('project_2.ipynb', 'w') as f:\n",
    "#     nbformat.write(final_notebook, f)\n"
   ]
  },
  {
   "cell_type": "code",
   "execution_count": 31,
   "id": "e45644be-f2f8-449e-bcff-153a4d72d1b6",
   "metadata": {},
   "outputs": [],
   "source": [
    "header = [\"header1\", \"header 2\", \"header 3\"]\n",
    "# columns = df.columns.tolist()\n",
    "title = [f'##$123@xyz[- {i}](#{i})' for i in header]"
   ]
  },
  {
   "cell_type": "code",
   "execution_count": 32,
   "id": "698eeae1-5835-4f0d-ac84-44b580f00ec8",
   "metadata": {},
   "outputs": [],
   "source": [
    "link = '\\n'.join(title)"
   ]
  },
  {
   "cell_type": "code",
   "execution_count": 33,
   "id": "1467aa9a-43ff-4219-be2a-d510a0e41102",
   "metadata": {},
   "outputs": [
    {
     "data": {
      "text/plain": [
       "'##$123@xyz[- header1](#header1)\\n##$123@xyz[- header 2](#header 2)\\n##$123@xyz[- header 3](#header 3)'"
      ]
     },
     "execution_count": 33,
     "metadata": {},
     "output_type": "execute_result"
    }
   ],
   "source": [
    "link"
   ]
  },
  {
   "cell_type": "code",
   "execution_count": 34,
   "id": "45339628-16cd-4a48-bf6f-2bdbb50c6f73",
   "metadata": {},
   "outputs": [],
   "source": [
    "link = link.replace(' ', '-')"
   ]
  },
  {
   "cell_type": "code",
   "execution_count": 35,
   "id": "bd844c3f-b5e1-4cdd-b3ee-f2f0a7b66085",
   "metadata": {},
   "outputs": [
    {
     "data": {
      "text/plain": [
       "'##$123@xyz[--header1](#header1)\\n##$123@xyz[--header-2](#header-2)\\n##$123@xyz[--header-3](#header-3)'"
      ]
     },
     "execution_count": 35,
     "metadata": {},
     "output_type": "execute_result"
    }
   ],
   "source": [
    "link"
   ]
  },
  {
   "cell_type": "code",
   "execution_count": 36,
   "id": "60ab14fb-5265-4e4a-952d-664ed96445b9",
   "metadata": {},
   "outputs": [],
   "source": [
    "link = link.replace('$123@xyz!', ' ')"
   ]
  },
  {
   "cell_type": "code",
   "execution_count": 37,
   "id": "24f1ce0e-400e-4918-8944-34515d6479b9",
   "metadata": {},
   "outputs": [
    {
     "data": {
      "text/plain": [
       "'## [--header1](#header1)\\n## [--header-2](#header-2)\\n## [--header-3](#header-3)'"
      ]
     },
     "execution_count": 37,
     "metadata": {},
     "output_type": "execute_result"
    }
   ],
   "source": [
    "link"
   ]
  },
  {
   "cell_type": "code",
   "execution_count": null,
   "id": "36af64fd-fa19-4354-aa45-1874a7694431",
   "metadata": {},
   "outputs": [],
   "source": []
  }
 ],
 "metadata": {
  "kernelspec": {
   "display_name": "Python 3 (ipykernel)",
   "language": "python",
   "name": "python3"
  },
  "language_info": {
   "codemirror_mode": {
    "name": "ipython",
    "version": 3
   },
   "file_extension": ".py",
   "mimetype": "text/x-python",
   "name": "python",
   "nbconvert_exporter": "python",
   "pygments_lexer": "ipython3",
   "version": "3.12.0"
  }
 },
 "nbformat": 4,
 "nbformat_minor": 5
}

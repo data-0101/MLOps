{
 "cells": [
  {
   "cell_type": "code",
   "execution_count": 1,
   "id": "4a3f58ec",
   "metadata": {},
   "outputs": [],
   "source": [
    "import os\n",
    "import pandas as pd\n",
    "import numpy as np\n",
    "import seaborn as sns\n",
    "import matplotlib.pyplot as plt\n",
    "import warnings\n",
    "%matplotlib inline\n",
    "sns.set()\n",
    "# Filter out the warning about deprecated distplot\n",
    "warnings.filterwarnings(\"ignore\")"
   ]
  },
  {
   "cell_type": "code",
   "execution_count": 2,
   "id": "4fe9e217",
   "metadata": {},
   "outputs": [],
   "source": [
    "# Set the display options to show all columns and rows without truncation\n",
    "pd.set_option('display.max_columns', None)"
   ]
  },
  {
   "cell_type": "code",
   "execution_count": 3,
   "id": "8de72a67",
   "metadata": {},
   "outputs": [],
   "source": [
    "path = os.path.join(os.path.expanduser(\"~\"), \"project/data\", \"shopping_behavior_updated.csv\")"
   ]
  },
  {
   "cell_type": "code",
   "execution_count": 4,
   "id": "33100763",
   "metadata": {},
   "outputs": [],
   "source": [
    "df = pd.read_csv(path)"
   ]
  },
  {
   "cell_type": "code",
   "execution_count": 5,
   "id": "cec4b4f4",
   "metadata": {},
   "outputs": [],
   "source": [
    "label = {}"
   ]
  },
  {
   "cell_type": "code",
   "execution_count": 6,
   "id": "8c0e053a",
   "metadata": {},
   "outputs": [],
   "source": [
    "def remove_outliers(df, column_name):\n",
    "    # Step 1: Calculate the IQR for the specified column\n",
    "    q1 = df[column_name].quantile(0.25)\n",
    "    q3 = df[column_name].quantile(0.75)\n",
    "    iqr = q3 - q1\n",
    "    # Step 2: Define the lower and upper bounds for outlier removal\n",
    "    lower_bound = q1 - 1.5 * iqr\n",
    "    upper_bound = q3 + 1.5 * iqr\n",
    "    # Step 3: Update the specified column with the cleaned data\n",
    "    df[f'{column_name}c*'] = np.where(\n",
    "        (df[column_name] >= lower_bound) & (df[column_name] <= upper_bound),\n",
    "        df[column_name],\n",
    "        np.nan\n",
    "    )"
   ]
  },
  {
   "cell_type": "code",
   "execution_count": 7,
   "id": "70ccd19f",
   "metadata": {},
   "outputs": [
    {
     "data": {
      "text/html": [
       "<div>\n",
       "<style scoped>\n",
       "    .dataframe tbody tr th:only-of-type {\n",
       "        vertical-align: middle;\n",
       "    }\n",
       "\n",
       "    .dataframe tbody tr th {\n",
       "        vertical-align: top;\n",
       "    }\n",
       "\n",
       "    .dataframe thead th {\n",
       "        text-align: right;\n",
       "    }\n",
       "</style>\n",
       "<table border=\"1\" class=\"dataframe\">\n",
       "  <thead>\n",
       "    <tr style=\"text-align: right;\">\n",
       "      <th></th>\n",
       "      <th>Customer ID</th>\n",
       "      <th>Age</th>\n",
       "      <th>Gender</th>\n",
       "      <th>Item Purchased</th>\n",
       "      <th>Category</th>\n",
       "      <th>Purchase Amount (USD)</th>\n",
       "      <th>Location</th>\n",
       "      <th>Size</th>\n",
       "      <th>Color</th>\n",
       "      <th>Season</th>\n",
       "      <th>Review Rating</th>\n",
       "      <th>Subscription Status</th>\n",
       "      <th>Shipping Type</th>\n",
       "      <th>Discount Applied</th>\n",
       "      <th>Promo Code Used</th>\n",
       "      <th>Previous Purchases</th>\n",
       "      <th>Payment Method</th>\n",
       "      <th>Frequency of Purchases</th>\n",
       "    </tr>\n",
       "  </thead>\n",
       "  <tbody>\n",
       "    <tr>\n",
       "      <th>0</th>\n",
       "      <td>1</td>\n",
       "      <td>55</td>\n",
       "      <td>Male</td>\n",
       "      <td>Blouse</td>\n",
       "      <td>Clothing</td>\n",
       "      <td>53</td>\n",
       "      <td>Kentucky</td>\n",
       "      <td>L</td>\n",
       "      <td>Gray</td>\n",
       "      <td>Winter</td>\n",
       "      <td>3.1</td>\n",
       "      <td>Yes</td>\n",
       "      <td>Express</td>\n",
       "      <td>Yes</td>\n",
       "      <td>Yes</td>\n",
       "      <td>14</td>\n",
       "      <td>Venmo</td>\n",
       "      <td>Fortnightly</td>\n",
       "    </tr>\n",
       "    <tr>\n",
       "      <th>1</th>\n",
       "      <td>2</td>\n",
       "      <td>19</td>\n",
       "      <td>Male</td>\n",
       "      <td>Sweater</td>\n",
       "      <td>Clothing</td>\n",
       "      <td>64</td>\n",
       "      <td>Maine</td>\n",
       "      <td>L</td>\n",
       "      <td>Maroon</td>\n",
       "      <td>Winter</td>\n",
       "      <td>3.1</td>\n",
       "      <td>Yes</td>\n",
       "      <td>Express</td>\n",
       "      <td>Yes</td>\n",
       "      <td>Yes</td>\n",
       "      <td>2</td>\n",
       "      <td>Cash</td>\n",
       "      <td>Fortnightly</td>\n",
       "    </tr>\n",
       "    <tr>\n",
       "      <th>2</th>\n",
       "      <td>3</td>\n",
       "      <td>50</td>\n",
       "      <td>Male</td>\n",
       "      <td>Jeans</td>\n",
       "      <td>Clothing</td>\n",
       "      <td>73</td>\n",
       "      <td>Massachusetts</td>\n",
       "      <td>S</td>\n",
       "      <td>Maroon</td>\n",
       "      <td>Spring</td>\n",
       "      <td>3.1</td>\n",
       "      <td>Yes</td>\n",
       "      <td>Free Shipping</td>\n",
       "      <td>Yes</td>\n",
       "      <td>Yes</td>\n",
       "      <td>23</td>\n",
       "      <td>Credit Card</td>\n",
       "      <td>Weekly</td>\n",
       "    </tr>\n",
       "    <tr>\n",
       "      <th>3</th>\n",
       "      <td>4</td>\n",
       "      <td>21</td>\n",
       "      <td>Male</td>\n",
       "      <td>Sandals</td>\n",
       "      <td>Footwear</td>\n",
       "      <td>90</td>\n",
       "      <td>Rhode Island</td>\n",
       "      <td>M</td>\n",
       "      <td>Maroon</td>\n",
       "      <td>Spring</td>\n",
       "      <td>3.5</td>\n",
       "      <td>Yes</td>\n",
       "      <td>Next Day Air</td>\n",
       "      <td>Yes</td>\n",
       "      <td>Yes</td>\n",
       "      <td>49</td>\n",
       "      <td>PayPal</td>\n",
       "      <td>Weekly</td>\n",
       "    </tr>\n",
       "    <tr>\n",
       "      <th>4</th>\n",
       "      <td>5</td>\n",
       "      <td>45</td>\n",
       "      <td>Male</td>\n",
       "      <td>Blouse</td>\n",
       "      <td>Clothing</td>\n",
       "      <td>49</td>\n",
       "      <td>Oregon</td>\n",
       "      <td>M</td>\n",
       "      <td>Turquoise</td>\n",
       "      <td>Spring</td>\n",
       "      <td>2.7</td>\n",
       "      <td>Yes</td>\n",
       "      <td>Free Shipping</td>\n",
       "      <td>Yes</td>\n",
       "      <td>Yes</td>\n",
       "      <td>31</td>\n",
       "      <td>PayPal</td>\n",
       "      <td>Annually</td>\n",
       "    </tr>\n",
       "  </tbody>\n",
       "</table>\n",
       "</div>"
      ],
      "text/plain": [
       "   Customer ID  Age Gender Item Purchased  Category  Purchase Amount (USD)  \\\n",
       "0            1   55   Male         Blouse  Clothing                     53   \n",
       "1            2   19   Male        Sweater  Clothing                     64   \n",
       "2            3   50   Male          Jeans  Clothing                     73   \n",
       "3            4   21   Male        Sandals  Footwear                     90   \n",
       "4            5   45   Male         Blouse  Clothing                     49   \n",
       "\n",
       "        Location Size      Color  Season  Review Rating Subscription Status  \\\n",
       "0       Kentucky    L       Gray  Winter            3.1                 Yes   \n",
       "1          Maine    L     Maroon  Winter            3.1                 Yes   \n",
       "2  Massachusetts    S     Maroon  Spring            3.1                 Yes   \n",
       "3   Rhode Island    M     Maroon  Spring            3.5                 Yes   \n",
       "4         Oregon    M  Turquoise  Spring            2.7                 Yes   \n",
       "\n",
       "   Shipping Type Discount Applied Promo Code Used  Previous Purchases  \\\n",
       "0        Express              Yes             Yes                  14   \n",
       "1        Express              Yes             Yes                   2   \n",
       "2  Free Shipping              Yes             Yes                  23   \n",
       "3   Next Day Air              Yes             Yes                  49   \n",
       "4  Free Shipping              Yes             Yes                  31   \n",
       "\n",
       "  Payment Method Frequency of Purchases  \n",
       "0          Venmo            Fortnightly  \n",
       "1           Cash            Fortnightly  \n",
       "2    Credit Card                 Weekly  \n",
       "3         PayPal                 Weekly  \n",
       "4         PayPal               Annually  "
      ]
     },
     "execution_count": 7,
     "metadata": {},
     "output_type": "execute_result"
    }
   ],
   "source": [
    "df.head()"
   ]
  },
  {
   "cell_type": "code",
   "execution_count": 8,
   "id": "4494097b",
   "metadata": {},
   "outputs": [
    {
     "data": {
      "text/plain": [
       "(3900, 18)"
      ]
     },
     "execution_count": 8,
     "metadata": {},
     "output_type": "execute_result"
    }
   ],
   "source": [
    "df.shape"
   ]
  },
  {
   "cell_type": "code",
   "execution_count": 9,
   "id": "312f413d",
   "metadata": {},
   "outputs": [
    {
     "name": "stdout",
     "output_type": "stream",
     "text": [
      "<class 'pandas.core.frame.DataFrame'>\n",
      "RangeIndex: 3900 entries, 0 to 3899\n",
      "Data columns (total 18 columns):\n",
      " #   Column                  Non-Null Count  Dtype  \n",
      "---  ------                  --------------  -----  \n",
      " 0   Customer ID             3900 non-null   int64  \n",
      " 1   Age                     3900 non-null   int64  \n",
      " 2   Gender                  3900 non-null   object \n",
      " 3   Item Purchased          3900 non-null   object \n",
      " 4   Category                3900 non-null   object \n",
      " 5   Purchase Amount (USD)   3900 non-null   int64  \n",
      " 6   Location                3900 non-null   object \n",
      " 7   Size                    3900 non-null   object \n",
      " 8   Color                   3900 non-null   object \n",
      " 9   Season                  3900 non-null   object \n",
      " 10  Review Rating           3900 non-null   float64\n",
      " 11  Subscription Status     3900 non-null   object \n",
      " 12  Shipping Type           3900 non-null   object \n",
      " 13  Discount Applied        3900 non-null   object \n",
      " 14  Promo Code Used         3900 non-null   object \n",
      " 15  Previous Purchases      3900 non-null   int64  \n",
      " 16  Payment Method          3900 non-null   object \n",
      " 17  Frequency of Purchases  3900 non-null   object \n",
      "dtypes: float64(1), int64(4), object(13)\n",
      "memory usage: 548.6+ KB\n"
     ]
    }
   ],
   "source": [
    "df.info()"
   ]
  },
  {
   "cell_type": "code",
   "execution_count": 10,
   "id": "74764c6c",
   "metadata": {},
   "outputs": [
    {
     "data": {
      "text/html": [
       "<div>\n",
       "<style scoped>\n",
       "    .dataframe tbody tr th:only-of-type {\n",
       "        vertical-align: middle;\n",
       "    }\n",
       "\n",
       "    .dataframe tbody tr th {\n",
       "        vertical-align: top;\n",
       "    }\n",
       "\n",
       "    .dataframe thead th {\n",
       "        text-align: right;\n",
       "    }\n",
       "</style>\n",
       "<table border=\"1\" class=\"dataframe\">\n",
       "  <thead>\n",
       "    <tr style=\"text-align: right;\">\n",
       "      <th></th>\n",
       "      <th>Customer ID</th>\n",
       "      <th>Age</th>\n",
       "      <th>Purchase Amount (USD)</th>\n",
       "      <th>Review Rating</th>\n",
       "      <th>Previous Purchases</th>\n",
       "    </tr>\n",
       "  </thead>\n",
       "  <tbody>\n",
       "    <tr>\n",
       "      <th>count</th>\n",
       "      <td>3900.000000</td>\n",
       "      <td>3900.000000</td>\n",
       "      <td>3900.000000</td>\n",
       "      <td>3900.000000</td>\n",
       "      <td>3900.000000</td>\n",
       "    </tr>\n",
       "    <tr>\n",
       "      <th>mean</th>\n",
       "      <td>1950.500000</td>\n",
       "      <td>44.068462</td>\n",
       "      <td>59.764359</td>\n",
       "      <td>3.749949</td>\n",
       "      <td>25.351538</td>\n",
       "    </tr>\n",
       "    <tr>\n",
       "      <th>std</th>\n",
       "      <td>1125.977353</td>\n",
       "      <td>15.207589</td>\n",
       "      <td>23.685392</td>\n",
       "      <td>0.716223</td>\n",
       "      <td>14.447125</td>\n",
       "    </tr>\n",
       "    <tr>\n",
       "      <th>min</th>\n",
       "      <td>1.000000</td>\n",
       "      <td>18.000000</td>\n",
       "      <td>20.000000</td>\n",
       "      <td>2.500000</td>\n",
       "      <td>1.000000</td>\n",
       "    </tr>\n",
       "    <tr>\n",
       "      <th>25%</th>\n",
       "      <td>975.750000</td>\n",
       "      <td>31.000000</td>\n",
       "      <td>39.000000</td>\n",
       "      <td>3.100000</td>\n",
       "      <td>13.000000</td>\n",
       "    </tr>\n",
       "    <tr>\n",
       "      <th>50%</th>\n",
       "      <td>1950.500000</td>\n",
       "      <td>44.000000</td>\n",
       "      <td>60.000000</td>\n",
       "      <td>3.700000</td>\n",
       "      <td>25.000000</td>\n",
       "    </tr>\n",
       "    <tr>\n",
       "      <th>75%</th>\n",
       "      <td>2925.250000</td>\n",
       "      <td>57.000000</td>\n",
       "      <td>81.000000</td>\n",
       "      <td>4.400000</td>\n",
       "      <td>38.000000</td>\n",
       "    </tr>\n",
       "    <tr>\n",
       "      <th>max</th>\n",
       "      <td>3900.000000</td>\n",
       "      <td>70.000000</td>\n",
       "      <td>100.000000</td>\n",
       "      <td>5.000000</td>\n",
       "      <td>50.000000</td>\n",
       "    </tr>\n",
       "  </tbody>\n",
       "</table>\n",
       "</div>"
      ],
      "text/plain": [
       "       Customer ID          Age  Purchase Amount (USD)  Review Rating  \\\n",
       "count  3900.000000  3900.000000            3900.000000    3900.000000   \n",
       "mean   1950.500000    44.068462              59.764359       3.749949   \n",
       "std    1125.977353    15.207589              23.685392       0.716223   \n",
       "min       1.000000    18.000000              20.000000       2.500000   \n",
       "25%     975.750000    31.000000              39.000000       3.100000   \n",
       "50%    1950.500000    44.000000              60.000000       3.700000   \n",
       "75%    2925.250000    57.000000              81.000000       4.400000   \n",
       "max    3900.000000    70.000000             100.000000       5.000000   \n",
       "\n",
       "       Previous Purchases  \n",
       "count         3900.000000  \n",
       "mean            25.351538  \n",
       "std             14.447125  \n",
       "min              1.000000  \n",
       "25%             13.000000  \n",
       "50%             25.000000  \n",
       "75%             38.000000  \n",
       "max             50.000000  "
      ]
     },
     "execution_count": 10,
     "metadata": {},
     "output_type": "execute_result"
    }
   ],
   "source": [
    "df.describe()"
   ]
  },
  {
   "cell_type": "code",
   "execution_count": 11,
   "id": "6708990e",
   "metadata": {},
   "outputs": [
    {
     "data": {
      "text/html": [
       "<div>\n",
       "<style scoped>\n",
       "    .dataframe tbody tr th:only-of-type {\n",
       "        vertical-align: middle;\n",
       "    }\n",
       "\n",
       "    .dataframe tbody tr th {\n",
       "        vertical-align: top;\n",
       "    }\n",
       "\n",
       "    .dataframe thead th {\n",
       "        text-align: right;\n",
       "    }\n",
       "</style>\n",
       "<table border=\"1\" class=\"dataframe\">\n",
       "  <thead>\n",
       "    <tr style=\"text-align: right;\">\n",
       "      <th></th>\n",
       "      <th>Gender</th>\n",
       "      <th>Item Purchased</th>\n",
       "      <th>Category</th>\n",
       "      <th>Location</th>\n",
       "      <th>Size</th>\n",
       "      <th>Color</th>\n",
       "      <th>Season</th>\n",
       "      <th>Subscription Status</th>\n",
       "      <th>Shipping Type</th>\n",
       "      <th>Discount Applied</th>\n",
       "      <th>Promo Code Used</th>\n",
       "      <th>Payment Method</th>\n",
       "      <th>Frequency of Purchases</th>\n",
       "    </tr>\n",
       "  </thead>\n",
       "  <tbody>\n",
       "    <tr>\n",
       "      <th>count</th>\n",
       "      <td>3900</td>\n",
       "      <td>3900</td>\n",
       "      <td>3900</td>\n",
       "      <td>3900</td>\n",
       "      <td>3900</td>\n",
       "      <td>3900</td>\n",
       "      <td>3900</td>\n",
       "      <td>3900</td>\n",
       "      <td>3900</td>\n",
       "      <td>3900</td>\n",
       "      <td>3900</td>\n",
       "      <td>3900</td>\n",
       "      <td>3900</td>\n",
       "    </tr>\n",
       "    <tr>\n",
       "      <th>unique</th>\n",
       "      <td>2</td>\n",
       "      <td>25</td>\n",
       "      <td>4</td>\n",
       "      <td>50</td>\n",
       "      <td>4</td>\n",
       "      <td>25</td>\n",
       "      <td>4</td>\n",
       "      <td>2</td>\n",
       "      <td>6</td>\n",
       "      <td>2</td>\n",
       "      <td>2</td>\n",
       "      <td>6</td>\n",
       "      <td>7</td>\n",
       "    </tr>\n",
       "    <tr>\n",
       "      <th>top</th>\n",
       "      <td>Male</td>\n",
       "      <td>Blouse</td>\n",
       "      <td>Clothing</td>\n",
       "      <td>Montana</td>\n",
       "      <td>M</td>\n",
       "      <td>Olive</td>\n",
       "      <td>Spring</td>\n",
       "      <td>No</td>\n",
       "      <td>Free Shipping</td>\n",
       "      <td>No</td>\n",
       "      <td>No</td>\n",
       "      <td>PayPal</td>\n",
       "      <td>Every 3 Months</td>\n",
       "    </tr>\n",
       "    <tr>\n",
       "      <th>freq</th>\n",
       "      <td>2652</td>\n",
       "      <td>171</td>\n",
       "      <td>1737</td>\n",
       "      <td>96</td>\n",
       "      <td>1755</td>\n",
       "      <td>177</td>\n",
       "      <td>999</td>\n",
       "      <td>2847</td>\n",
       "      <td>675</td>\n",
       "      <td>2223</td>\n",
       "      <td>2223</td>\n",
       "      <td>677</td>\n",
       "      <td>584</td>\n",
       "    </tr>\n",
       "  </tbody>\n",
       "</table>\n",
       "</div>"
      ],
      "text/plain": [
       "       Gender Item Purchased  Category Location  Size  Color  Season  \\\n",
       "count    3900           3900      3900     3900  3900   3900    3900   \n",
       "unique      2             25         4       50     4     25       4   \n",
       "top      Male         Blouse  Clothing  Montana     M  Olive  Spring   \n",
       "freq     2652            171      1737       96  1755    177     999   \n",
       "\n",
       "       Subscription Status  Shipping Type Discount Applied Promo Code Used  \\\n",
       "count                 3900           3900             3900            3900   \n",
       "unique                   2              6                2               2   \n",
       "top                     No  Free Shipping               No              No   \n",
       "freq                  2847            675             2223            2223   \n",
       "\n",
       "       Payment Method Frequency of Purchases  \n",
       "count            3900                   3900  \n",
       "unique              6                      7  \n",
       "top            PayPal         Every 3 Months  \n",
       "freq              677                    584  "
      ]
     },
     "execution_count": 11,
     "metadata": {},
     "output_type": "execute_result"
    }
   ],
   "source": [
    "df.describe(include=\"object\")"
   ]
  },
  {
   "cell_type": "markdown",
   "id": "f27e25bd",
   "metadata": {},
   "source": [
    "# **<font size=21px color=\"solid red\">INDEX</font>**"
   ]
  },
  {
   "cell_type": "markdown",
   "id": "28c071a0",
   "metadata": {},
   "source": [
    "### [--Customer-ID](#Customer-ID)\n",
    "### [--Age](#Age)\n",
    "### [--Gender](#Gender)\n",
    "### [--Item-Purchased](#Item-Purchased)\n",
    "### [--Category](#Category)\n",
    "### [--Purchase-Amount-(USD)](#Purchase-Amount-(USD))\n",
    "### [--Location](#Location)\n",
    "### [--Size](#Size)\n",
    "### [--Color](#Color)\n",
    "### [--Season](#Season)\n",
    "### [--Review-Rating](#Review-Rating)\n",
    "### [--Subscription-Status](#Subscription-Status)\n",
    "### [--Shipping-Type](#Shipping-Type)\n",
    "### [--Discount-Applied](#Discount-Applied)\n",
    "### [--Promo-Code-Used](#Promo-Code-Used)\n",
    "### [--Previous-Purchases](#Previous-Purchases)\n",
    "### [--Payment-Method](#Payment-Method)\n",
    "### [--Frequency-of-Purchases](#Frequency-of-Purchases)"
   ]
  },
  {
   "cell_type": "markdown",
   "id": "14ff34e3",
   "metadata": {},
   "source": [
    "<hr style=\"border: 2px solid lime;\">"
   ]
  },
  {
   "cell_type": "markdown",
   "id": "da17bcbc",
   "metadata": {},
   "source": [
    "# **<font size=17px color=\"lightgreen\">Customer ID</font>**"
   ]
  },
  {
   "cell_type": "code",
   "execution_count": 12,
   "id": "83d99a90",
   "metadata": {},
   "outputs": [
    {
     "name": "stdout",
     "output_type": "stream",
     "text": [
      "0    1\n",
      "1    2\n",
      "2    3\n",
      "3    4\n",
      "4    5\n",
      "Name: Customer ID, dtype: int64\n",
      "\n",
      "*********************\n",
      "\n",
      "top 5 sorted values\n",
      "0    1\n",
      "1    2\n",
      "2    3\n",
      "3    4\n",
      "4    5\n",
      "Name: Customer ID, dtype: int64\n",
      "\n",
      "*********************\n",
      "\n",
      "bottom 5 sorted values\n",
      "3895    3896\n",
      "3896    3897\n",
      "3897    3898\n",
      "3898    3899\n",
      "3899    3900\n",
      "Name: Customer ID, dtype: int64\n"
     ]
    }
   ],
   "source": [
    "print(f\"{df['Customer ID'].head(5)}\\n\\n{'*'*21}\\n\\ntop 5 sorted values\\n{df['Customer ID'].sort_values().head(5)}\\n\\n{'*'*21}\\n\\nbottom 5 sorted values\\n{df['Customer ID'].sort_values().tail(5)}\")"
   ]
  },
  {
   "cell_type": "markdown",
   "id": "f2422a53",
   "metadata": {},
   "source": [
    "### <font size=5px color='blue'>data operation</font>"
   ]
  },
  {
   "cell_type": "code",
   "execution_count": 13,
   "id": "a20970f9",
   "metadata": {},
   "outputs": [
    {
     "name": "stdout",
     "output_type": "stream",
     "text": [
      "null value in [Customer ID] == 0\n"
     ]
    }
   ],
   "source": [
    "print('null value in [Customer ID] == {}'.format(df['Customer ID'].isnull().sum()))"
   ]
  },
  {
   "cell_type": "code",
   "execution_count": 14,
   "id": "398e98cf",
   "metadata": {},
   "outputs": [
    {
     "name": "stdout",
     "output_type": "stream",
     "text": [
      "unique values in [Customer ID] == 3900\n"
     ]
    }
   ],
   "source": [
    "print(f'unique values in [Customer ID] == {df['Customer ID'].nunique()}')"
   ]
  },
  {
   "cell_type": "code",
   "execution_count": 15,
   "id": "0cee5593",
   "metadata": {},
   "outputs": [
    {
     "name": "stdout",
     "output_type": "stream",
     "text": [
      "top 5 unique values:\n",
      "value - count : Customer ID\n",
      "3900    1\n",
      "1       1\n",
      "2       1\n",
      "3       1\n",
      "4       1\n",
      "Name: count, dtype: int64\n",
      "\n",
      "*********************\n",
      "\n",
      "bottom 5 unique value:\n",
      "value - count :  Customer ID\n",
      "32    1\n",
      "33    1\n",
      "34    1\n",
      "35    1\n",
      "36    1\n",
      "Name: count, dtype: int64\n"
     ]
    }
   ],
   "source": [
    "print(f'top 5 unique values:\\nvalue - count : {df['Customer ID'].value_counts()[:5]}\\n\\n{'*'*21}\\n\\nbottom 5 unique value:\\nvalue - count :  {df['Customer ID'].value_counts()[-5:]}')"
   ]
  },
  {
   "cell_type": "markdown",
   "id": "dbb85b67",
   "metadata": {},
   "source": [
    "#### <font size= 3.5px color='blue'>dtype</font>"
   ]
  },
  {
   "cell_type": "code",
   "execution_count": 16,
   "id": "ff7780bb",
   "metadata": {},
   "outputs": [
    {
     "data": {
      "text/plain": [
       "dtype('int64')"
      ]
     },
     "execution_count": 16,
     "metadata": {},
     "output_type": "execute_result"
    }
   ],
   "source": [
    "df['Customer ID'].dtype\n",
    "# format if dtype is wrong"
   ]
  },
  {
   "cell_type": "code",
   "execution_count": 17,
   "id": "81d0d4c2",
   "metadata": {},
   "outputs": [],
   "source": [
    "## see non numeric value in column\n",
    "\n",
    "## Identify non-numeric values using boolean indexing\n",
    "# non_numeric_value = df['Customer ID'][numeric_column.isna()]\n",
    "# print(non_numeric_value)\n",
    "\n",
    "## Convert the column to numeric, coercing non-numeric values to NaN\n",
    "# numeric_column = pd.to_numeric(df['Customer ID'], errors='coerce')\n",
    "\n"
   ]
  },
  {
   "cell_type": "code",
   "execution_count": 18,
   "id": "622ebd3b",
   "metadata": {},
   "outputs": [],
   "source": [
    "# format opreation\n",
    "# if dtype is numeric skip this 4 cell\n"
   ]
  },
  {
   "cell_type": "code",
   "execution_count": 19,
   "id": "babecb1c",
   "metadata": {},
   "outputs": [],
   "source": [
    "# key = df['Customer ID'].unique().tolist()\n",
    "# values = []  ## assign your values here\n",
    "# print(key)\n",
    "# print(values)  ## len of key and values should be same"
   ]
  },
  {
   "cell_type": "code",
   "execution_count": 20,
   "id": "90881c3f",
   "metadata": {},
   "outputs": [],
   "source": [
    "# Customer ID = dict(zip(key,values)) # label data in 'key': value pair\n",
    "# label['Customer ID'] = Customer ID # store data label dict in main dict actually it's updating/"
   ]
  },
  {
   "cell_type": "code",
   "execution_count": 21,
   "id": "69478698",
   "metadata": {},
   "outputs": [],
   "source": [
    "# df['Customer ID'].replace(Customer ID, inplace=True)\n",
    "# print('Modified DataFrame:')\n",
    "# print(df['Customer ID'].head(10))"
   ]
  },
  {
   "cell_type": "code",
   "execution_count": 22,
   "id": "2473757d",
   "metadata": {},
   "outputs": [
    {
     "data": {
      "text/plain": [
       "array([   1,    2,    3, ..., 3898, 3899, 3900])"
      ]
     },
     "execution_count": 22,
     "metadata": {},
     "output_type": "execute_result"
    }
   ],
   "source": [
    "df['Customer ID'].unique()"
   ]
  },
  {
   "cell_type": "code",
   "execution_count": 23,
   "id": "f27ddd2b",
   "metadata": {},
   "outputs": [
    {
     "data": {
      "text/plain": [
       "Text(0, 0.5, 'Customer ID values')"
      ]
     },
     "execution_count": 23,
     "metadata": {},
     "output_type": "execute_result"
    },
    {
     "data": {
      "image/png": "[encoded data removed]",
      "text/plain": [
       "<Figure size 1000x700 with 1 Axes>"
      ]
     },
     "metadata": {},
     "output_type": "display_data"
    },
    {
     "data": {
      "image/png": "[encoded data removed]",
      "text/plain": [
       "<Figure size 1000x700 with 1 Axes>"
      ]
     },
     "metadata": {},
     "output_type": "display_data"
    }
   ],
   "source": [
    "# First plot - Distribution plot\n",
    "plt.figure(figsize=(10, 7))\n",
    "sns.distplot(df['Customer ID'])\n",
    "plt.title('Distribution Plot for Customer ID')  # Title for the plot\n",
    "plt.xlabel('Customer ID Values')  # X-axis label\n",
    "plt.ylabel('Density')  # Y-axis label\n",
    "\n",
    "# Second plot - Boxplot\n",
    "plt.figure(figsize=(10, 7))\n",
    "sns.boxplot(df['Customer ID'],orient='h')\n",
    "plt.title('Box Plot for Customer ID')  # Title for the plot\n",
    "plt.xlabel('Customer ID')  # X-axis label\n",
    "plt.ylabel('Customer ID values')"
   ]
  },
  {
   "cell_type": "markdown",
   "id": "f59bfc0e",
   "metadata": {},
   "source": [
    "<font size=3.5px color='bblue'> # type some insight here </font>"
   ]
  },
  {
   "cell_type": "markdown",
   "id": "d948a324",
   "metadata": {},
   "source": [
    "#### <font size=3.5px color = 'blue'>clean data here</font>"
   ]
  },
  {
   "cell_type": "code",
   "execution_count": 24,
   "id": "cfbc0d69",
   "metadata": {},
   "outputs": [],
   "source": [
    "## for removing null value\n",
    "# df.dropna(subset=['Customer ID'], inplace=True)"
   ]
  },
  {
   "cell_type": "code",
   "execution_count": 25,
   "id": "a04c5f0d",
   "metadata": {},
   "outputs": [],
   "source": [
    "# mean = df['Customer ID'].mean()\n",
    "# print(mean)\n",
    "\n",
    "# median = df['Customer ID'].median()\n",
    "# print(median)\n",
    "\n",
    "# mode = df['Customer ID'].mode()\n",
    "# print(mode)"
   ]
  },
  {
   "cell_type": "code",
   "execution_count": 26,
   "id": "b9cd167c",
   "metadata": {},
   "outputs": [],
   "source": [
    "## Example 1: Replace missing values in a numerical column with the mean\n",
    "# df['Customer ID'].fillna(df['Customer ID'].mean(), inplace=True)\n",
    "\n",
    "## Example 2: Replace missing values in a numerical column with the median\n",
    "# df['Customer ID'].fillna(df['Customer ID'].median(), inplace=True)\n",
    "\n",
    "## Example 3: if **non-numeric**\n",
    "\n",
    "# df['Customer ID'].value_counts()\n",
    "\n",
    " ## Replace missing values in a categorical column with the mode\n",
    "# df['Customer ID'].fillna(df['Customer ID'].mode()[0], inplace=True)"
   ]
  },
  {
   "cell_type": "markdown",
   "id": "1007edd9",
   "metadata": {},
   "source": [
    "#### <font size=3.5px color = 'blue'>outliers</font>"
   ]
  },
  {
   "cell_type": "code",
   "execution_count": 27,
   "id": "eacf0d95",
   "metadata": {},
   "outputs": [],
   "source": [
    "# remove_outliers(df,'Customer ID')"
   ]
  },
  {
   "cell_type": "code",
   "execution_count": 28,
   "id": "feb6b4b1",
   "metadata": {},
   "outputs": [],
   "source": [
    "# print('null value in Customer IDc* == {}'.format(df['Customer ID']c*.isnull().sum()))"
   ]
  },
  {
   "cell_type": "code",
   "execution_count": 29,
   "id": "d6aeac69",
   "metadata": {},
   "outputs": [],
   "source": [
    "## Example 1: Replace missing values in a numerical column with the mean\n",
    "# df['Customer IDc*'].fillna(df['Customer IDc*'].mean(), inplace=True)\n",
    "\n",
    "## Example 2: Replace missing values in a numerical column with the median\n",
    "# df['Customer IDc*'].fillna(df['Customer IDc*'].median(), inplace=True)\n",
    "\n",
    "## Example 3: if **non-numeric**\n",
    "\n",
    "# df['Customer IDc*'].value_counts()\n",
    "\n",
    " ## Replace missing values in a categorical column with the mode\n",
    "# df['Customer IDc*'].fillna(df['Customer IDc*'].mode()[0], inplace=True)"
   ]
  },
  {
   "cell_type": "markdown",
   "id": "8063ca53",
   "metadata": {},
   "source": [
    "### **<font size = 5px color = 'lime'>verify the process</font>**"
   ]
  },
  {
   "cell_type": "code",
   "execution_count": 30,
   "id": "10ea220f",
   "metadata": {},
   "outputs": [
    {
     "data": {
      "text/html": [
       "<div>\n",
       "<style scoped>\n",
       "    .dataframe tbody tr th:only-of-type {\n",
       "        vertical-align: middle;\n",
       "    }\n",
       "\n",
       "    .dataframe tbody tr th {\n",
       "        vertical-align: top;\n",
       "    }\n",
       "\n",
       "    .dataframe thead th {\n",
       "        text-align: right;\n",
       "    }\n",
       "</style>\n",
       "<table border=\"1\" class=\"dataframe\">\n",
       "  <thead>\n",
       "    <tr style=\"text-align: right;\">\n",
       "      <th></th>\n",
       "      <th>Customer ID</th>\n",
       "      <th>Age</th>\n",
       "      <th>Gender</th>\n",
       "      <th>Item Purchased</th>\n",
       "      <th>Category</th>\n",
       "      <th>Purchase Amount (USD)</th>\n",
       "      <th>Location</th>\n",
       "      <th>Size</th>\n",
       "      <th>Color</th>\n",
       "      <th>Season</th>\n",
       "      <th>Review Rating</th>\n",
       "      <th>Subscription Status</th>\n",
       "      <th>Shipping Type</th>\n",
       "      <th>Discount Applied</th>\n",
       "      <th>Promo Code Used</th>\n",
       "      <th>Previous Purchases</th>\n",
       "      <th>Payment Method</th>\n",
       "      <th>Frequency of Purchases</th>\n",
       "    </tr>\n",
       "  </thead>\n",
       "  <tbody>\n",
       "    <tr>\n",
       "      <th>0</th>\n",
       "      <td>1</td>\n",
       "      <td>55</td>\n",
       "      <td>Male</td>\n",
       "      <td>Blouse</td>\n",
       "      <td>Clothing</td>\n",
       "      <td>53</td>\n",
       "      <td>Kentucky</td>\n",
       "      <td>L</td>\n",
       "      <td>Gray</td>\n",
       "      <td>Winter</td>\n",
       "      <td>3.1</td>\n",
       "      <td>Yes</td>\n",
       "      <td>Express</td>\n",
       "      <td>Yes</td>\n",
       "      <td>Yes</td>\n",
       "      <td>14</td>\n",
       "      <td>Venmo</td>\n",
       "      <td>Fortnightly</td>\n",
       "    </tr>\n",
       "    <tr>\n",
       "      <th>1</th>\n",
       "      <td>2</td>\n",
       "      <td>19</td>\n",
       "      <td>Male</td>\n",
       "      <td>Sweater</td>\n",
       "      <td>Clothing</td>\n",
       "      <td>64</td>\n",
       "      <td>Maine</td>\n",
       "      <td>L</td>\n",
       "      <td>Maroon</td>\n",
       "      <td>Winter</td>\n",
       "      <td>3.1</td>\n",
       "      <td>Yes</td>\n",
       "      <td>Express</td>\n",
       "      <td>Yes</td>\n",
       "      <td>Yes</td>\n",
       "      <td>2</td>\n",
       "      <td>Cash</td>\n",
       "      <td>Fortnightly</td>\n",
       "    </tr>\n",
       "    <tr>\n",
       "      <th>2</th>\n",
       "      <td>3</td>\n",
       "      <td>50</td>\n",
       "      <td>Male</td>\n",
       "      <td>Jeans</td>\n",
       "      <td>Clothing</td>\n",
       "      <td>73</td>\n",
       "      <td>Massachusetts</td>\n",
       "      <td>S</td>\n",
       "      <td>Maroon</td>\n",
       "      <td>Spring</td>\n",
       "      <td>3.1</td>\n",
       "      <td>Yes</td>\n",
       "      <td>Free Shipping</td>\n",
       "      <td>Yes</td>\n",
       "      <td>Yes</td>\n",
       "      <td>23</td>\n",
       "      <td>Credit Card</td>\n",
       "      <td>Weekly</td>\n",
       "    </tr>\n",
       "    <tr>\n",
       "      <th>3</th>\n",
       "      <td>4</td>\n",
       "      <td>21</td>\n",
       "      <td>Male</td>\n",
       "      <td>Sandals</td>\n",
       "      <td>Footwear</td>\n",
       "      <td>90</td>\n",
       "      <td>Rhode Island</td>\n",
       "      <td>M</td>\n",
       "      <td>Maroon</td>\n",
       "      <td>Spring</td>\n",
       "      <td>3.5</td>\n",
       "      <td>Yes</td>\n",
       "      <td>Next Day Air</td>\n",
       "      <td>Yes</td>\n",
       "      <td>Yes</td>\n",
       "      <td>49</td>\n",
       "      <td>PayPal</td>\n",
       "      <td>Weekly</td>\n",
       "    </tr>\n",
       "    <tr>\n",
       "      <th>4</th>\n",
       "      <td>5</td>\n",
       "      <td>45</td>\n",
       "      <td>Male</td>\n",
       "      <td>Blouse</td>\n",
       "      <td>Clothing</td>\n",
       "      <td>49</td>\n",
       "      <td>Oregon</td>\n",
       "      <td>M</td>\n",
       "      <td>Turquoise</td>\n",
       "      <td>Spring</td>\n",
       "      <td>2.7</td>\n",
       "      <td>Yes</td>\n",
       "      <td>Free Shipping</td>\n",
       "      <td>Yes</td>\n",
       "      <td>Yes</td>\n",
       "      <td>31</td>\n",
       "      <td>PayPal</td>\n",
       "      <td>Annually</td>\n",
       "    </tr>\n",
       "  </tbody>\n",
       "</table>\n",
       "</div>"
      ],
      "text/plain": [
       "   Customer ID  Age Gender Item Purchased  Category  Purchase Amount (USD)  \\\n",
       "0            1   55   Male         Blouse  Clothing                     53   \n",
       "1            2   19   Male        Sweater  Clothing                     64   \n",
       "2            3   50   Male          Jeans  Clothing                     73   \n",
       "3            4   21   Male        Sandals  Footwear                     90   \n",
       "4            5   45   Male         Blouse  Clothing                     49   \n",
       "\n",
       "        Location Size      Color  Season  Review Rating Subscription Status  \\\n",
       "0       Kentucky    L       Gray  Winter            3.1                 Yes   \n",
       "1          Maine    L     Maroon  Winter            3.1                 Yes   \n",
       "2  Massachusetts    S     Maroon  Spring            3.1                 Yes   \n",
       "3   Rhode Island    M     Maroon  Spring            3.5                 Yes   \n",
       "4         Oregon    M  Turquoise  Spring            2.7                 Yes   \n",
       "\n",
       "   Shipping Type Discount Applied Promo Code Used  Previous Purchases  \\\n",
       "0        Express              Yes             Yes                  14   \n",
       "1        Express              Yes             Yes                   2   \n",
       "2  Free Shipping              Yes             Yes                  23   \n",
       "3   Next Day Air              Yes             Yes                  49   \n",
       "4  Free Shipping              Yes             Yes                  31   \n",
       "\n",
       "  Payment Method Frequency of Purchases  \n",
       "0          Venmo            Fortnightly  \n",
       "1           Cash            Fortnightly  \n",
       "2    Credit Card                 Weekly  \n",
       "3         PayPal                 Weekly  \n",
       "4         PayPal               Annually  "
      ]
     },
     "execution_count": 30,
     "metadata": {},
     "output_type": "execute_result"
    }
   ],
   "source": [
    "df.head()"
   ]
  },
  {
   "cell_type": "code",
   "execution_count": 31,
   "id": "41631e6e",
   "metadata": {},
   "outputs": [
    {
     "name": "stdout",
     "output_type": "stream",
     "text": [
      "null value in [Customer ID] == 0\n"
     ]
    }
   ],
   "source": [
    "print('null value in [Customer ID] == {}'.format(df['Customer ID'].isnull().sum()))\n",
    "# print('\\n---\\n')\n",
    "# print('null value in Customer IDc* == {}'.format(df['Customer IDc*'].isnull().sum()))"
   ]
  },
  {
   "cell_type": "code",
   "execution_count": 32,
   "id": "2458230d",
   "metadata": {},
   "outputs": [
    {
     "name": "stdout",
     "output_type": "stream",
     "text": [
      "The dtype of [Customer ID] == int64\n"
     ]
    }
   ],
   "source": [
    "print(f'The dtype of [Customer ID] == {df['Customer ID'].dtype}')\n",
    "# print('\\n---\\n')\n",
    "# print(f'The dtype of Customer IDc* is {df['Customer IDc*'].dtype}')"
   ]
  },
  {
   "cell_type": "code",
   "execution_count": 33,
   "id": "f7b51d5a",
   "metadata": {},
   "outputs": [],
   "source": [
    "## First plot - Distribution plot\n",
    "# plt.figure(figsize=(10, 7))\n",
    "# sns.distplot(df['Customer IDc*'])\n",
    "# plt.title('Distribution Plot for Customer IDc*')  ## Title for the plot\n",
    "# plt.xlabel('Customer IDc* Values')  ## X-axis label\n",
    "# plt.ylabel('Density')  ## Y-axis label\n",
    "\n",
    "## Second plot - Boxplot\n",
    "# plt.figure(figsize=(10, 7))\n",
    "# sns.boxplot(df['Customer IDc*'],orient='h')\n",
    "# plt.title('Box Plot for Customer IDc*')  ## Title for the plot\n",
    "# plt.xlabel('Customer IDc*')  ## X-axis label\n",
    "# plt.ylabel('Customer IDc* values')"
   ]
  },
  {
   "cell_type": "code",
   "execution_count": 34,
   "id": "55b969ac",
   "metadata": {},
   "outputs": [],
   "source": [
    "# more plot ?\n"
   ]
  },
  {
   "cell_type": "markdown",
   "id": "303d368a",
   "metadata": {},
   "source": [
    "<font size=5px color='bblue'> # type some insight here </font>"
   ]
  },
  {
   "cell_type": "markdown",
   "id": "38dd2739",
   "metadata": {},
   "source": [
    "<hr style=\"border: 2px solid magenta;\">"
   ]
  },
  {
   "cell_type": "markdown",
   "id": "40925c9f",
   "metadata": {},
   "source": [
    "## [***](#INDEX)"
   ]
  },
  {
   "cell_type": "markdown",
   "id": "7000943c",
   "metadata": {},
   "source": [
    "<hr style=\"border: 2px solid lime;\">"
   ]
  },
  {
   "cell_type": "markdown",
   "id": "816b08fc",
   "metadata": {},
   "source": [
    "# **<font size=17px color=\"lightgreen\">Age</font>**"
   ]
  },
  {
   "cell_type": "code",
   "execution_count": 35,
   "id": "e10e27e5",
   "metadata": {},
   "outputs": [
    {
     "name": "stdout",
     "output_type": "stream",
     "text": [
      "0    55\n",
      "1    19\n",
      "2    50\n",
      "3    21\n",
      "4    45\n",
      "Name: Age, dtype: int64\n",
      "\n",
      "*********************\n",
      "\n",
      "top 5 sorted values\n",
      "2498    18\n",
      "24      18\n",
      "643     18\n",
      "2717    18\n",
      "357     18\n",
      "Name: Age, dtype: int64\n",
      "\n",
      "*********************\n",
      "\n",
      "bottom 5 sorted values\n",
      "1244    70\n",
      "3010    70\n",
      "3067    70\n",
      "2888    70\n",
      "685     70\n",
      "Name: Age, dtype: int64\n"
     ]
    }
   ],
   "source": [
    "print(f\"{df['Age'].head(5)}\\n\\n{'*'*21}\\n\\ntop 5 sorted values\\n{df['Age'].sort_values().head(5)}\\n\\n{'*'*21}\\n\\nbottom 5 sorted values\\n{df['Age'].sort_values().tail(5)}\")"
   ]
  },
  {
   "cell_type": "markdown",
   "id": "a51bfdd6",
   "metadata": {},
   "source": [
    "### <font size=5px color='blue'>data operation</font>"
   ]
  },
  {
   "cell_type": "code",
   "execution_count": 36,
   "id": "3932ef48",
   "metadata": {},
   "outputs": [
    {
     "name": "stdout",
     "output_type": "stream",
     "text": [
      "null value in [Age] == 0\n"
     ]
    }
   ],
   "source": [
    "print('null value in [Age] == {}'.format(df['Age'].isnull().sum()))"
   ]
  },
  {
   "cell_type": "code",
   "execution_count": 37,
   "id": "0970bb1b",
   "metadata": {},
   "outputs": [
    {
     "name": "stdout",
     "output_type": "stream",
     "text": [
      "unique values in [Age] == 53\n"
     ]
    }
   ],
   "source": [
    "print(f'unique values in [Age] == {df['Age'].nunique()}')"
   ]
  },
  {
   "cell_type": "code",
   "execution_count": 38,
   "id": "62948318",
   "metadata": {},
   "outputs": [
    {
     "name": "stdout",
     "output_type": "stream",
     "text": [
      "top 5 unique values:\n",
      "value - count : Age\n",
      "69    88\n",
      "57    87\n",
      "41    86\n",
      "25    85\n",
      "49    84\n",
      "Name: count, dtype: int64\n",
      "\n",
      "*********************\n",
      "\n",
      "bottom 5 unique value:\n",
      "value - count :  Age\n",
      "60    65\n",
      "33    63\n",
      "20    62\n",
      "67    54\n",
      "44    51\n",
      "Name: count, dtype: int64\n"
     ]
    }
   ],
   "source": [
    "print(f'top 5 unique values:\\nvalue - count : {df['Age'].value_counts()[:5]}\\n\\n{'*'*21}\\n\\nbottom 5 unique value:\\nvalue - count :  {df['Age'].value_counts()[-5:]}')"
   ]
  },
  {
   "cell_type": "markdown",
   "id": "41c82e18",
   "metadata": {},
   "source": [
    "#### <font size= 3.5px color='blue'>dtype</font>"
   ]
  },
  {
   "cell_type": "code",
   "execution_count": 39,
   "id": "2b17ac0f",
   "metadata": {},
   "outputs": [
    {
     "data": {
      "text/plain": [
       "dtype('int64')"
      ]
     },
     "execution_count": 39,
     "metadata": {},
     "output_type": "execute_result"
    }
   ],
   "source": [
    "df['Age'].dtype\n",
    "# format if dtype is wrong"
   ]
  },
  {
   "cell_type": "code",
   "execution_count": 40,
   "id": "ee0f0cc4",
   "metadata": {},
   "outputs": [],
   "source": [
    "## see non numeric value in column\n",
    "\n",
    "## Identify non-numeric values using boolean indexing\n",
    "# non_numeric_value = df['Age'][numeric_column.isna()]\n",
    "# print(non_numeric_value)\n",
    "\n",
    "## Convert the column to numeric, coercing non-numeric values to NaN\n",
    "# numeric_column = pd.to_numeric(df['Age'], errors='coerce')\n",
    "\n"
   ]
  },
  {
   "cell_type": "code",
   "execution_count": 41,
   "id": "efced004",
   "metadata": {},
   "outputs": [],
   "source": [
    "# format opreation\n",
    "# if dtype is numeric skip this 4 cell\n"
   ]
  },
  {
   "cell_type": "code",
   "execution_count": 42,
   "id": "a4fea975",
   "metadata": {},
   "outputs": [],
   "source": [
    "# key = df['Age'].unique().tolist()\n",
    "# values = []  ## assign your values here\n",
    "# print(key)\n",
    "# print(values)  ## len of key and values should be same"
   ]
  },
  {
   "cell_type": "code",
   "execution_count": 43,
   "id": "3098470c",
   "metadata": {},
   "outputs": [],
   "source": [
    "# Age = dict(zip(key,values)) # label data in 'key': value pair\n",
    "# label['Age'] = Age # store data label dict in main dict actually it's updating/"
   ]
  },
  {
   "cell_type": "code",
   "execution_count": 44,
   "id": "10985ee6",
   "metadata": {},
   "outputs": [],
   "source": [
    "# df['Age'].replace(Age, inplace=True)\n",
    "# print('Modified DataFrame:')\n",
    "# print(df['Age'].head(10))"
   ]
  },
  {
   "cell_type": "code",
   "execution_count": 45,
   "id": "cfe48963",
   "metadata": {},
   "outputs": [
    {
     "data": {
      "text/plain": [
       "array([55, 19, 50, 21, 45, 46, 63, 27, 26, 57, 53, 30, 61, 65, 64, 25, 52,\n",
       "       66, 31, 56, 18, 38, 54, 33, 36, 35, 29, 70, 69, 67, 20, 39, 42, 68,\n",
       "       49, 59, 47, 40, 41, 48, 22, 24, 44, 37, 58, 32, 62, 51, 28, 43, 34,\n",
       "       23, 60])"
      ]
     },
     "execution_count": 45,
     "metadata": {},
     "output_type": "execute_result"
    }
   ],
   "source": [
    "df['Age'].unique()"
   ]
  },
  {
   "cell_type": "code",
   "execution_count": 46,
   "id": "02b21a3d",
   "metadata": {},
   "outputs": [
    {
     "data": {
      "text/plain": [
       "Text(0, 0.5, 'Age values')"
      ]
     },
     "execution_count": 46,
     "metadata": {},
     "output_type": "execute_result"
    },
    {
     "data": {
      "image/png": "[encoded data removed]",
      "text/plain": [
       "<Figure size 1000x700 with 1 Axes>"
      ]
     },
     "metadata": {},
     "output_type": "display_data"
    },
    {
     "data": {
      "image/png": "[encoded data removed]",
      "text/plain": [
       "<Figure size 1000x700 with 1 Axes>"
      ]
     },
     "metadata": {},
     "output_type": "display_data"
    }
   ],
   "source": [
    "# First plot - Distribution plot\n",
    "plt.figure(figsize=(10, 7))\n",
    "sns.distplot(df['Age'])\n",
    "plt.title('Distribution Plot for Age')  # Title for the plot\n",
    "plt.xlabel('Age Values')  # X-axis label\n",
    "plt.ylabel('Density')  # Y-axis label\n",
    "\n",
    "# Second plot - Boxplot\n",
    "plt.figure(figsize=(10, 7))\n",
    "sns.boxplot(df['Age'],orient='h')\n",
    "plt.title('Box Plot for Age')  # Title for the plot\n",
    "plt.xlabel('Age')  # X-axis label\n",
    "plt.ylabel('Age values')"
   ]
  },
  {
   "cell_type": "markdown",
   "id": "343b03c2",
   "metadata": {},
   "source": [
    "<font size=3.5px color='bblue'> # type some insight here </font>"
   ]
  },
  {
   "cell_type": "markdown",
   "id": "15d69705",
   "metadata": {},
   "source": [
    "#### <font size=3.5px color = 'blue'>clean data here</font>"
   ]
  },
  {
   "cell_type": "code",
   "execution_count": 47,
   "id": "a2f86754",
   "metadata": {},
   "outputs": [],
   "source": [
    "## for removing null value\n",
    "# df.dropna(subset=['Age'], inplace=True)"
   ]
  },
  {
   "cell_type": "code",
   "execution_count": 48,
   "id": "056aa580",
   "metadata": {},
   "outputs": [],
   "source": [
    "# mean = df['Age'].mean()\n",
    "# print(mean)\n",
    "\n",
    "# median = df['Age'].median()\n",
    "# print(median)\n",
    "\n",
    "# mode = df['Age'].mode()\n",
    "# print(mode)"
   ]
  },
  {
   "cell_type": "code",
   "execution_count": 49,
   "id": "6d9a9ee8",
   "metadata": {},
   "outputs": [],
   "source": [
    "## Example 1: Replace missing values in a numerical column with the mean\n",
    "# df['Age'].fillna(df['Age'].mean(), inplace=True)\n",
    "\n",
    "## Example 2: Replace missing values in a numerical column with the median\n",
    "# df['Age'].fillna(df['Age'].median(), inplace=True)\n",
    "\n",
    "## Example 3: if **non-numeric**\n",
    "\n",
    "# df['Age'].value_counts()\n",
    "\n",
    " ## Replace missing values in a categorical column with the mode\n",
    "# df['Age'].fillna(df['Age'].mode()[0], inplace=True)"
   ]
  },
  {
   "cell_type": "markdown",
   "id": "12aec460",
   "metadata": {},
   "source": [
    "#### <font size=3.5px color = 'blue'>outliers</font>"
   ]
  },
  {
   "cell_type": "code",
   "execution_count": 50,
   "id": "fbd5c980",
   "metadata": {},
   "outputs": [],
   "source": [
    "# remove_outliers(df,'Age')"
   ]
  },
  {
   "cell_type": "code",
   "execution_count": 51,
   "id": "395ec4be",
   "metadata": {},
   "outputs": [],
   "source": [
    "# print('null value in Agec* == {}'.format(df['Age']c*.isnull().sum()))"
   ]
  },
  {
   "cell_type": "code",
   "execution_count": 52,
   "id": "1d6fa2fa",
   "metadata": {},
   "outputs": [],
   "source": [
    "## Example 1: Replace missing values in a numerical column with the mean\n",
    "# df['Agec*'].fillna(df['Agec*'].mean(), inplace=True)\n",
    "\n",
    "## Example 2: Replace missing values in a numerical column with the median\n",
    "# df['Agec*'].fillna(df['Agec*'].median(), inplace=True)\n",
    "\n",
    "## Example 3: if **non-numeric**\n",
    "\n",
    "# df['Agec*'].value_counts()\n",
    "\n",
    " ## Replace missing values in a categorical column with the mode\n",
    "# df['Agec*'].fillna(df['Agec*'].mode()[0], inplace=True)"
   ]
  },
  {
   "cell_type": "markdown",
   "id": "84724ef5",
   "metadata": {},
   "source": [
    "### **<font size = 5px color = 'lime'>verify the process</font>**"
   ]
  },
  {
   "cell_type": "code",
   "execution_count": 53,
   "id": "1ff86f19",
   "metadata": {},
   "outputs": [
    {
     "data": {
      "text/html": [
       "<div>\n",
       "<style scoped>\n",
       "    .dataframe tbody tr th:only-of-type {\n",
       "        vertical-align: middle;\n",
       "    }\n",
       "\n",
       "    .dataframe tbody tr th {\n",
       "        vertical-align: top;\n",
       "    }\n",
       "\n",
       "    .dataframe thead th {\n",
       "        text-align: right;\n",
       "    }\n",
       "</style>\n",
       "<table border=\"1\" class=\"dataframe\">\n",
       "  <thead>\n",
       "    <tr style=\"text-align: right;\">\n",
       "      <th></th>\n",
       "      <th>Customer ID</th>\n",
       "      <th>Age</th>\n",
       "      <th>Gender</th>\n",
       "      <th>Item Purchased</th>\n",
       "      <th>Category</th>\n",
       "      <th>Purchase Amount (USD)</th>\n",
       "      <th>Location</th>\n",
       "      <th>Size</th>\n",
       "      <th>Color</th>\n",
       "      <th>Season</th>\n",
       "      <th>Review Rating</th>\n",
       "      <th>Subscription Status</th>\n",
       "      <th>Shipping Type</th>\n",
       "      <th>Discount Applied</th>\n",
       "      <th>Promo Code Used</th>\n",
       "      <th>Previous Purchases</th>\n",
       "      <th>Payment Method</th>\n",
       "      <th>Frequency of Purchases</th>\n",
       "    </tr>\n",
       "  </thead>\n",
       "  <tbody>\n",
       "    <tr>\n",
       "      <th>0</th>\n",
       "      <td>1</td>\n",
       "      <td>55</td>\n",
       "      <td>Male</td>\n",
       "      <td>Blouse</td>\n",
       "      <td>Clothing</td>\n",
       "      <td>53</td>\n",
       "      <td>Kentucky</td>\n",
       "      <td>L</td>\n",
       "      <td>Gray</td>\n",
       "      <td>Winter</td>\n",
       "      <td>3.1</td>\n",
       "      <td>Yes</td>\n",
       "      <td>Express</td>\n",
       "      <td>Yes</td>\n",
       "      <td>Yes</td>\n",
       "      <td>14</td>\n",
       "      <td>Venmo</td>\n",
       "      <td>Fortnightly</td>\n",
       "    </tr>\n",
       "    <tr>\n",
       "      <th>1</th>\n",
       "      <td>2</td>\n",
       "      <td>19</td>\n",
       "      <td>Male</td>\n",
       "      <td>Sweater</td>\n",
       "      <td>Clothing</td>\n",
       "      <td>64</td>\n",
       "      <td>Maine</td>\n",
       "      <td>L</td>\n",
       "      <td>Maroon</td>\n",
       "      <td>Winter</td>\n",
       "      <td>3.1</td>\n",
       "      <td>Yes</td>\n",
       "      <td>Express</td>\n",
       "      <td>Yes</td>\n",
       "      <td>Yes</td>\n",
       "      <td>2</td>\n",
       "      <td>Cash</td>\n",
       "      <td>Fortnightly</td>\n",
       "    </tr>\n",
       "    <tr>\n",
       "      <th>2</th>\n",
       "      <td>3</td>\n",
       "      <td>50</td>\n",
       "      <td>Male</td>\n",
       "      <td>Jeans</td>\n",
       "      <td>Clothing</td>\n",
       "      <td>73</td>\n",
       "      <td>Massachusetts</td>\n",
       "      <td>S</td>\n",
       "      <td>Maroon</td>\n",
       "      <td>Spring</td>\n",
       "      <td>3.1</td>\n",
       "      <td>Yes</td>\n",
       "      <td>Free Shipping</td>\n",
       "      <td>Yes</td>\n",
       "      <td>Yes</td>\n",
       "      <td>23</td>\n",
       "      <td>Credit Card</td>\n",
       "      <td>Weekly</td>\n",
       "    </tr>\n",
       "    <tr>\n",
       "      <th>3</th>\n",
       "      <td>4</td>\n",
       "      <td>21</td>\n",
       "      <td>Male</td>\n",
       "      <td>Sandals</td>\n",
       "      <td>Footwear</td>\n",
       "      <td>90</td>\n",
       "      <td>Rhode Island</td>\n",
       "      <td>M</td>\n",
       "      <td>Maroon</td>\n",
       "      <td>Spring</td>\n",
       "      <td>3.5</td>\n",
       "      <td>Yes</td>\n",
       "      <td>Next Day Air</td>\n",
       "      <td>Yes</td>\n",
       "      <td>Yes</td>\n",
       "      <td>49</td>\n",
       "      <td>PayPal</td>\n",
       "      <td>Weekly</td>\n",
       "    </tr>\n",
       "    <tr>\n",
       "      <th>4</th>\n",
       "      <td>5</td>\n",
       "      <td>45</td>\n",
       "      <td>Male</td>\n",
       "      <td>Blouse</td>\n",
       "      <td>Clothing</td>\n",
       "      <td>49</td>\n",
       "      <td>Oregon</td>\n",
       "      <td>M</td>\n",
       "      <td>Turquoise</td>\n",
       "      <td>Spring</td>\n",
       "      <td>2.7</td>\n",
       "      <td>Yes</td>\n",
       "      <td>Free Shipping</td>\n",
       "      <td>Yes</td>\n",
       "      <td>Yes</td>\n",
       "      <td>31</td>\n",
       "      <td>PayPal</td>\n",
       "      <td>Annually</td>\n",
       "    </tr>\n",
       "  </tbody>\n",
       "</table>\n",
       "</div>"
      ],
      "text/plain": [
       "   Customer ID  Age Gender Item Purchased  Category  Purchase Amount (USD)  \\\n",
       "0            1   55   Male         Blouse  Clothing                     53   \n",
       "1            2   19   Male        Sweater  Clothing                     64   \n",
       "2            3   50   Male          Jeans  Clothing                     73   \n",
       "3            4   21   Male        Sandals  Footwear                     90   \n",
       "4            5   45   Male         Blouse  Clothing                     49   \n",
       "\n",
       "        Location Size      Color  Season  Review Rating Subscription Status  \\\n",
       "0       Kentucky    L       Gray  Winter            3.1                 Yes   \n",
       "1          Maine    L     Maroon  Winter            3.1                 Yes   \n",
       "2  Massachusetts    S     Maroon  Spring            3.1                 Yes   \n",
       "3   Rhode Island    M     Maroon  Spring            3.5                 Yes   \n",
       "4         Oregon    M  Turquoise  Spring            2.7                 Yes   \n",
       "\n",
       "   Shipping Type Discount Applied Promo Code Used  Previous Purchases  \\\n",
       "0        Express              Yes             Yes                  14   \n",
       "1        Express              Yes             Yes                   2   \n",
       "2  Free Shipping              Yes             Yes                  23   \n",
       "3   Next Day Air              Yes             Yes                  49   \n",
       "4  Free Shipping              Yes             Yes                  31   \n",
       "\n",
       "  Payment Method Frequency of Purchases  \n",
       "0          Venmo            Fortnightly  \n",
       "1           Cash            Fortnightly  \n",
       "2    Credit Card                 Weekly  \n",
       "3         PayPal                 Weekly  \n",
       "4         PayPal               Annually  "
      ]
     },
     "execution_count": 53,
     "metadata": {},
     "output_type": "execute_result"
    }
   ],
   "source": [
    "df.head()"
   ]
  },
  {
   "cell_type": "code",
   "execution_count": 54,
   "id": "8f9373f4",
   "metadata": {},
   "outputs": [
    {
     "name": "stdout",
     "output_type": "stream",
     "text": [
      "null value in [Age] == 0\n"
     ]
    }
   ],
   "source": [
    "print('null value in [Age] == {}'.format(df['Age'].isnull().sum()))\n",
    "# print('\\n---\\n')\n",
    "# print('null value in Agec* == {}'.format(df['Agec*'].isnull().sum()))"
   ]
  },
  {
   "cell_type": "code",
   "execution_count": 55,
   "id": "e0cc7d39",
   "metadata": {},
   "outputs": [
    {
     "name": "stdout",
     "output_type": "stream",
     "text": [
      "The dtype of [Age] == int64\n"
     ]
    }
   ],
   "source": [
    "print(f'The dtype of [Age] == {df['Age'].dtype}')\n",
    "# print('\\n---\\n')\n",
    "# print(f'The dtype of Agec* is {df['Agec*'].dtype}')"
   ]
  },
  {
   "cell_type": "code",
   "execution_count": 56,
   "id": "b49c4ea2",
   "metadata": {},
   "outputs": [],
   "source": [
    "## First plot - Distribution plot\n",
    "# plt.figure(figsize=(10, 7))\n",
    "# sns.distplot(df['Agec*'])\n",
    "# plt.title('Distribution Plot for Agec*')  ## Title for the plot\n",
    "# plt.xlabel('Agec* Values')  ## X-axis label\n",
    "# plt.ylabel('Density')  ## Y-axis label\n",
    "\n",
    "## Second plot - Boxplot\n",
    "# plt.figure(figsize=(10, 7))\n",
    "# sns.boxplot(df['Agec*'],orient='h')\n",
    "# plt.title('Box Plot for Agec*')  ## Title for the plot\n",
    "# plt.xlabel('Agec*')  ## X-axis label\n",
    "# plt.ylabel('Agec* values')"
   ]
  },
  {
   "cell_type": "code",
   "execution_count": 57,
   "id": "c5b4b414",
   "metadata": {},
   "outputs": [],
   "source": [
    "# more plot ?\n"
   ]
  },
  {
   "cell_type": "markdown",
   "id": "a951e126",
   "metadata": {},
   "source": [
    "<font size=5px color='bblue'> # type some insight here </font>"
   ]
  },
  {
   "cell_type": "markdown",
   "id": "61e9927b",
   "metadata": {},
   "source": [
    "<hr style=\"border: 2px solid magenta;\">"
   ]
  },
  {
   "cell_type": "markdown",
   "id": "2bd6abe6",
   "metadata": {},
   "source": [
    "## [***](#INDEX)"
   ]
  },
  {
   "cell_type": "markdown",
   "id": "cce689b0",
   "metadata": {},
   "source": [
    "<hr style=\"border: 2px solid lime;\">"
   ]
  },
  {
   "cell_type": "markdown",
   "id": "85f9e0ca",
   "metadata": {},
   "source": [
    "# **<font size=17px color=\"lightgreen\">Gender</font>**"
   ]
  },
  {
   "cell_type": "code",
   "execution_count": 58,
   "id": "4334094b",
   "metadata": {},
   "outputs": [
    {
     "name": "stdout",
     "output_type": "stream",
     "text": [
      "0    Male\n",
      "1    Male\n",
      "2    Male\n",
      "3    Male\n",
      "4    Male\n",
      "Name: Gender, dtype: object\n",
      "\n",
      "*********************\n",
      "\n",
      "top 5 sorted values\n",
      "3899    Female\n",
      "3063    Female\n",
      "3064    Female\n",
      "3065    Female\n",
      "3066    Female\n",
      "Name: Gender, dtype: object\n",
      "\n",
      "*********************\n",
      "\n",
      "bottom 5 sorted values\n",
      "1305    Male\n",
      "1306    Male\n",
      "1307    Male\n",
      "1279    Male\n",
      "1949    Male\n",
      "Name: Gender, dtype: object\n"
     ]
    }
   ],
   "source": [
    "print(f\"{df['Gender'].head(5)}\\n\\n{'*'*21}\\n\\ntop 5 sorted values\\n{df['Gender'].sort_values().head(5)}\\n\\n{'*'*21}\\n\\nbottom 5 sorted values\\n{df['Gender'].sort_values().tail(5)}\")"
   ]
  },
  {
   "cell_type": "markdown",
   "id": "3f3406dd",
   "metadata": {},
   "source": [
    "### <font size=5px color='blue'>data operation</font>"
   ]
  },
  {
   "cell_type": "code",
   "execution_count": 59,
   "id": "186f626b",
   "metadata": {},
   "outputs": [
    {
     "name": "stdout",
     "output_type": "stream",
     "text": [
      "null value in [Gender] == 0\n"
     ]
    }
   ],
   "source": [
    "print('null value in [Gender] == {}'.format(df['Gender'].isnull().sum()))"
   ]
  },
  {
   "cell_type": "code",
   "execution_count": 60,
   "id": "b52baa35",
   "metadata": {},
   "outputs": [
    {
     "name": "stdout",
     "output_type": "stream",
     "text": [
      "unique values in [Gender] == 2\n"
     ]
    }
   ],
   "source": [
    "print(f'unique values in [Gender] == {df['Gender'].nunique()}')"
   ]
  },
  {
   "cell_type": "code",
   "execution_count": 61,
   "id": "3545a0b3",
   "metadata": {},
   "outputs": [
    {
     "name": "stdout",
     "output_type": "stream",
     "text": [
      "top 5 unique values:\n",
      "value - count : Gender\n",
      "Male      2652\n",
      "Female    1248\n",
      "Name: count, dtype: int64\n",
      "\n",
      "*********************\n",
      "\n",
      "bottom 5 unique value:\n",
      "value - count :  Gender\n",
      "Male      2652\n",
      "Female    1248\n",
      "Name: count, dtype: int64\n"
     ]
    }
   ],
   "source": [
    "print(f'top 5 unique values:\\nvalue - count : {df['Gender'].value_counts()[:5]}\\n\\n{'*'*21}\\n\\nbottom 5 unique value:\\nvalue - count :  {df['Gender'].value_counts()[-5:]}')"
   ]
  },
  {
   "cell_type": "markdown",
   "id": "aafb3bf5",
   "metadata": {},
   "source": [
    "#### <font size= 3.5px color='blue'>dtype</font>"
   ]
  },
  {
   "cell_type": "code",
   "execution_count": 62,
   "id": "d3951c36",
   "metadata": {},
   "outputs": [
    {
     "data": {
      "text/plain": [
       "dtype('O')"
      ]
     },
     "execution_count": 62,
     "metadata": {},
     "output_type": "execute_result"
    }
   ],
   "source": [
    "df['Gender'].dtype\n",
    "# format if dtype is wrong"
   ]
  },
  {
   "cell_type": "code",
   "execution_count": 63,
   "id": "69d63395",
   "metadata": {},
   "outputs": [],
   "source": [
    "## see non numeric value in column\n",
    "\n",
    "## Identify non-numeric values using boolean indexing\n",
    "# non_numeric_value = df['Gender'][numeric_column.isna()]\n",
    "# print(non_numeric_value)\n",
    "\n",
    "## Convert the column to numeric, coercing non-numeric values to NaN\n",
    "# numeric_column = pd.to_numeric(df['Gender'], errors='coerce')\n",
    "\n"
   ]
  },
  {
   "cell_type": "code",
   "execution_count": 64,
   "id": "0b2cc119",
   "metadata": {},
   "outputs": [],
   "source": [
    "# format opreation\n",
    "# if dtype is numeric skip this 4 cell\n"
   ]
  },
  {
   "cell_type": "code",
   "execution_count": 83,
   "id": "8a659e59",
   "metadata": {},
   "outputs": [
    {
     "name": "stdout",
     "output_type": "stream",
     "text": [
      "['Male', 'Female']\n",
      "[0, 1]\n"
     ]
    }
   ],
   "source": [
    "key = df['Gender'].unique().tolist()\n",
    "values = [0,1]  ## assign your values here\n",
    "print(key)\n",
    "print(values)  ## len of key and values should be same"
   ]
  },
  {
   "cell_type": "code",
   "execution_count": 84,
   "id": "0925cb1d",
   "metadata": {},
   "outputs": [],
   "source": [
    "Gender = dict(zip(key,values)) # label data in 'key': value pair\n",
    "label['Gender'] = Gender # store data label dict in main dict actually it's updating/"
   ]
  },
  {
   "cell_type": "code",
   "execution_count": 86,
   "id": "f86e8829",
   "metadata": {},
   "outputs": [
    {
     "name": "stdout",
     "output_type": "stream",
     "text": [
      "Modified DataFrame:\n",
      "0    0\n",
      "1    0\n",
      "2    0\n",
      "3    0\n",
      "4    0\n",
      "5    0\n",
      "6    0\n",
      "7    0\n",
      "8    0\n",
      "9    0\n",
      "Name: Gender, dtype: int64\n"
     ]
    }
   ],
   "source": [
    "df['Gender'].replace(Gender, inplace=True)\n",
    "print('Modified DataFrame:')\n",
    "print(df['Gender'].head(10))"
   ]
  },
  {
   "cell_type": "code",
   "execution_count": 87,
   "id": "86b990ca",
   "metadata": {},
   "outputs": [
    {
     "data": {
      "text/plain": [
       "array([0, 1])"
      ]
     },
     "execution_count": 87,
     "metadata": {},
     "output_type": "execute_result"
    }
   ],
   "source": [
    "df['Gender'].unique()"
   ]
  },
  {
   "cell_type": "code",
   "execution_count": 88,
   "id": "7e80db66",
   "metadata": {},
   "outputs": [
    {
     "data": {
      "text/plain": [
       "Text(0, 0.5, 'Gender values')"
      ]
     },
     "execution_count": 88,
     "metadata": {},
     "output_type": "execute_result"
    },
    {
     "data": {
      "image/png": "[encoded data removed]",
      "text/plain": [
       "<Figure size 1000x700 with 1 Axes>"
      ]
     },
     "metadata": {},
     "output_type": "display_data"
    },
    {
     "data": {
      "image/png": "[encoded data removed]",
      "text/plain": [
       "<Figure size 1000x700 with 1 Axes>"
      ]
     },
     "metadata": {},
     "output_type": "display_data"
    }
   ],
   "source": [
    "# First plot - Distribution plot\n",
    "plt.figure(figsize=(10, 7))\n",
    "sns.distplot(df['Gender'])\n",
    "plt.title('Distribution Plot for Gender')  # Title for the plot\n",
    "plt.xlabel('Gender Values')  # X-axis label\n",
    "plt.ylabel('Density')  # Y-axis label\n",
    "\n",
    "# Second plot - Boxplot\n",
    "plt.figure(figsize=(10, 7))\n",
    "sns.boxplot(df['Gender'],orient='h')\n",
    "plt.title('Box Plot for Gender')  # Title for the plot\n",
    "plt.xlabel('Gender')  # X-axis label\n",
    "plt.ylabel('Gender values')"
   ]
  },
  {
   "cell_type": "code",
   "execution_count": 119,
   "id": "dc97f175-d7c8-4ba9-8d84-9645ad42ea6d",
   "metadata": {},
   "outputs": [],
   "source": [
    "count = df['Gender'].value_counts().tolist()\n",
    "gender = Gender.keys()\n",
    "gender_list = list(gender)"
   ]
  },
  {
   "cell_type": "code",
   "execution_count": 121,
   "id": "4a074dbc-9f59-4f02-9ab6-29303baeb4dc",
   "metadata": {},
   "outputs": [
    {
     "data": {
      "image/png": "[encoded data removed]",
      "text/plain": [
       "<Figure size 1000x700 with 1 Axes>"
      ]
     },
     "metadata": {},
     "output_type": "display_data"
    }
   ],
   "source": [
    "import matplotlib.pyplot as plt\n",
    "import seaborn as sns\n",
    "\n",
    "# Assuming df is your DataFrame containing 'Gender' column with values 0 and 1\n",
    "plt.figure(figsize=(10, 7))\n",
    "sns.barplot(x=gender_list, y=count, orient='v', palette={'Male': 'blue', 'Female': 'pink'})\n",
    "\n",
    "plt.title('Bar Plot for Gender')  # Title for the plot\n",
    "plt.xlabel('Gender Values')  # X-axis label\n",
    "plt.ylabel('Count')  # Y-axis label\n",
    "\n",
    "plt.show()"
   ]
  },
  {
   "cell_type": "code",
   "execution_count": 92,
   "id": "8ee6d661-aba0-4f41-ba70-bfb30b809992",
   "metadata": {},
   "outputs": [
    {
     "data": {
      "image/png": "[encoded data removed]",
      "text/plain": [
       "<Figure size 1000x700 with 1 Axes>"
      ]
     },
     "metadata": {},
     "output_type": "display_data"
    }
   ],
   "source": [
    "import matplotlib.pyplot as plt\n",
    "import seaborn as sns\n",
    "\n",
    "# Assuming df is your DataFrame containing 'Gender' column with values 0 and 1\n",
    "plt.figure(figsize=(10, 7))\n",
    "sns.barplot(df['Gender'], palette={0: 'blue', 1: 'pink'})\n",
    "\n",
    "plt.title('Bar Plot for Gender')  # Title for the plot\n",
    "plt.xlabel('Gender Values')  # X-axis label\n",
    "plt.ylabel('Count')  # Y-axis label\n",
    "\n",
    "plt.show()\n"
   ]
  },
  {
   "cell_type": "markdown",
   "id": "b5adc8ea",
   "metadata": {},
   "source": [
    "<font size=3.5px color='bblue'> # type some insight here </font>"
   ]
  },
  {
   "cell_type": "markdown",
   "id": "f2036471",
   "metadata": {},
   "source": [
    "#### <font size=3.5px color = 'blue'>clean data here</font>"
   ]
  },
  {
   "cell_type": "code",
   "execution_count": null,
   "id": "72209910",
   "metadata": {},
   "outputs": [],
   "source": [
    "## for removing null value\n",
    "# df.dropna(subset=['Gender'], inplace=True)"
   ]
  },
  {
   "cell_type": "code",
   "execution_count": null,
   "id": "924ec4c0",
   "metadata": {},
   "outputs": [],
   "source": [
    "# mean = df['Gender'].mean()\n",
    "# print(mean)\n",
    "\n",
    "# median = df['Gender'].median()\n",
    "# print(median)\n",
    "\n",
    "# mode = df['Gender'].mode()\n",
    "# print(mode)"
   ]
  },
  {
   "cell_type": "code",
   "execution_count": null,
   "id": "d827eea3",
   "metadata": {},
   "outputs": [],
   "source": [
    "## Example 1: Replace missing values in a numerical column with the mean\n",
    "# df['Gender'].fillna(df['Gender'].mean(), inplace=True)\n",
    "\n",
    "## Example 2: Replace missing values in a numerical column with the median\n",
    "# df['Gender'].fillna(df['Gender'].median(), inplace=True)\n",
    "\n",
    "## Example 3: if **non-numeric**\n",
    "\n",
    "# df['Gender'].value_counts()\n",
    "\n",
    " ## Replace missing values in a categorical column with the mode\n",
    "# df['Gender'].fillna(df['Gender'].mode()[0], inplace=True)"
   ]
  },
  {
   "cell_type": "markdown",
   "id": "94357b5b",
   "metadata": {},
   "source": [
    "#### <font size=3.5px color = 'blue'>outliers</font>"
   ]
  },
  {
   "cell_type": "code",
   "execution_count": null,
   "id": "d0ded586",
   "metadata": {},
   "outputs": [],
   "source": [
    "# remove_outliers(df,'Gender')"
   ]
  },
  {
   "cell_type": "code",
   "execution_count": null,
   "id": "724937b7",
   "metadata": {},
   "outputs": [],
   "source": [
    "# print('null value in Genderc* == {}'.format(df['Gender']c*.isnull().sum()))"
   ]
  },
  {
   "cell_type": "code",
   "execution_count": null,
   "id": "1e553755",
   "metadata": {},
   "outputs": [],
   "source": [
    "## Example 1: Replace missing values in a numerical column with the mean\n",
    "# df['Genderc*'].fillna(df['Genderc*'].mean(), inplace=True)\n",
    "\n",
    "## Example 2: Replace missing values in a numerical column with the median\n",
    "# df['Genderc*'].fillna(df['Genderc*'].median(), inplace=True)\n",
    "\n",
    "## Example 3: if **non-numeric**\n",
    "\n",
    "# df['Genderc*'].value_counts()\n",
    "\n",
    " ## Replace missing values in a categorical column with the mode\n",
    "# df['Genderc*'].fillna(df['Genderc*'].mode()[0], inplace=True)"
   ]
  },
  {
   "cell_type": "markdown",
   "id": "8ed60dd4",
   "metadata": {},
   "source": [
    "### **<font size = 5px color = 'lime'>verify the process</font>**"
   ]
  },
  {
   "cell_type": "code",
   "execution_count": null,
   "id": "6c77afca",
   "metadata": {},
   "outputs": [],
   "source": [
    "df.head()"
   ]
  },
  {
   "cell_type": "code",
   "execution_count": null,
   "id": "f9b368ad",
   "metadata": {},
   "outputs": [],
   "source": [
    "print('null value in [Gender] == {}'.format(df['Gender'].isnull().sum()))\n",
    "# print('\\n---\\n')\n",
    "# print('null value in Genderc* == {}'.format(df['Genderc*'].isnull().sum()))"
   ]
  },
  {
   "cell_type": "code",
   "execution_count": null,
   "id": "73eefec8",
   "metadata": {},
   "outputs": [],
   "source": [
    "print(f'The dtype of [Gender] == {df['Gender'].dtype}')\n",
    "# print('\\n---\\n')\n",
    "# print(f'The dtype of Genderc* is {df['Genderc*'].dtype}')"
   ]
  },
  {
   "cell_type": "code",
   "execution_count": null,
   "id": "1b81e2d0",
   "metadata": {},
   "outputs": [],
   "source": [
    "## First plot - Distribution plot\n",
    "# plt.figure(figsize=(10, 7))\n",
    "# sns.distplot(df['Genderc*'])\n",
    "# plt.title('Distribution Plot for Genderc*')  ## Title for the plot\n",
    "# plt.xlabel('Genderc* Values')  ## X-axis label\n",
    "# plt.ylabel('Density')  ## Y-axis label\n",
    "\n",
    "## Second plot - Boxplot\n",
    "# plt.figure(figsize=(10, 7))\n",
    "# sns.boxplot(df['Genderc*'],orient='h')\n",
    "# plt.title('Box Plot for Genderc*')  ## Title for the plot\n",
    "# plt.xlabel('Genderc*')  ## X-axis label\n",
    "# plt.ylabel('Genderc* values')"
   ]
  },
  {
   "cell_type": "code",
   "execution_count": null,
   "id": "994ae2da",
   "metadata": {},
   "outputs": [],
   "source": [
    "# more plot ?\n"
   ]
  },
  {
   "cell_type": "markdown",
   "id": "d3e1475d",
   "metadata": {},
   "source": [
    "<font size=5px color='bblue'> # type some insight here </font>"
   ]
  },
  {
   "cell_type": "markdown",
   "id": "4ab45b26",
   "metadata": {},
   "source": [
    "<hr style=\"border: 2px solid magenta;\">"
   ]
  },
  {
   "cell_type": "markdown",
   "id": "31d62776",
   "metadata": {},
   "source": [
    "## [***](#INDEX)"
   ]
  },
  {
   "cell_type": "markdown",
   "id": "bbf84899",
   "metadata": {},
   "source": [
    "<hr style=\"border: 2px solid lime;\">"
   ]
  },
  {
   "cell_type": "markdown",
   "id": "b1a5fa2e",
   "metadata": {},
   "source": [
    "# **<font size=17px color=\"lightgreen\">Item Purchased</font>**"
   ]
  },
  {
   "cell_type": "code",
   "execution_count": null,
   "id": "ad47f120",
   "metadata": {},
   "outputs": [],
   "source": [
    "print(f\"{df['Item Purchased'].head(5)}\\n\\n{'*'*21}\\n\\ntop 5 sorted values\\n{df['Item Purchased'].sort_values().head(5)}\\n\\n{'*'*21}\\n\\nbottom 5 sorted values\\n{df['Item Purchased'].sort_values().tail(5)}\")"
   ]
  },
  {
   "cell_type": "markdown",
   "id": "c93674fa",
   "metadata": {},
   "source": [
    "### <font size=5px color='blue'>data operation</font>"
   ]
  },
  {
   "cell_type": "code",
   "execution_count": null,
   "id": "8b190009",
   "metadata": {},
   "outputs": [],
   "source": [
    "print('null value in [Item Purchased] == {}'.format(df['Item Purchased'].isnull().sum()))"
   ]
  },
  {
   "cell_type": "code",
   "execution_count": null,
   "id": "c232e556",
   "metadata": {},
   "outputs": [],
   "source": [
    "print(f'unique values in [Item Purchased] == {df['Item Purchased'].nunique()}')"
   ]
  },
  {
   "cell_type": "code",
   "execution_count": null,
   "id": "3db3b27a",
   "metadata": {},
   "outputs": [],
   "source": [
    "print(f'top 5 unique values:\\nvalue - count : {df['Item Purchased'].value_counts()[:5]}\\n\\n{'*'*21}\\n\\nbottom 5 unique value:\\nvalue - count :  {df['Item Purchased'].value_counts()[-5:]}')"
   ]
  },
  {
   "cell_type": "markdown",
   "id": "06bf5255",
   "metadata": {},
   "source": [
    "#### <font size= 3.5px color='blue'>dtype</font>"
   ]
  },
  {
   "cell_type": "code",
   "execution_count": null,
   "id": "8d45da1f",
   "metadata": {},
   "outputs": [],
   "source": [
    "df['Item Purchased'].dtype\n",
    "# format if dtype is wrong"
   ]
  },
  {
   "cell_type": "code",
   "execution_count": null,
   "id": "b196b146",
   "metadata": {},
   "outputs": [],
   "source": [
    "## see non numeric value in column\n",
    "\n",
    "## Identify non-numeric values using boolean indexing\n",
    "# non_numeric_value = df['Item Purchased'][numeric_column.isna()]\n",
    "# print(non_numeric_value)\n",
    "\n",
    "## Convert the column to numeric, coercing non-numeric values to NaN\n",
    "# numeric_column = pd.to_numeric(df['Item Purchased'], errors='coerce')\n",
    "\n"
   ]
  },
  {
   "cell_type": "code",
   "execution_count": null,
   "id": "4a2abf6a",
   "metadata": {},
   "outputs": [],
   "source": [
    "# format opreation\n",
    "# if dtype is numeric skip this 4 cell\n"
   ]
  },
  {
   "cell_type": "code",
   "execution_count": null,
   "id": "f7b6999f",
   "metadata": {},
   "outputs": [],
   "source": [
    "# key = df['Item Purchased'].unique().tolist()\n",
    "# values = []  ## assign your values here\n",
    "# print(key)\n",
    "# print(values)  ## len of key and values should be same"
   ]
  },
  {
   "cell_type": "code",
   "execution_count": null,
   "id": "73773673",
   "metadata": {},
   "outputs": [],
   "source": [
    "# Item Purchased = dict(zip(key,values)) # label data in 'key': value pair\n",
    "# label['Item Purchased'] = Item Purchased # store data label dict in main dict actually it's updating/"
   ]
  },
  {
   "cell_type": "code",
   "execution_count": null,
   "id": "97e13f07",
   "metadata": {},
   "outputs": [],
   "source": [
    "# df['Item Purchased'].replace(Item Purchased, inplace=True)\n",
    "# print('Modified DataFrame:')\n",
    "# print(df['Item Purchased'].head(10))"
   ]
  },
  {
   "cell_type": "code",
   "execution_count": null,
   "id": "6d8b3bff",
   "metadata": {},
   "outputs": [],
   "source": [
    "df['Item Purchased'].unique()"
   ]
  },
  {
   "cell_type": "code",
   "execution_count": null,
   "id": "51f62467",
   "metadata": {},
   "outputs": [],
   "source": [
    "# First plot - Distribution plot\n",
    "plt.figure(figsize=(10, 7))\n",
    "sns.distplot(df['Item Purchased'])\n",
    "plt.title('Distribution Plot for Item Purchased')  # Title for the plot\n",
    "plt.xlabel('Item Purchased Values')  # X-axis label\n",
    "plt.ylabel('Density')  # Y-axis label\n",
    "\n",
    "# Second plot - Boxplot\n",
    "plt.figure(figsize=(10, 7))\n",
    "sns.boxplot(df['Item Purchased'],orient='h')\n",
    "plt.title('Box Plot for Item Purchased')  # Title for the plot\n",
    "plt.xlabel('Item Purchased')  # X-axis label\n",
    "plt.ylabel('Item Purchased values')"
   ]
  },
  {
   "cell_type": "markdown",
   "id": "135af11d",
   "metadata": {},
   "source": [
    "<font size=3.5px color='bblue'> # type some insight here </font>"
   ]
  },
  {
   "cell_type": "markdown",
   "id": "5b81bf2b",
   "metadata": {},
   "source": [
    "#### <font size=3.5px color = 'blue'>clean data here</font>"
   ]
  },
  {
   "cell_type": "code",
   "execution_count": null,
   "id": "b1afd21d",
   "metadata": {},
   "outputs": [],
   "source": [
    "## for removing null value\n",
    "# df.dropna(subset=['Item Purchased'], inplace=True)"
   ]
  },
  {
   "cell_type": "code",
   "execution_count": null,
   "id": "b2deaa49",
   "metadata": {},
   "outputs": [],
   "source": [
    "# mean = df['Item Purchased'].mean()\n",
    "# print(mean)\n",
    "\n",
    "# median = df['Item Purchased'].median()\n",
    "# print(median)\n",
    "\n",
    "# mode = df['Item Purchased'].mode()\n",
    "# print(mode)"
   ]
  },
  {
   "cell_type": "code",
   "execution_count": null,
   "id": "b94840fd",
   "metadata": {},
   "outputs": [],
   "source": [
    "## Example 1: Replace missing values in a numerical column with the mean\n",
    "# df['Item Purchased'].fillna(df['Item Purchased'].mean(), inplace=True)\n",
    "\n",
    "## Example 2: Replace missing values in a numerical column with the median\n",
    "# df['Item Purchased'].fillna(df['Item Purchased'].median(), inplace=True)\n",
    "\n",
    "## Example 3: if **non-numeric**\n",
    "\n",
    "# df['Item Purchased'].value_counts()\n",
    "\n",
    " ## Replace missing values in a categorical column with the mode\n",
    "# df['Item Purchased'].fillna(df['Item Purchased'].mode()[0], inplace=True)"
   ]
  },
  {
   "cell_type": "markdown",
   "id": "4ebb36d9",
   "metadata": {},
   "source": [
    "#### <font size=3.5px color = 'blue'>outliers</font>"
   ]
  },
  {
   "cell_type": "code",
   "execution_count": null,
   "id": "f9979d96",
   "metadata": {},
   "outputs": [],
   "source": [
    "# remove_outliers(df,'Item Purchased')"
   ]
  },
  {
   "cell_type": "code",
   "execution_count": null,
   "id": "75b0b60a",
   "metadata": {},
   "outputs": [],
   "source": [
    "# print('null value in Item Purchasedc* == {}'.format(df['Item Purchased']c*.isnull().sum()))"
   ]
  },
  {
   "cell_type": "code",
   "execution_count": null,
   "id": "acf62f0f",
   "metadata": {},
   "outputs": [],
   "source": [
    "## Example 1: Replace missing values in a numerical column with the mean\n",
    "# df['Item Purchasedc*'].fillna(df['Item Purchasedc*'].mean(), inplace=True)\n",
    "\n",
    "## Example 2: Replace missing values in a numerical column with the median\n",
    "# df['Item Purchasedc*'].fillna(df['Item Purchasedc*'].median(), inplace=True)\n",
    "\n",
    "## Example 3: if **non-numeric**\n",
    "\n",
    "# df['Item Purchasedc*'].value_counts()\n",
    "\n",
    " ## Replace missing values in a categorical column with the mode\n",
    "# df['Item Purchasedc*'].fillna(df['Item Purchasedc*'].mode()[0], inplace=True)"
   ]
  },
  {
   "cell_type": "markdown",
   "id": "c8cb02ea",
   "metadata": {},
   "source": [
    "### **<font size = 5px color = 'lime'>verify the process</font>**"
   ]
  },
  {
   "cell_type": "code",
   "execution_count": null,
   "id": "3af0eba6",
   "metadata": {},
   "outputs": [],
   "source": [
    "df.head()"
   ]
  },
  {
   "cell_type": "code",
   "execution_count": null,
   "id": "454ad198",
   "metadata": {},
   "outputs": [],
   "source": [
    "print('null value in [Item Purchased] == {}'.format(df['Item Purchased'].isnull().sum()))\n",
    "# print('\\n---\\n')\n",
    "# print('null value in Item Purchasedc* == {}'.format(df['Item Purchasedc*'].isnull().sum()))"
   ]
  },
  {
   "cell_type": "code",
   "execution_count": null,
   "id": "0b1520d6",
   "metadata": {},
   "outputs": [],
   "source": [
    "print(f'The dtype of [Item Purchased] == {df['Item Purchased'].dtype}')\n",
    "# print('\\n---\\n')\n",
    "# print(f'The dtype of Item Purchasedc* is {df['Item Purchasedc*'].dtype}')"
   ]
  },
  {
   "cell_type": "code",
   "execution_count": null,
   "id": "7f910d51",
   "metadata": {},
   "outputs": [],
   "source": [
    "## First plot - Distribution plot\n",
    "# plt.figure(figsize=(10, 7))\n",
    "# sns.distplot(df['Item Purchasedc*'])\n",
    "# plt.title('Distribution Plot for Item Purchasedc*')  ## Title for the plot\n",
    "# plt.xlabel('Item Purchasedc* Values')  ## X-axis label\n",
    "# plt.ylabel('Density')  ## Y-axis label\n",
    "\n",
    "## Second plot - Boxplot\n",
    "# plt.figure(figsize=(10, 7))\n",
    "# sns.boxplot(df['Item Purchasedc*'],orient='h')\n",
    "# plt.title('Box Plot for Item Purchasedc*')  ## Title for the plot\n",
    "# plt.xlabel('Item Purchasedc*')  ## X-axis label\n",
    "# plt.ylabel('Item Purchasedc* values')"
   ]
  },
  {
   "cell_type": "code",
   "execution_count": null,
   "id": "7d182ec6",
   "metadata": {},
   "outputs": [],
   "source": [
    "# more plot ?\n"
   ]
  },
  {
   "cell_type": "markdown",
   "id": "6f9e9f87",
   "metadata": {},
   "source": [
    "<font size=5px color='bblue'> # type some insight here </font>"
   ]
  },
  {
   "cell_type": "markdown",
   "id": "863c4795",
   "metadata": {},
   "source": [
    "<hr style=\"border: 2px solid magenta;\">"
   ]
  },
  {
   "cell_type": "markdown",
   "id": "40632bca",
   "metadata": {},
   "source": [
    "## [***](#INDEX)"
   ]
  },
  {
   "cell_type": "markdown",
   "id": "4263d2e1",
   "metadata": {},
   "source": [
    "<hr style=\"border: 2px solid lime;\">"
   ]
  },
  {
   "cell_type": "markdown",
   "id": "0b28f314",
   "metadata": {},
   "source": [
    "# **<font size=17px color=\"lightgreen\">Category</font>**"
   ]
  },
  {
   "cell_type": "code",
   "execution_count": null,
   "id": "66977abb",
   "metadata": {},
   "outputs": [],
   "source": [
    "print(f\"{df['Category'].head(5)}\\n\\n{'*'*21}\\n\\ntop 5 sorted values\\n{df['Category'].sort_values().head(5)}\\n\\n{'*'*21}\\n\\nbottom 5 sorted values\\n{df['Category'].sort_values().tail(5)}\")"
   ]
  },
  {
   "cell_type": "markdown",
   "id": "fec02845",
   "metadata": {},
   "source": [
    "### <font size=5px color='blue'>data operation</font>"
   ]
  },
  {
   "cell_type": "code",
   "execution_count": null,
   "id": "e94848f8",
   "metadata": {},
   "outputs": [],
   "source": [
    "print('null value in [Category] == {}'.format(df['Category'].isnull().sum()))"
   ]
  },
  {
   "cell_type": "code",
   "execution_count": null,
   "id": "2a53bd11",
   "metadata": {},
   "outputs": [],
   "source": [
    "print(f'unique values in [Category] == {df['Category'].nunique()}')"
   ]
  },
  {
   "cell_type": "code",
   "execution_count": null,
   "id": "dfe719ed",
   "metadata": {},
   "outputs": [],
   "source": [
    "print(f'top 5 unique values:\\nvalue - count : {df['Category'].value_counts()[:5]}\\n\\n{'*'*21}\\n\\nbottom 5 unique value:\\nvalue - count :  {df['Category'].value_counts()[-5:]}')"
   ]
  },
  {
   "cell_type": "markdown",
   "id": "da3a7bec",
   "metadata": {},
   "source": [
    "#### <font size= 3.5px color='blue'>dtype</font>"
   ]
  },
  {
   "cell_type": "code",
   "execution_count": null,
   "id": "66bd9b95",
   "metadata": {},
   "outputs": [],
   "source": [
    "df['Category'].dtype\n",
    "# format if dtype is wrong"
   ]
  },
  {
   "cell_type": "code",
   "execution_count": null,
   "id": "46ae0ccd",
   "metadata": {},
   "outputs": [],
   "source": [
    "## see non numeric value in column\n",
    "\n",
    "## Identify non-numeric values using boolean indexing\n",
    "# non_numeric_value = df['Category'][numeric_column.isna()]\n",
    "# print(non_numeric_value)\n",
    "\n",
    "## Convert the column to numeric, coercing non-numeric values to NaN\n",
    "# numeric_column = pd.to_numeric(df['Category'], errors='coerce')\n",
    "\n"
   ]
  },
  {
   "cell_type": "code",
   "execution_count": null,
   "id": "1c7cad85",
   "metadata": {},
   "outputs": [],
   "source": [
    "# format opreation\n",
    "# if dtype is numeric skip this 4 cell\n"
   ]
  },
  {
   "cell_type": "code",
   "execution_count": null,
   "id": "f5d1b3df",
   "metadata": {},
   "outputs": [],
   "source": [
    "# key = df['Category'].unique().tolist()\n",
    "# values = []  ## assign your values here\n",
    "# print(key)\n",
    "# print(values)  ## len of key and values should be same"
   ]
  },
  {
   "cell_type": "code",
   "execution_count": null,
   "id": "ed14d9cf",
   "metadata": {},
   "outputs": [],
   "source": [
    "# Category = dict(zip(key,values)) # label data in 'key': value pair\n",
    "# label['Category'] = Category # store data label dict in main dict actually it's updating/"
   ]
  },
  {
   "cell_type": "code",
   "execution_count": null,
   "id": "6608ec7d",
   "metadata": {},
   "outputs": [],
   "source": [
    "# df['Category'].replace(Category, inplace=True)\n",
    "# print('Modified DataFrame:')\n",
    "# print(df['Category'].head(10))"
   ]
  },
  {
   "cell_type": "code",
   "execution_count": null,
   "id": "48acff86",
   "metadata": {},
   "outputs": [],
   "source": [
    "df['Category'].unique()"
   ]
  },
  {
   "cell_type": "code",
   "execution_count": null,
   "id": "179dcacf",
   "metadata": {},
   "outputs": [],
   "source": [
    "# First plot - Distribution plot\n",
    "plt.figure(figsize=(10, 7))\n",
    "sns.distplot(df['Category'])\n",
    "plt.title('Distribution Plot for Category')  # Title for the plot\n",
    "plt.xlabel('Category Values')  # X-axis label\n",
    "plt.ylabel('Density')  # Y-axis label\n",
    "\n",
    "# Second plot - Boxplot\n",
    "plt.figure(figsize=(10, 7))\n",
    "sns.boxplot(df['Category'],orient='h')\n",
    "plt.title('Box Plot for Category')  # Title for the plot\n",
    "plt.xlabel('Category')  # X-axis label\n",
    "plt.ylabel('Category values')"
   ]
  },
  {
   "cell_type": "markdown",
   "id": "d06f5149",
   "metadata": {},
   "source": [
    "<font size=3.5px color='bblue'> # type some insight here </font>"
   ]
  },
  {
   "cell_type": "markdown",
   "id": "685b2aab",
   "metadata": {},
   "source": [
    "#### <font size=3.5px color = 'blue'>clean data here</font>"
   ]
  },
  {
   "cell_type": "code",
   "execution_count": null,
   "id": "154a3b1e",
   "metadata": {},
   "outputs": [],
   "source": [
    "## for removing null value\n",
    "# df.dropna(subset=['Category'], inplace=True)"
   ]
  },
  {
   "cell_type": "code",
   "execution_count": null,
   "id": "e11c4adc",
   "metadata": {},
   "outputs": [],
   "source": [
    "# mean = df['Category'].mean()\n",
    "# print(mean)\n",
    "\n",
    "# median = df['Category'].median()\n",
    "# print(median)\n",
    "\n",
    "# mode = df['Category'].mode()\n",
    "# print(mode)"
   ]
  },
  {
   "cell_type": "code",
   "execution_count": null,
   "id": "9f0f465f",
   "metadata": {},
   "outputs": [],
   "source": [
    "## Example 1: Replace missing values in a numerical column with the mean\n",
    "# df['Category'].fillna(df['Category'].mean(), inplace=True)\n",
    "\n",
    "## Example 2: Replace missing values in a numerical column with the median\n",
    "# df['Category'].fillna(df['Category'].median(), inplace=True)\n",
    "\n",
    "## Example 3: if **non-numeric**\n",
    "\n",
    "# df['Category'].value_counts()\n",
    "\n",
    " ## Replace missing values in a categorical column with the mode\n",
    "# df['Category'].fillna(df['Category'].mode()[0], inplace=True)"
   ]
  },
  {
   "cell_type": "markdown",
   "id": "048c7fa6",
   "metadata": {},
   "source": [
    "#### <font size=3.5px color = 'blue'>outliers</font>"
   ]
  },
  {
   "cell_type": "code",
   "execution_count": null,
   "id": "f9a19acb",
   "metadata": {},
   "outputs": [],
   "source": [
    "# remove_outliers(df,'Category')"
   ]
  },
  {
   "cell_type": "code",
   "execution_count": null,
   "id": "f76493c9",
   "metadata": {},
   "outputs": [],
   "source": [
    "# print('null value in Categoryc* == {}'.format(df['Category']c*.isnull().sum()))"
   ]
  },
  {
   "cell_type": "code",
   "execution_count": null,
   "id": "3653e22b",
   "metadata": {},
   "outputs": [],
   "source": [
    "## Example 1: Replace missing values in a numerical column with the mean\n",
    "# df['Categoryc*'].fillna(df['Categoryc*'].mean(), inplace=True)\n",
    "\n",
    "## Example 2: Replace missing values in a numerical column with the median\n",
    "# df['Categoryc*'].fillna(df['Categoryc*'].median(), inplace=True)\n",
    "\n",
    "## Example 3: if **non-numeric**\n",
    "\n",
    "# df['Categoryc*'].value_counts()\n",
    "\n",
    " ## Replace missing values in a categorical column with the mode\n",
    "# df['Categoryc*'].fillna(df['Categoryc*'].mode()[0], inplace=True)"
   ]
  },
  {
   "cell_type": "markdown",
   "id": "8928ce92",
   "metadata": {},
   "source": [
    "### **<font size = 5px color = 'lime'>verify the process</font>**"
   ]
  },
  {
   "cell_type": "code",
   "execution_count": null,
   "id": "6af7413a",
   "metadata": {},
   "outputs": [],
   "source": [
    "df.head()"
   ]
  },
  {
   "cell_type": "code",
   "execution_count": null,
   "id": "d4c6d51c",
   "metadata": {},
   "outputs": [],
   "source": [
    "print('null value in [Category] == {}'.format(df['Category'].isnull().sum()))\n",
    "# print('\\n---\\n')\n",
    "# print('null value in Categoryc* == {}'.format(df['Categoryc*'].isnull().sum()))"
   ]
  },
  {
   "cell_type": "code",
   "execution_count": null,
   "id": "c785f693",
   "metadata": {},
   "outputs": [],
   "source": [
    "print(f'The dtype of [Category] == {df['Category'].dtype}')\n",
    "# print('\\n---\\n')\n",
    "# print(f'The dtype of Categoryc* is {df['Categoryc*'].dtype}')"
   ]
  },
  {
   "cell_type": "code",
   "execution_count": null,
   "id": "2c7011ff",
   "metadata": {},
   "outputs": [],
   "source": [
    "## First plot - Distribution plot\n",
    "# plt.figure(figsize=(10, 7))\n",
    "# sns.distplot(df['Categoryc*'])\n",
    "# plt.title('Distribution Plot for Categoryc*')  ## Title for the plot\n",
    "# plt.xlabel('Categoryc* Values')  ## X-axis label\n",
    "# plt.ylabel('Density')  ## Y-axis label\n",
    "\n",
    "## Second plot - Boxplot\n",
    "# plt.figure(figsize=(10, 7))\n",
    "# sns.boxplot(df['Categoryc*'],orient='h')\n",
    "# plt.title('Box Plot for Categoryc*')  ## Title for the plot\n",
    "# plt.xlabel('Categoryc*')  ## X-axis label\n",
    "# plt.ylabel('Categoryc* values')"
   ]
  },
  {
   "cell_type": "code",
   "execution_count": null,
   "id": "a719ec97",
   "metadata": {},
   "outputs": [],
   "source": [
    "# more plot ?\n"
   ]
  },
  {
   "cell_type": "markdown",
   "id": "0419ffe8",
   "metadata": {},
   "source": [
    "<font size=5px color='bblue'> # type some insight here </font>"
   ]
  },
  {
   "cell_type": "markdown",
   "id": "56379cf6",
   "metadata": {},
   "source": [
    "<hr style=\"border: 2px solid magenta;\">"
   ]
  },
  {
   "cell_type": "markdown",
   "id": "81985920",
   "metadata": {},
   "source": [
    "## [***](#INDEX)"
   ]
  },
  {
   "cell_type": "markdown",
   "id": "872d27f4",
   "metadata": {},
   "source": [
    "<hr style=\"border: 2px solid lime;\">"
   ]
  },
  {
   "cell_type": "markdown",
   "id": "336e0c98",
   "metadata": {},
   "source": [
    "# **<font size=17px color=\"lightgreen\">Purchase Amount (USD)</font>**"
   ]
  },
  {
   "cell_type": "code",
   "execution_count": null,
   "id": "080653f7",
   "metadata": {},
   "outputs": [],
   "source": [
    "print(f\"{df['Purchase Amount (USD)'].head(5)}\\n\\n{'*'*21}\\n\\ntop 5 sorted values\\n{df['Purchase Amount (USD)'].sort_values().head(5)}\\n\\n{'*'*21}\\n\\nbottom 5 sorted values\\n{df['Purchase Amount (USD)'].sort_values().tail(5)}\")"
   ]
  },
  {
   "cell_type": "markdown",
   "id": "8cd11024",
   "metadata": {},
   "source": [
    "### <font size=5px color='blue'>data operation</font>"
   ]
  },
  {
   "cell_type": "code",
   "execution_count": null,
   "id": "1859b6af",
   "metadata": {},
   "outputs": [],
   "source": [
    "print('null value in [Purchase Amount (USD)] == {}'.format(df['Purchase Amount (USD)'].isnull().sum()))"
   ]
  },
  {
   "cell_type": "code",
   "execution_count": null,
   "id": "8b9d8af8",
   "metadata": {},
   "outputs": [],
   "source": [
    "print(f'unique values in [Purchase Amount (USD)] == {df['Purchase Amount (USD)'].nunique()}')"
   ]
  },
  {
   "cell_type": "code",
   "execution_count": null,
   "id": "ecf1acb6",
   "metadata": {},
   "outputs": [],
   "source": [
    "print(f'top 5 unique values:\\nvalue - count : {df['Purchase Amount (USD)'].value_counts()[:5]}\\n\\n{'*'*21}\\n\\nbottom 5 unique value:\\nvalue - count :  {df['Purchase Amount (USD)'].value_counts()[-5:]}')"
   ]
  },
  {
   "cell_type": "markdown",
   "id": "484ebceb",
   "metadata": {},
   "source": [
    "#### <font size= 3.5px color='blue'>dtype</font>"
   ]
  },
  {
   "cell_type": "code",
   "execution_count": null,
   "id": "11ea09cc",
   "metadata": {},
   "outputs": [],
   "source": [
    "df['Purchase Amount (USD)'].dtype\n",
    "# format if dtype is wrong"
   ]
  },
  {
   "cell_type": "code",
   "execution_count": null,
   "id": "f4750f21",
   "metadata": {},
   "outputs": [],
   "source": [
    "## see non numeric value in column\n",
    "\n",
    "## Identify non-numeric values using boolean indexing\n",
    "# non_numeric_value = df['Purchase Amount (USD)'][numeric_column.isna()]\n",
    "# print(non_numeric_value)\n",
    "\n",
    "## Convert the column to numeric, coercing non-numeric values to NaN\n",
    "# numeric_column = pd.to_numeric(df['Purchase Amount (USD)'], errors='coerce')\n",
    "\n"
   ]
  },
  {
   "cell_type": "code",
   "execution_count": null,
   "id": "f4ef2c82",
   "metadata": {},
   "outputs": [],
   "source": [
    "# format opreation\n",
    "# if dtype is numeric skip this 4 cell\n"
   ]
  },
  {
   "cell_type": "code",
   "execution_count": null,
   "id": "f08c7593",
   "metadata": {},
   "outputs": [],
   "source": [
    "# key = df['Purchase Amount (USD)'].unique().tolist()\n",
    "# values = []  ## assign your values here\n",
    "# print(key)\n",
    "# print(values)  ## len of key and values should be same"
   ]
  },
  {
   "cell_type": "code",
   "execution_count": null,
   "id": "467f7d87",
   "metadata": {},
   "outputs": [],
   "source": [
    "# Purchase Amount (USD) = dict(zip(key,values)) # label data in 'key': value pair\n",
    "# label['Purchase Amount (USD)'] = Purchase Amount (USD) # store data label dict in main dict actually it's updating/"
   ]
  },
  {
   "cell_type": "code",
   "execution_count": null,
   "id": "a4fcf169",
   "metadata": {},
   "outputs": [],
   "source": [
    "# df['Purchase Amount (USD)'].replace(Purchase Amount (USD), inplace=True)\n",
    "# print('Modified DataFrame:')\n",
    "# print(df['Purchase Amount (USD)'].head(10))"
   ]
  },
  {
   "cell_type": "code",
   "execution_count": null,
   "id": "93186760",
   "metadata": {},
   "outputs": [],
   "source": [
    "df['Purchase Amount (USD)'].unique()"
   ]
  },
  {
   "cell_type": "code",
   "execution_count": null,
   "id": "39b193f2",
   "metadata": {},
   "outputs": [],
   "source": [
    "# First plot - Distribution plot\n",
    "plt.figure(figsize=(10, 7))\n",
    "sns.distplot(df['Purchase Amount (USD)'])\n",
    "plt.title('Distribution Plot for Purchase Amount (USD)')  # Title for the plot\n",
    "plt.xlabel('Purchase Amount (USD) Values')  # X-axis label\n",
    "plt.ylabel('Density')  # Y-axis label\n",
    "\n",
    "# Second plot - Boxplot\n",
    "plt.figure(figsize=(10, 7))\n",
    "sns.boxplot(df['Purchase Amount (USD)'],orient='h')\n",
    "plt.title('Box Plot for Purchase Amount (USD)')  # Title for the plot\n",
    "plt.xlabel('Purchase Amount (USD)')  # X-axis label\n",
    "plt.ylabel('Purchase Amount (USD) values')"
   ]
  },
  {
   "cell_type": "markdown",
   "id": "40d6440b",
   "metadata": {},
   "source": [
    "<font size=3.5px color='bblue'> # type some insight here </font>"
   ]
  },
  {
   "cell_type": "markdown",
   "id": "7bbca875",
   "metadata": {},
   "source": [
    "#### <font size=3.5px color = 'blue'>clean data here</font>"
   ]
  },
  {
   "cell_type": "code",
   "execution_count": null,
   "id": "96b0fb4c",
   "metadata": {},
   "outputs": [],
   "source": [
    "## for removing null value\n",
    "# df.dropna(subset=['Purchase Amount (USD)'], inplace=True)"
   ]
  },
  {
   "cell_type": "code",
   "execution_count": null,
   "id": "aa98920b",
   "metadata": {},
   "outputs": [],
   "source": [
    "# mean = df['Purchase Amount (USD)'].mean()\n",
    "# print(mean)\n",
    "\n",
    "# median = df['Purchase Amount (USD)'].median()\n",
    "# print(median)\n",
    "\n",
    "# mode = df['Purchase Amount (USD)'].mode()\n",
    "# print(mode)"
   ]
  },
  {
   "cell_type": "code",
   "execution_count": null,
   "id": "4b30f651",
   "metadata": {},
   "outputs": [],
   "source": [
    "## Example 1: Replace missing values in a numerical column with the mean\n",
    "# df['Purchase Amount (USD)'].fillna(df['Purchase Amount (USD)'].mean(), inplace=True)\n",
    "\n",
    "## Example 2: Replace missing values in a numerical column with the median\n",
    "# df['Purchase Amount (USD)'].fillna(df['Purchase Amount (USD)'].median(), inplace=True)\n",
    "\n",
    "## Example 3: if **non-numeric**\n",
    "\n",
    "# df['Purchase Amount (USD)'].value_counts()\n",
    "\n",
    " ## Replace missing values in a categorical column with the mode\n",
    "# df['Purchase Amount (USD)'].fillna(df['Purchase Amount (USD)'].mode()[0], inplace=True)"
   ]
  },
  {
   "cell_type": "markdown",
   "id": "8f63b092",
   "metadata": {},
   "source": [
    "#### <font size=3.5px color = 'blue'>outliers</font>"
   ]
  },
  {
   "cell_type": "code",
   "execution_count": null,
   "id": "3fd2a4db",
   "metadata": {},
   "outputs": [],
   "source": [
    "# remove_outliers(df,'Purchase Amount (USD)')"
   ]
  },
  {
   "cell_type": "code",
   "execution_count": null,
   "id": "0dcc028e",
   "metadata": {},
   "outputs": [],
   "source": [
    "# print('null value in Purchase Amount (USD)c* == {}'.format(df['Purchase Amount (USD)']c*.isnull().sum()))"
   ]
  },
  {
   "cell_type": "code",
   "execution_count": null,
   "id": "ad2c49d5",
   "metadata": {},
   "outputs": [],
   "source": [
    "## Example 1: Replace missing values in a numerical column with the mean\n",
    "# df['Purchase Amount (USD)c*'].fillna(df['Purchase Amount (USD)c*'].mean(), inplace=True)\n",
    "\n",
    "## Example 2: Replace missing values in a numerical column with the median\n",
    "# df['Purchase Amount (USD)c*'].fillna(df['Purchase Amount (USD)c*'].median(), inplace=True)\n",
    "\n",
    "## Example 3: if **non-numeric**\n",
    "\n",
    "# df['Purchase Amount (USD)c*'].value_counts()\n",
    "\n",
    " ## Replace missing values in a categorical column with the mode\n",
    "# df['Purchase Amount (USD)c*'].fillna(df['Purchase Amount (USD)c*'].mode()[0], inplace=True)"
   ]
  },
  {
   "cell_type": "markdown",
   "id": "bb0da398",
   "metadata": {},
   "source": [
    "### **<font size = 5px color = 'lime'>verify the process</font>**"
   ]
  },
  {
   "cell_type": "code",
   "execution_count": null,
   "id": "95a15a07",
   "metadata": {},
   "outputs": [],
   "source": [
    "df.head()"
   ]
  },
  {
   "cell_type": "code",
   "execution_count": null,
   "id": "62517044",
   "metadata": {},
   "outputs": [],
   "source": [
    "print('null value in [Purchase Amount (USD)] == {}'.format(df['Purchase Amount (USD)'].isnull().sum()))\n",
    "# print('\\n---\\n')\n",
    "# print('null value in Purchase Amount (USD)c* == {}'.format(df['Purchase Amount (USD)c*'].isnull().sum()))"
   ]
  },
  {
   "cell_type": "code",
   "execution_count": null,
   "id": "7b79a8cb",
   "metadata": {},
   "outputs": [],
   "source": [
    "print(f'The dtype of [Purchase Amount (USD)] == {df['Purchase Amount (USD)'].dtype}')\n",
    "# print('\\n---\\n')\n",
    "# print(f'The dtype of Purchase Amount (USD)c* is {df['Purchase Amount (USD)c*'].dtype}')"
   ]
  },
  {
   "cell_type": "code",
   "execution_count": null,
   "id": "caaf1d4d",
   "metadata": {},
   "outputs": [],
   "source": [
    "## First plot - Distribution plot\n",
    "# plt.figure(figsize=(10, 7))\n",
    "# sns.distplot(df['Purchase Amount (USD)c*'])\n",
    "# plt.title('Distribution Plot for Purchase Amount (USD)c*')  ## Title for the plot\n",
    "# plt.xlabel('Purchase Amount (USD)c* Values')  ## X-axis label\n",
    "# plt.ylabel('Density')  ## Y-axis label\n",
    "\n",
    "## Second plot - Boxplot\n",
    "# plt.figure(figsize=(10, 7))\n",
    "# sns.boxplot(df['Purchase Amount (USD)c*'],orient='h')\n",
    "# plt.title('Box Plot for Purchase Amount (USD)c*')  ## Title for the plot\n",
    "# plt.xlabel('Purchase Amount (USD)c*')  ## X-axis label\n",
    "# plt.ylabel('Purchase Amount (USD)c* values')"
   ]
  },
  {
   "cell_type": "code",
   "execution_count": null,
   "id": "07ef95e9",
   "metadata": {},
   "outputs": [],
   "source": [
    "# more plot ?\n"
   ]
  },
  {
   "cell_type": "markdown",
   "id": "71052708",
   "metadata": {},
   "source": [
    "<font size=5px color='bblue'> # type some insight here </font>"
   ]
  },
  {
   "cell_type": "markdown",
   "id": "4dca9994",
   "metadata": {},
   "source": [
    "<hr style=\"border: 2px solid magenta;\">"
   ]
  },
  {
   "cell_type": "markdown",
   "id": "63cafea7",
   "metadata": {},
   "source": [
    "## [***](#INDEX)"
   ]
  },
  {
   "cell_type": "markdown",
   "id": "1e7c714c",
   "metadata": {},
   "source": [
    "<hr style=\"border: 2px solid lime;\">"
   ]
  },
  {
   "cell_type": "markdown",
   "id": "afae5a9b",
   "metadata": {},
   "source": [
    "# **<font size=17px color=\"lightgreen\">Location</font>**"
   ]
  },
  {
   "cell_type": "code",
   "execution_count": null,
   "id": "f180b7ea",
   "metadata": {},
   "outputs": [],
   "source": [
    "print(f\"{df['Location'].head(5)}\\n\\n{'*'*21}\\n\\ntop 5 sorted values\\n{df['Location'].sort_values().head(5)}\\n\\n{'*'*21}\\n\\nbottom 5 sorted values\\n{df['Location'].sort_values().tail(5)}\")"
   ]
  },
  {
   "cell_type": "markdown",
   "id": "28525ebe",
   "metadata": {},
   "source": [
    "### <font size=5px color='blue'>data operation</font>"
   ]
  },
  {
   "cell_type": "code",
   "execution_count": null,
   "id": "86b9a86e",
   "metadata": {},
   "outputs": [],
   "source": [
    "print('null value in [Location] == {}'.format(df['Location'].isnull().sum()))"
   ]
  },
  {
   "cell_type": "code",
   "execution_count": null,
   "id": "a2459dcb",
   "metadata": {},
   "outputs": [],
   "source": [
    "print(f'unique values in [Location] == {df['Location'].nunique()}')"
   ]
  },
  {
   "cell_type": "code",
   "execution_count": null,
   "id": "0be68d01",
   "metadata": {},
   "outputs": [],
   "source": [
    "print(f'top 5 unique values:\\nvalue - count : {df['Location'].value_counts()[:5]}\\n\\n{'*'*21}\\n\\nbottom 5 unique value:\\nvalue - count :  {df['Location'].value_counts()[-5:]}')"
   ]
  },
  {
   "cell_type": "markdown",
   "id": "cea97f44",
   "metadata": {},
   "source": [
    "#### <font size= 3.5px color='blue'>dtype</font>"
   ]
  },
  {
   "cell_type": "code",
   "execution_count": null,
   "id": "acfafa00",
   "metadata": {},
   "outputs": [],
   "source": [
    "df['Location'].dtype\n",
    "# format if dtype is wrong"
   ]
  },
  {
   "cell_type": "code",
   "execution_count": null,
   "id": "eb9049ec",
   "metadata": {},
   "outputs": [],
   "source": [
    "## see non numeric value in column\n",
    "\n",
    "## Identify non-numeric values using boolean indexing\n",
    "# non_numeric_value = df['Location'][numeric_column.isna()]\n",
    "# print(non_numeric_value)\n",
    "\n",
    "## Convert the column to numeric, coercing non-numeric values to NaN\n",
    "# numeric_column = pd.to_numeric(df['Location'], errors='coerce')\n",
    "\n"
   ]
  },
  {
   "cell_type": "code",
   "execution_count": null,
   "id": "62c2b778",
   "metadata": {},
   "outputs": [],
   "source": [
    "# format opreation\n",
    "# if dtype is numeric skip this 4 cell\n"
   ]
  },
  {
   "cell_type": "code",
   "execution_count": null,
   "id": "74f625ca",
   "metadata": {},
   "outputs": [],
   "source": [
    "# key = df['Location'].unique().tolist()\n",
    "# values = []  ## assign your values here\n",
    "# print(key)\n",
    "# print(values)  ## len of key and values should be same"
   ]
  },
  {
   "cell_type": "code",
   "execution_count": null,
   "id": "da4d8b34",
   "metadata": {},
   "outputs": [],
   "source": [
    "# Location = dict(zip(key,values)) # label data in 'key': value pair\n",
    "# label['Location'] = Location # store data label dict in main dict actually it's updating/"
   ]
  },
  {
   "cell_type": "code",
   "execution_count": null,
   "id": "c4940bcc",
   "metadata": {},
   "outputs": [],
   "source": [
    "# df['Location'].replace(Location, inplace=True)\n",
    "# print('Modified DataFrame:')\n",
    "# print(df['Location'].head(10))"
   ]
  },
  {
   "cell_type": "code",
   "execution_count": null,
   "id": "459ca8ed",
   "metadata": {},
   "outputs": [],
   "source": [
    "df['Location'].unique()"
   ]
  },
  {
   "cell_type": "code",
   "execution_count": null,
   "id": "eefec1d5",
   "metadata": {},
   "outputs": [],
   "source": [
    "# First plot - Distribution plot\n",
    "plt.figure(figsize=(10, 7))\n",
    "sns.distplot(df['Location'])\n",
    "plt.title('Distribution Plot for Location')  # Title for the plot\n",
    "plt.xlabel('Location Values')  # X-axis label\n",
    "plt.ylabel('Density')  # Y-axis label\n",
    "\n",
    "# Second plot - Boxplot\n",
    "plt.figure(figsize=(10, 7))\n",
    "sns.boxplot(df['Location'],orient='h')\n",
    "plt.title('Box Plot for Location')  # Title for the plot\n",
    "plt.xlabel('Location')  # X-axis label\n",
    "plt.ylabel('Location values')"
   ]
  },
  {
   "cell_type": "markdown",
   "id": "7996249f",
   "metadata": {},
   "source": [
    "<font size=3.5px color='bblue'> # type some insight here </font>"
   ]
  },
  {
   "cell_type": "markdown",
   "id": "7b01d3af",
   "metadata": {},
   "source": [
    "#### <font size=3.5px color = 'blue'>clean data here</font>"
   ]
  },
  {
   "cell_type": "code",
   "execution_count": null,
   "id": "e5a7a0d7",
   "metadata": {},
   "outputs": [],
   "source": [
    "## for removing null value\n",
    "# df.dropna(subset=['Location'], inplace=True)"
   ]
  },
  {
   "cell_type": "code",
   "execution_count": null,
   "id": "9cb10a58",
   "metadata": {},
   "outputs": [],
   "source": [
    "# mean = df['Location'].mean()\n",
    "# print(mean)\n",
    "\n",
    "# median = df['Location'].median()\n",
    "# print(median)\n",
    "\n",
    "# mode = df['Location'].mode()\n",
    "# print(mode)"
   ]
  },
  {
   "cell_type": "code",
   "execution_count": null,
   "id": "71f8b9e1",
   "metadata": {},
   "outputs": [],
   "source": [
    "## Example 1: Replace missing values in a numerical column with the mean\n",
    "# df['Location'].fillna(df['Location'].mean(), inplace=True)\n",
    "\n",
    "## Example 2: Replace missing values in a numerical column with the median\n",
    "# df['Location'].fillna(df['Location'].median(), inplace=True)\n",
    "\n",
    "## Example 3: if **non-numeric**\n",
    "\n",
    "# df['Location'].value_counts()\n",
    "\n",
    " ## Replace missing values in a categorical column with the mode\n",
    "# df['Location'].fillna(df['Location'].mode()[0], inplace=True)"
   ]
  },
  {
   "cell_type": "markdown",
   "id": "e9246ec9",
   "metadata": {},
   "source": [
    "#### <font size=3.5px color = 'blue'>outliers</font>"
   ]
  },
  {
   "cell_type": "code",
   "execution_count": null,
   "id": "a818267b",
   "metadata": {},
   "outputs": [],
   "source": [
    "# remove_outliers(df,'Location')"
   ]
  },
  {
   "cell_type": "code",
   "execution_count": null,
   "id": "8d3251bd",
   "metadata": {},
   "outputs": [],
   "source": [
    "# print('null value in Locationc* == {}'.format(df['Location']c*.isnull().sum()))"
   ]
  },
  {
   "cell_type": "code",
   "execution_count": null,
   "id": "a16dc6b0",
   "metadata": {},
   "outputs": [],
   "source": [
    "## Example 1: Replace missing values in a numerical column with the mean\n",
    "# df['Locationc*'].fillna(df['Locationc*'].mean(), inplace=True)\n",
    "\n",
    "## Example 2: Replace missing values in a numerical column with the median\n",
    "# df['Locationc*'].fillna(df['Locationc*'].median(), inplace=True)\n",
    "\n",
    "## Example 3: if **non-numeric**\n",
    "\n",
    "# df['Locationc*'].value_counts()\n",
    "\n",
    " ## Replace missing values in a categorical column with the mode\n",
    "# df['Locationc*'].fillna(df['Locationc*'].mode()[0], inplace=True)"
   ]
  },
  {
   "cell_type": "markdown",
   "id": "00f4ea0c",
   "metadata": {},
   "source": [
    "### **<font size = 5px color = 'lime'>verify the process</font>**"
   ]
  },
  {
   "cell_type": "code",
   "execution_count": null,
   "id": "2d11dad3",
   "metadata": {},
   "outputs": [],
   "source": [
    "df.head()"
   ]
  },
  {
   "cell_type": "code",
   "execution_count": null,
   "id": "85c58180",
   "metadata": {},
   "outputs": [],
   "source": [
    "print('null value in [Location] == {}'.format(df['Location'].isnull().sum()))\n",
    "# print('\\n---\\n')\n",
    "# print('null value in Locationc* == {}'.format(df['Locationc*'].isnull().sum()))"
   ]
  },
  {
   "cell_type": "code",
   "execution_count": null,
   "id": "5be7cc64",
   "metadata": {},
   "outputs": [],
   "source": [
    "print(f'The dtype of [Location] == {df['Location'].dtype}')\n",
    "# print('\\n---\\n')\n",
    "# print(f'The dtype of Locationc* is {df['Locationc*'].dtype}')"
   ]
  },
  {
   "cell_type": "code",
   "execution_count": null,
   "id": "899a0dae",
   "metadata": {},
   "outputs": [],
   "source": [
    "## First plot - Distribution plot\n",
    "# plt.figure(figsize=(10, 7))\n",
    "# sns.distplot(df['Locationc*'])\n",
    "# plt.title('Distribution Plot for Locationc*')  ## Title for the plot\n",
    "# plt.xlabel('Locationc* Values')  ## X-axis label\n",
    "# plt.ylabel('Density')  ## Y-axis label\n",
    "\n",
    "## Second plot - Boxplot\n",
    "# plt.figure(figsize=(10, 7))\n",
    "# sns.boxplot(df['Locationc*'],orient='h')\n",
    "# plt.title('Box Plot for Locationc*')  ## Title for the plot\n",
    "# plt.xlabel('Locationc*')  ## X-axis label\n",
    "# plt.ylabel('Locationc* values')"
   ]
  },
  {
   "cell_type": "code",
   "execution_count": null,
   "id": "c9159d17",
   "metadata": {},
   "outputs": [],
   "source": [
    "# more plot ?\n"
   ]
  },
  {
   "cell_type": "markdown",
   "id": "45bbd9b3",
   "metadata": {},
   "source": [
    "<font size=5px color='bblue'> # type some insight here </font>"
   ]
  },
  {
   "cell_type": "markdown",
   "id": "d26a95f3",
   "metadata": {},
   "source": [
    "<hr style=\"border: 2px solid magenta;\">"
   ]
  },
  {
   "cell_type": "markdown",
   "id": "d84f0332",
   "metadata": {},
   "source": [
    "## [***](#INDEX)"
   ]
  },
  {
   "cell_type": "markdown",
   "id": "dca37179",
   "metadata": {},
   "source": [
    "<hr style=\"border: 2px solid lime;\">"
   ]
  },
  {
   "cell_type": "markdown",
   "id": "385b95a6",
   "metadata": {},
   "source": [
    "# **<font size=17px color=\"lightgreen\">Size</font>**"
   ]
  },
  {
   "cell_type": "code",
   "execution_count": null,
   "id": "0561ccb5",
   "metadata": {},
   "outputs": [],
   "source": [
    "print(f\"{df['Size'].head(5)}\\n\\n{'*'*21}\\n\\ntop 5 sorted values\\n{df['Size'].sort_values().head(5)}\\n\\n{'*'*21}\\n\\nbottom 5 sorted values\\n{df['Size'].sort_values().tail(5)}\")"
   ]
  },
  {
   "cell_type": "markdown",
   "id": "d7d962e2",
   "metadata": {},
   "source": [
    "### <font size=5px color='blue'>data operation</font>"
   ]
  },
  {
   "cell_type": "code",
   "execution_count": null,
   "id": "26085c20",
   "metadata": {},
   "outputs": [],
   "source": [
    "print('null value in [Size] == {}'.format(df['Size'].isnull().sum()))"
   ]
  },
  {
   "cell_type": "code",
   "execution_count": null,
   "id": "c62de39c",
   "metadata": {},
   "outputs": [],
   "source": [
    "print(f'unique values in [Size] == {df['Size'].nunique()}')"
   ]
  },
  {
   "cell_type": "code",
   "execution_count": null,
   "id": "d158f322",
   "metadata": {},
   "outputs": [],
   "source": [
    "print(f'top 5 unique values:\\nvalue - count : {df['Size'].value_counts()[:5]}\\n\\n{'*'*21}\\n\\nbottom 5 unique value:\\nvalue - count :  {df['Size'].value_counts()[-5:]}')"
   ]
  },
  {
   "cell_type": "markdown",
   "id": "730fb51e",
   "metadata": {},
   "source": [
    "#### <font size= 3.5px color='blue'>dtype</font>"
   ]
  },
  {
   "cell_type": "code",
   "execution_count": null,
   "id": "4fc11457",
   "metadata": {},
   "outputs": [],
   "source": [
    "df['Size'].dtype\n",
    "# format if dtype is wrong"
   ]
  },
  {
   "cell_type": "code",
   "execution_count": null,
   "id": "6b61573d",
   "metadata": {},
   "outputs": [],
   "source": [
    "## see non numeric value in column\n",
    "\n",
    "## Identify non-numeric values using boolean indexing\n",
    "# non_numeric_value = df['Size'][numeric_column.isna()]\n",
    "# print(non_numeric_value)\n",
    "\n",
    "## Convert the column to numeric, coercing non-numeric values to NaN\n",
    "# numeric_column = pd.to_numeric(df['Size'], errors='coerce')\n",
    "\n"
   ]
  },
  {
   "cell_type": "code",
   "execution_count": null,
   "id": "63a8ae77",
   "metadata": {},
   "outputs": [],
   "source": [
    "# format opreation\n",
    "# if dtype is numeric skip this 4 cell\n"
   ]
  },
  {
   "cell_type": "code",
   "execution_count": null,
   "id": "739840a6",
   "metadata": {},
   "outputs": [],
   "source": [
    "# key = df['Size'].unique().tolist()\n",
    "# values = []  ## assign your values here\n",
    "# print(key)\n",
    "# print(values)  ## len of key and values should be same"
   ]
  },
  {
   "cell_type": "code",
   "execution_count": null,
   "id": "4637322b",
   "metadata": {},
   "outputs": [],
   "source": [
    "# Size = dict(zip(key,values)) # label data in 'key': value pair\n",
    "# label['Size'] = Size # store data label dict in main dict actually it's updating/"
   ]
  },
  {
   "cell_type": "code",
   "execution_count": null,
   "id": "37a22a76",
   "metadata": {},
   "outputs": [],
   "source": [
    "# df['Size'].replace(Size, inplace=True)\n",
    "# print('Modified DataFrame:')\n",
    "# print(df['Size'].head(10))"
   ]
  },
  {
   "cell_type": "code",
   "execution_count": null,
   "id": "7f379120",
   "metadata": {},
   "outputs": [],
   "source": [
    "df['Size'].unique()"
   ]
  },
  {
   "cell_type": "code",
   "execution_count": null,
   "id": "9ee2d419",
   "metadata": {},
   "outputs": [],
   "source": [
    "# First plot - Distribution plot\n",
    "plt.figure(figsize=(10, 7))\n",
    "sns.distplot(df['Size'])\n",
    "plt.title('Distribution Plot for Size')  # Title for the plot\n",
    "plt.xlabel('Size Values')  # X-axis label\n",
    "plt.ylabel('Density')  # Y-axis label\n",
    "\n",
    "# Second plot - Boxplot\n",
    "plt.figure(figsize=(10, 7))\n",
    "sns.boxplot(df['Size'],orient='h')\n",
    "plt.title('Box Plot for Size')  # Title for the plot\n",
    "plt.xlabel('Size')  # X-axis label\n",
    "plt.ylabel('Size values')"
   ]
  },
  {
   "cell_type": "markdown",
   "id": "75ad8136",
   "metadata": {},
   "source": [
    "<font size=3.5px color='bblue'> # type some insight here </font>"
   ]
  },
  {
   "cell_type": "markdown",
   "id": "ee502ba9",
   "metadata": {},
   "source": [
    "#### <font size=3.5px color = 'blue'>clean data here</font>"
   ]
  },
  {
   "cell_type": "code",
   "execution_count": null,
   "id": "dd85ddd9",
   "metadata": {},
   "outputs": [],
   "source": [
    "## for removing null value\n",
    "# df.dropna(subset=['Size'], inplace=True)"
   ]
  },
  {
   "cell_type": "code",
   "execution_count": null,
   "id": "ca3a0184",
   "metadata": {},
   "outputs": [],
   "source": [
    "# mean = df['Size'].mean()\n",
    "# print(mean)\n",
    "\n",
    "# median = df['Size'].median()\n",
    "# print(median)\n",
    "\n",
    "# mode = df['Size'].mode()\n",
    "# print(mode)"
   ]
  },
  {
   "cell_type": "code",
   "execution_count": null,
   "id": "e6d8b5c5",
   "metadata": {},
   "outputs": [],
   "source": [
    "## Example 1: Replace missing values in a numerical column with the mean\n",
    "# df['Size'].fillna(df['Size'].mean(), inplace=True)\n",
    "\n",
    "## Example 2: Replace missing values in a numerical column with the median\n",
    "# df['Size'].fillna(df['Size'].median(), inplace=True)\n",
    "\n",
    "## Example 3: if **non-numeric**\n",
    "\n",
    "# df['Size'].value_counts()\n",
    "\n",
    " ## Replace missing values in a categorical column with the mode\n",
    "# df['Size'].fillna(df['Size'].mode()[0], inplace=True)"
   ]
  },
  {
   "cell_type": "markdown",
   "id": "558cb74b",
   "metadata": {},
   "source": [
    "#### <font size=3.5px color = 'blue'>outliers</font>"
   ]
  },
  {
   "cell_type": "code",
   "execution_count": null,
   "id": "c95f416a",
   "metadata": {},
   "outputs": [],
   "source": [
    "# remove_outliers(df,'Size')"
   ]
  },
  {
   "cell_type": "code",
   "execution_count": null,
   "id": "8814cff1",
   "metadata": {},
   "outputs": [],
   "source": [
    "# print('null value in Sizec* == {}'.format(df['Size']c*.isnull().sum()))"
   ]
  },
  {
   "cell_type": "code",
   "execution_count": null,
   "id": "2e56861b",
   "metadata": {},
   "outputs": [],
   "source": [
    "## Example 1: Replace missing values in a numerical column with the mean\n",
    "# df['Sizec*'].fillna(df['Sizec*'].mean(), inplace=True)\n",
    "\n",
    "## Example 2: Replace missing values in a numerical column with the median\n",
    "# df['Sizec*'].fillna(df['Sizec*'].median(), inplace=True)\n",
    "\n",
    "## Example 3: if **non-numeric**\n",
    "\n",
    "# df['Sizec*'].value_counts()\n",
    "\n",
    " ## Replace missing values in a categorical column with the mode\n",
    "# df['Sizec*'].fillna(df['Sizec*'].mode()[0], inplace=True)"
   ]
  },
  {
   "cell_type": "markdown",
   "id": "6ff431f2",
   "metadata": {},
   "source": [
    "### **<font size = 5px color = 'lime'>verify the process</font>**"
   ]
  },
  {
   "cell_type": "code",
   "execution_count": null,
   "id": "c75a5a56",
   "metadata": {},
   "outputs": [],
   "source": [
    "df.head()"
   ]
  },
  {
   "cell_type": "code",
   "execution_count": null,
   "id": "05e69715",
   "metadata": {},
   "outputs": [],
   "source": [
    "print('null value in [Size] == {}'.format(df['Size'].isnull().sum()))\n",
    "# print('\\n---\\n')\n",
    "# print('null value in Sizec* == {}'.format(df['Sizec*'].isnull().sum()))"
   ]
  },
  {
   "cell_type": "code",
   "execution_count": null,
   "id": "c6337d43",
   "metadata": {},
   "outputs": [],
   "source": [
    "print(f'The dtype of [Size] == {df['Size'].dtype}')\n",
    "# print('\\n---\\n')\n",
    "# print(f'The dtype of Sizec* is {df['Sizec*'].dtype}')"
   ]
  },
  {
   "cell_type": "code",
   "execution_count": null,
   "id": "956a46bc",
   "metadata": {},
   "outputs": [],
   "source": [
    "## First plot - Distribution plot\n",
    "# plt.figure(figsize=(10, 7))\n",
    "# sns.distplot(df['Sizec*'])\n",
    "# plt.title('Distribution Plot for Sizec*')  ## Title for the plot\n",
    "# plt.xlabel('Sizec* Values')  ## X-axis label\n",
    "# plt.ylabel('Density')  ## Y-axis label\n",
    "\n",
    "## Second plot - Boxplot\n",
    "# plt.figure(figsize=(10, 7))\n",
    "# sns.boxplot(df['Sizec*'],orient='h')\n",
    "# plt.title('Box Plot for Sizec*')  ## Title for the plot\n",
    "# plt.xlabel('Sizec*')  ## X-axis label\n",
    "# plt.ylabel('Sizec* values')"
   ]
  },
  {
   "cell_type": "code",
   "execution_count": null,
   "id": "da7da91b",
   "metadata": {},
   "outputs": [],
   "source": [
    "# more plot ?\n"
   ]
  },
  {
   "cell_type": "markdown",
   "id": "0a4df33d",
   "metadata": {},
   "source": [
    "<font size=5px color='bblue'> # type some insight here </font>"
   ]
  },
  {
   "cell_type": "markdown",
   "id": "43ccfa75",
   "metadata": {},
   "source": [
    "<hr style=\"border: 2px solid magenta;\">"
   ]
  },
  {
   "cell_type": "markdown",
   "id": "8705f370",
   "metadata": {},
   "source": [
    "## [***](#INDEX)"
   ]
  },
  {
   "cell_type": "markdown",
   "id": "5d01be81",
   "metadata": {},
   "source": [
    "<hr style=\"border: 2px solid lime;\">"
   ]
  },
  {
   "cell_type": "markdown",
   "id": "f100ee73",
   "metadata": {},
   "source": [
    "# **<font size=17px color=\"lightgreen\">Color</font>**"
   ]
  },
  {
   "cell_type": "code",
   "execution_count": null,
   "id": "647534f6",
   "metadata": {},
   "outputs": [],
   "source": [
    "print(f\"{df['Color'].head(5)}\\n\\n{'*'*21}\\n\\ntop 5 sorted values\\n{df['Color'].sort_values().head(5)}\\n\\n{'*'*21}\\n\\nbottom 5 sorted values\\n{df['Color'].sort_values().tail(5)}\")"
   ]
  },
  {
   "cell_type": "markdown",
   "id": "d6e2304b",
   "metadata": {},
   "source": [
    "### <font size=5px color='blue'>data operation</font>"
   ]
  },
  {
   "cell_type": "code",
   "execution_count": null,
   "id": "4e86d775",
   "metadata": {},
   "outputs": [],
   "source": [
    "print('null value in [Color] == {}'.format(df['Color'].isnull().sum()))"
   ]
  },
  {
   "cell_type": "code",
   "execution_count": null,
   "id": "7af57c6c",
   "metadata": {},
   "outputs": [],
   "source": [
    "print(f'unique values in [Color] == {df['Color'].nunique()}')"
   ]
  },
  {
   "cell_type": "code",
   "execution_count": null,
   "id": "2fcad8dc",
   "metadata": {},
   "outputs": [],
   "source": [
    "print(f'top 5 unique values:\\nvalue - count : {df['Color'].value_counts()[:5]}\\n\\n{'*'*21}\\n\\nbottom 5 unique value:\\nvalue - count :  {df['Color'].value_counts()[-5:]}')"
   ]
  },
  {
   "cell_type": "markdown",
   "id": "62404c36",
   "metadata": {},
   "source": [
    "#### <font size= 3.5px color='blue'>dtype</font>"
   ]
  },
  {
   "cell_type": "code",
   "execution_count": null,
   "id": "d11a1efc",
   "metadata": {},
   "outputs": [],
   "source": [
    "df['Color'].dtype\n",
    "# format if dtype is wrong"
   ]
  },
  {
   "cell_type": "code",
   "execution_count": null,
   "id": "05c2bc8d",
   "metadata": {},
   "outputs": [],
   "source": [
    "## see non numeric value in column\n",
    "\n",
    "## Identify non-numeric values using boolean indexing\n",
    "# non_numeric_value = df['Color'][numeric_column.isna()]\n",
    "# print(non_numeric_value)\n",
    "\n",
    "## Convert the column to numeric, coercing non-numeric values to NaN\n",
    "# numeric_column = pd.to_numeric(df['Color'], errors='coerce')\n",
    "\n"
   ]
  },
  {
   "cell_type": "code",
   "execution_count": null,
   "id": "ea57078d",
   "metadata": {},
   "outputs": [],
   "source": [
    "# format opreation\n",
    "# if dtype is numeric skip this 4 cell\n"
   ]
  },
  {
   "cell_type": "code",
   "execution_count": null,
   "id": "c71e269d",
   "metadata": {},
   "outputs": [],
   "source": [
    "# key = df['Color'].unique().tolist()\n",
    "# values = []  ## assign your values here\n",
    "# print(key)\n",
    "# print(values)  ## len of key and values should be same"
   ]
  },
  {
   "cell_type": "code",
   "execution_count": null,
   "id": "6d448175",
   "metadata": {},
   "outputs": [],
   "source": [
    "# Color = dict(zip(key,values)) # label data in 'key': value pair\n",
    "# label['Color'] = Color # store data label dict in main dict actually it's updating/"
   ]
  },
  {
   "cell_type": "code",
   "execution_count": null,
   "id": "94258adb",
   "metadata": {},
   "outputs": [],
   "source": [
    "# df['Color'].replace(Color, inplace=True)\n",
    "# print('Modified DataFrame:')\n",
    "# print(df['Color'].head(10))"
   ]
  },
  {
   "cell_type": "code",
   "execution_count": null,
   "id": "7844b2e7",
   "metadata": {},
   "outputs": [],
   "source": [
    "df['Color'].unique()"
   ]
  },
  {
   "cell_type": "code",
   "execution_count": null,
   "id": "a8a91b28",
   "metadata": {},
   "outputs": [],
   "source": [
    "# First plot - Distribution plot\n",
    "plt.figure(figsize=(10, 7))\n",
    "sns.distplot(df['Color'])\n",
    "plt.title('Distribution Plot for Color')  # Title for the plot\n",
    "plt.xlabel('Color Values')  # X-axis label\n",
    "plt.ylabel('Density')  # Y-axis label\n",
    "\n",
    "# Second plot - Boxplot\n",
    "plt.figure(figsize=(10, 7))\n",
    "sns.boxplot(df['Color'],orient='h')\n",
    "plt.title('Box Plot for Color')  # Title for the plot\n",
    "plt.xlabel('Color')  # X-axis label\n",
    "plt.ylabel('Color values')"
   ]
  },
  {
   "cell_type": "markdown",
   "id": "76d145c7",
   "metadata": {},
   "source": [
    "<font size=3.5px color='bblue'> # type some insight here </font>"
   ]
  },
  {
   "cell_type": "markdown",
   "id": "2c544143",
   "metadata": {},
   "source": [
    "#### <font size=3.5px color = 'blue'>clean data here</font>"
   ]
  },
  {
   "cell_type": "code",
   "execution_count": null,
   "id": "6c7ff8ee",
   "metadata": {},
   "outputs": [],
   "source": [
    "## for removing null value\n",
    "# df.dropna(subset=['Color'], inplace=True)"
   ]
  },
  {
   "cell_type": "code",
   "execution_count": null,
   "id": "9bffbb27",
   "metadata": {},
   "outputs": [],
   "source": [
    "# mean = df['Color'].mean()\n",
    "# print(mean)\n",
    "\n",
    "# median = df['Color'].median()\n",
    "# print(median)\n",
    "\n",
    "# mode = df['Color'].mode()\n",
    "# print(mode)"
   ]
  },
  {
   "cell_type": "code",
   "execution_count": null,
   "id": "ef9945b0",
   "metadata": {},
   "outputs": [],
   "source": [
    "## Example 1: Replace missing values in a numerical column with the mean\n",
    "# df['Color'].fillna(df['Color'].mean(), inplace=True)\n",
    "\n",
    "## Example 2: Replace missing values in a numerical column with the median\n",
    "# df['Color'].fillna(df['Color'].median(), inplace=True)\n",
    "\n",
    "## Example 3: if **non-numeric**\n",
    "\n",
    "# df['Color'].value_counts()\n",
    "\n",
    " ## Replace missing values in a categorical column with the mode\n",
    "# df['Color'].fillna(df['Color'].mode()[0], inplace=True)"
   ]
  },
  {
   "cell_type": "markdown",
   "id": "0179dc46",
   "metadata": {},
   "source": [
    "#### <font size=3.5px color = 'blue'>outliers</font>"
   ]
  },
  {
   "cell_type": "code",
   "execution_count": null,
   "id": "16deeaf2",
   "metadata": {},
   "outputs": [],
   "source": [
    "# remove_outliers(df,'Color')"
   ]
  },
  {
   "cell_type": "code",
   "execution_count": null,
   "id": "ec36bd8e",
   "metadata": {},
   "outputs": [],
   "source": [
    "# print('null value in Colorc* == {}'.format(df['Color']c*.isnull().sum()))"
   ]
  },
  {
   "cell_type": "code",
   "execution_count": null,
   "id": "d46b3b30",
   "metadata": {},
   "outputs": [],
   "source": [
    "## Example 1: Replace missing values in a numerical column with the mean\n",
    "# df['Colorc*'].fillna(df['Colorc*'].mean(), inplace=True)\n",
    "\n",
    "## Example 2: Replace missing values in a numerical column with the median\n",
    "# df['Colorc*'].fillna(df['Colorc*'].median(), inplace=True)\n",
    "\n",
    "## Example 3: if **non-numeric**\n",
    "\n",
    "# df['Colorc*'].value_counts()\n",
    "\n",
    " ## Replace missing values in a categorical column with the mode\n",
    "# df['Colorc*'].fillna(df['Colorc*'].mode()[0], inplace=True)"
   ]
  },
  {
   "cell_type": "markdown",
   "id": "120f190d",
   "metadata": {},
   "source": [
    "### **<font size = 5px color = 'lime'>verify the process</font>**"
   ]
  },
  {
   "cell_type": "code",
   "execution_count": null,
   "id": "30dbef5e",
   "metadata": {},
   "outputs": [],
   "source": [
    "df.head()"
   ]
  },
  {
   "cell_type": "code",
   "execution_count": null,
   "id": "5d28f7b4",
   "metadata": {},
   "outputs": [],
   "source": [
    "print('null value in [Color] == {}'.format(df['Color'].isnull().sum()))\n",
    "# print('\\n---\\n')\n",
    "# print('null value in Colorc* == {}'.format(df['Colorc*'].isnull().sum()))"
   ]
  },
  {
   "cell_type": "code",
   "execution_count": null,
   "id": "c23889f5",
   "metadata": {},
   "outputs": [],
   "source": [
    "print(f'The dtype of [Color] == {df['Color'].dtype}')\n",
    "# print('\\n---\\n')\n",
    "# print(f'The dtype of Colorc* is {df['Colorc*'].dtype}')"
   ]
  },
  {
   "cell_type": "code",
   "execution_count": null,
   "id": "1a7c183d",
   "metadata": {},
   "outputs": [],
   "source": [
    "## First plot - Distribution plot\n",
    "# plt.figure(figsize=(10, 7))\n",
    "# sns.distplot(df['Colorc*'])\n",
    "# plt.title('Distribution Plot for Colorc*')  ## Title for the plot\n",
    "# plt.xlabel('Colorc* Values')  ## X-axis label\n",
    "# plt.ylabel('Density')  ## Y-axis label\n",
    "\n",
    "## Second plot - Boxplot\n",
    "# plt.figure(figsize=(10, 7))\n",
    "# sns.boxplot(df['Colorc*'],orient='h')\n",
    "# plt.title('Box Plot for Colorc*')  ## Title for the plot\n",
    "# plt.xlabel('Colorc*')  ## X-axis label\n",
    "# plt.ylabel('Colorc* values')"
   ]
  },
  {
   "cell_type": "code",
   "execution_count": null,
   "id": "534210f3",
   "metadata": {},
   "outputs": [],
   "source": [
    "# more plot ?\n"
   ]
  },
  {
   "cell_type": "markdown",
   "id": "5bb5207b",
   "metadata": {},
   "source": [
    "<font size=5px color='bblue'> # type some insight here </font>"
   ]
  },
  {
   "cell_type": "markdown",
   "id": "70cc0694",
   "metadata": {},
   "source": [
    "<hr style=\"border: 2px solid magenta;\">"
   ]
  },
  {
   "cell_type": "markdown",
   "id": "95f836a1",
   "metadata": {},
   "source": [
    "## [***](#INDEX)"
   ]
  },
  {
   "cell_type": "markdown",
   "id": "1383cceb",
   "metadata": {},
   "source": [
    "<hr style=\"border: 2px solid lime;\">"
   ]
  },
  {
   "cell_type": "markdown",
   "id": "d4105f9e",
   "metadata": {},
   "source": [
    "# **<font size=17px color=\"lightgreen\">Season</font>**"
   ]
  },
  {
   "cell_type": "code",
   "execution_count": null,
   "id": "1676c4d1",
   "metadata": {},
   "outputs": [],
   "source": [
    "print(f\"{df['Season'].head(5)}\\n\\n{'*'*21}\\n\\ntop 5 sorted values\\n{df['Season'].sort_values().head(5)}\\n\\n{'*'*21}\\n\\nbottom 5 sorted values\\n{df['Season'].sort_values().tail(5)}\")"
   ]
  },
  {
   "cell_type": "markdown",
   "id": "286a830b",
   "metadata": {},
   "source": [
    "### <font size=5px color='blue'>data operation</font>"
   ]
  },
  {
   "cell_type": "code",
   "execution_count": null,
   "id": "64df499c",
   "metadata": {},
   "outputs": [],
   "source": [
    "print('null value in [Season] == {}'.format(df['Season'].isnull().sum()))"
   ]
  },
  {
   "cell_type": "code",
   "execution_count": null,
   "id": "bd0f9d2f",
   "metadata": {},
   "outputs": [],
   "source": [
    "print(f'unique values in [Season] == {df['Season'].nunique()}')"
   ]
  },
  {
   "cell_type": "code",
   "execution_count": null,
   "id": "9cb5af74",
   "metadata": {},
   "outputs": [],
   "source": [
    "print(f'top 5 unique values:\\nvalue - count : {df['Season'].value_counts()[:5]}\\n\\n{'*'*21}\\n\\nbottom 5 unique value:\\nvalue - count :  {df['Season'].value_counts()[-5:]}')"
   ]
  },
  {
   "cell_type": "markdown",
   "id": "fdf7cb7f",
   "metadata": {},
   "source": [
    "#### <font size= 3.5px color='blue'>dtype</font>"
   ]
  },
  {
   "cell_type": "code",
   "execution_count": null,
   "id": "f077d250",
   "metadata": {},
   "outputs": [],
   "source": [
    "df['Season'].dtype\n",
    "# format if dtype is wrong"
   ]
  },
  {
   "cell_type": "code",
   "execution_count": null,
   "id": "15562077",
   "metadata": {},
   "outputs": [],
   "source": [
    "## see non numeric value in column\n",
    "\n",
    "## Identify non-numeric values using boolean indexing\n",
    "# non_numeric_value = df['Season'][numeric_column.isna()]\n",
    "# print(non_numeric_value)\n",
    "\n",
    "## Convert the column to numeric, coercing non-numeric values to NaN\n",
    "# numeric_column = pd.to_numeric(df['Season'], errors='coerce')\n",
    "\n"
   ]
  },
  {
   "cell_type": "code",
   "execution_count": null,
   "id": "7d04587b",
   "metadata": {},
   "outputs": [],
   "source": [
    "# format opreation\n",
    "# if dtype is numeric skip this 4 cell\n"
   ]
  },
  {
   "cell_type": "code",
   "execution_count": null,
   "id": "72d27127",
   "metadata": {},
   "outputs": [],
   "source": [
    "# key = df['Season'].unique().tolist()\n",
    "# values = []  ## assign your values here\n",
    "# print(key)\n",
    "# print(values)  ## len of key and values should be same"
   ]
  },
  {
   "cell_type": "code",
   "execution_count": null,
   "id": "af7474fc",
   "metadata": {},
   "outputs": [],
   "source": [
    "# Season = dict(zip(key,values)) # label data in 'key': value pair\n",
    "# label['Season'] = Season # store data label dict in main dict actually it's updating/"
   ]
  },
  {
   "cell_type": "code",
   "execution_count": null,
   "id": "164440a8",
   "metadata": {},
   "outputs": [],
   "source": [
    "# df['Season'].replace(Season, inplace=True)\n",
    "# print('Modified DataFrame:')\n",
    "# print(df['Season'].head(10))"
   ]
  },
  {
   "cell_type": "code",
   "execution_count": null,
   "id": "b8501076",
   "metadata": {},
   "outputs": [],
   "source": [
    "df['Season'].unique()"
   ]
  },
  {
   "cell_type": "code",
   "execution_count": null,
   "id": "9b5d7cf9",
   "metadata": {},
   "outputs": [],
   "source": [
    "# First plot - Distribution plot\n",
    "plt.figure(figsize=(10, 7))\n",
    "sns.distplot(df['Season'])\n",
    "plt.title('Distribution Plot for Season')  # Title for the plot\n",
    "plt.xlabel('Season Values')  # X-axis label\n",
    "plt.ylabel('Density')  # Y-axis label\n",
    "\n",
    "# Second plot - Boxplot\n",
    "plt.figure(figsize=(10, 7))\n",
    "sns.boxplot(df['Season'],orient='h')\n",
    "plt.title('Box Plot for Season')  # Title for the plot\n",
    "plt.xlabel('Season')  # X-axis label\n",
    "plt.ylabel('Season values')"
   ]
  },
  {
   "cell_type": "markdown",
   "id": "61ffd95e",
   "metadata": {},
   "source": [
    "<font size=3.5px color='bblue'> # type some insight here </font>"
   ]
  },
  {
   "cell_type": "markdown",
   "id": "d1bc4aba",
   "metadata": {},
   "source": [
    "#### <font size=3.5px color = 'blue'>clean data here</font>"
   ]
  },
  {
   "cell_type": "code",
   "execution_count": null,
   "id": "5cd1a984",
   "metadata": {},
   "outputs": [],
   "source": [
    "## for removing null value\n",
    "# df.dropna(subset=['Season'], inplace=True)"
   ]
  },
  {
   "cell_type": "code",
   "execution_count": null,
   "id": "54dbc6de",
   "metadata": {},
   "outputs": [],
   "source": [
    "# mean = df['Season'].mean()\n",
    "# print(mean)\n",
    "\n",
    "# median = df['Season'].median()\n",
    "# print(median)\n",
    "\n",
    "# mode = df['Season'].mode()\n",
    "# print(mode)"
   ]
  },
  {
   "cell_type": "code",
   "execution_count": null,
   "id": "fe031ffe",
   "metadata": {},
   "outputs": [],
   "source": [
    "## Example 1: Replace missing values in a numerical column with the mean\n",
    "# df['Season'].fillna(df['Season'].mean(), inplace=True)\n",
    "\n",
    "## Example 2: Replace missing values in a numerical column with the median\n",
    "# df['Season'].fillna(df['Season'].median(), inplace=True)\n",
    "\n",
    "## Example 3: if **non-numeric**\n",
    "\n",
    "# df['Season'].value_counts()\n",
    "\n",
    " ## Replace missing values in a categorical column with the mode\n",
    "# df['Season'].fillna(df['Season'].mode()[0], inplace=True)"
   ]
  },
  {
   "cell_type": "markdown",
   "id": "3cdcbe5b",
   "metadata": {},
   "source": [
    "#### <font size=3.5px color = 'blue'>outliers</font>"
   ]
  },
  {
   "cell_type": "code",
   "execution_count": null,
   "id": "0f88ebe9",
   "metadata": {},
   "outputs": [],
   "source": [
    "# remove_outliers(df,'Season')"
   ]
  },
  {
   "cell_type": "code",
   "execution_count": null,
   "id": "3dedd0ff",
   "metadata": {},
   "outputs": [],
   "source": [
    "# print('null value in Seasonc* == {}'.format(df['Season']c*.isnull().sum()))"
   ]
  },
  {
   "cell_type": "code",
   "execution_count": null,
   "id": "cf1f7a91",
   "metadata": {},
   "outputs": [],
   "source": [
    "## Example 1: Replace missing values in a numerical column with the mean\n",
    "# df['Seasonc*'].fillna(df['Seasonc*'].mean(), inplace=True)\n",
    "\n",
    "## Example 2: Replace missing values in a numerical column with the median\n",
    "# df['Seasonc*'].fillna(df['Seasonc*'].median(), inplace=True)\n",
    "\n",
    "## Example 3: if **non-numeric**\n",
    "\n",
    "# df['Seasonc*'].value_counts()\n",
    "\n",
    " ## Replace missing values in a categorical column with the mode\n",
    "# df['Seasonc*'].fillna(df['Seasonc*'].mode()[0], inplace=True)"
   ]
  },
  {
   "cell_type": "markdown",
   "id": "9479bebb",
   "metadata": {},
   "source": [
    "### **<font size = 5px color = 'lime'>verify the process</font>**"
   ]
  },
  {
   "cell_type": "code",
   "execution_count": null,
   "id": "715bd59d",
   "metadata": {},
   "outputs": [],
   "source": [
    "df.head()"
   ]
  },
  {
   "cell_type": "code",
   "execution_count": null,
   "id": "5e28f72d",
   "metadata": {},
   "outputs": [],
   "source": [
    "print('null value in [Season] == {}'.format(df['Season'].isnull().sum()))\n",
    "# print('\\n---\\n')\n",
    "# print('null value in Seasonc* == {}'.format(df['Seasonc*'].isnull().sum()))"
   ]
  },
  {
   "cell_type": "code",
   "execution_count": null,
   "id": "34d71309",
   "metadata": {},
   "outputs": [],
   "source": [
    "print(f'The dtype of [Season] == {df['Season'].dtype}')\n",
    "# print('\\n---\\n')\n",
    "# print(f'The dtype of Seasonc* is {df['Seasonc*'].dtype}')"
   ]
  },
  {
   "cell_type": "code",
   "execution_count": null,
   "id": "0e0de3d8",
   "metadata": {},
   "outputs": [],
   "source": [
    "## First plot - Distribution plot\n",
    "# plt.figure(figsize=(10, 7))\n",
    "# sns.distplot(df['Seasonc*'])\n",
    "# plt.title('Distribution Plot for Seasonc*')  ## Title for the plot\n",
    "# plt.xlabel('Seasonc* Values')  ## X-axis label\n",
    "# plt.ylabel('Density')  ## Y-axis label\n",
    "\n",
    "## Second plot - Boxplot\n",
    "# plt.figure(figsize=(10, 7))\n",
    "# sns.boxplot(df['Seasonc*'],orient='h')\n",
    "# plt.title('Box Plot for Seasonc*')  ## Title for the plot\n",
    "# plt.xlabel('Seasonc*')  ## X-axis label\n",
    "# plt.ylabel('Seasonc* values')"
   ]
  },
  {
   "cell_type": "code",
   "execution_count": null,
   "id": "f749c11a",
   "metadata": {},
   "outputs": [],
   "source": [
    "# more plot ?\n"
   ]
  },
  {
   "cell_type": "markdown",
   "id": "ce7e7f25",
   "metadata": {},
   "source": [
    "<font size=5px color='bblue'> # type some insight here </font>"
   ]
  },
  {
   "cell_type": "markdown",
   "id": "83fe0ccf",
   "metadata": {},
   "source": [
    "<hr style=\"border: 2px solid magenta;\">"
   ]
  },
  {
   "cell_type": "markdown",
   "id": "4d65979e",
   "metadata": {},
   "source": [
    "## [***](#INDEX)"
   ]
  },
  {
   "cell_type": "markdown",
   "id": "d082a97e",
   "metadata": {},
   "source": [
    "<hr style=\"border: 2px solid lime;\">"
   ]
  },
  {
   "cell_type": "markdown",
   "id": "362b7e36",
   "metadata": {},
   "source": [
    "# **<font size=17px color=\"lightgreen\">Review Rating</font>**"
   ]
  },
  {
   "cell_type": "code",
   "execution_count": null,
   "id": "68b5677a",
   "metadata": {},
   "outputs": [],
   "source": [
    "print(f\"{df['Review Rating'].head(5)}\\n\\n{'*'*21}\\n\\ntop 5 sorted values\\n{df['Review Rating'].sort_values().head(5)}\\n\\n{'*'*21}\\n\\nbottom 5 sorted values\\n{df['Review Rating'].sort_values().tail(5)}\")"
   ]
  },
  {
   "cell_type": "markdown",
   "id": "8a243c19",
   "metadata": {},
   "source": [
    "### <font size=5px color='blue'>data operation</font>"
   ]
  },
  {
   "cell_type": "code",
   "execution_count": null,
   "id": "c777637e",
   "metadata": {},
   "outputs": [],
   "source": [
    "print('null value in [Review Rating] == {}'.format(df['Review Rating'].isnull().sum()))"
   ]
  },
  {
   "cell_type": "code",
   "execution_count": null,
   "id": "aaaf9191",
   "metadata": {},
   "outputs": [],
   "source": [
    "print(f'unique values in [Review Rating] == {df['Review Rating'].nunique()}')"
   ]
  },
  {
   "cell_type": "code",
   "execution_count": null,
   "id": "4221e385",
   "metadata": {},
   "outputs": [],
   "source": [
    "print(f'top 5 unique values:\\nvalue - count : {df['Review Rating'].value_counts()[:5]}\\n\\n{'*'*21}\\n\\nbottom 5 unique value:\\nvalue - count :  {df['Review Rating'].value_counts()[-5:]}')"
   ]
  },
  {
   "cell_type": "markdown",
   "id": "50397c6d",
   "metadata": {},
   "source": [
    "#### <font size= 3.5px color='blue'>dtype</font>"
   ]
  },
  {
   "cell_type": "code",
   "execution_count": null,
   "id": "a1498f83",
   "metadata": {},
   "outputs": [],
   "source": [
    "df['Review Rating'].dtype\n",
    "# format if dtype is wrong"
   ]
  },
  {
   "cell_type": "code",
   "execution_count": null,
   "id": "686d7e57",
   "metadata": {},
   "outputs": [],
   "source": [
    "## see non numeric value in column\n",
    "\n",
    "## Identify non-numeric values using boolean indexing\n",
    "# non_numeric_value = df['Review Rating'][numeric_column.isna()]\n",
    "# print(non_numeric_value)\n",
    "\n",
    "## Convert the column to numeric, coercing non-numeric values to NaN\n",
    "# numeric_column = pd.to_numeric(df['Review Rating'], errors='coerce')\n",
    "\n"
   ]
  },
  {
   "cell_type": "code",
   "execution_count": null,
   "id": "04d4a604",
   "metadata": {},
   "outputs": [],
   "source": [
    "# format opreation\n",
    "# if dtype is numeric skip this 4 cell\n"
   ]
  },
  {
   "cell_type": "code",
   "execution_count": null,
   "id": "4a768c0d",
   "metadata": {},
   "outputs": [],
   "source": [
    "# key = df['Review Rating'].unique().tolist()\n",
    "# values = []  ## assign your values here\n",
    "# print(key)\n",
    "# print(values)  ## len of key and values should be same"
   ]
  },
  {
   "cell_type": "code",
   "execution_count": null,
   "id": "b12182cb",
   "metadata": {},
   "outputs": [],
   "source": [
    "# Review Rating = dict(zip(key,values)) # label data in 'key': value pair\n",
    "# label['Review Rating'] = Review Rating # store data label dict in main dict actually it's updating/"
   ]
  },
  {
   "cell_type": "code",
   "execution_count": null,
   "id": "20b1f19a",
   "metadata": {},
   "outputs": [],
   "source": [
    "# df['Review Rating'].replace(Review Rating, inplace=True)\n",
    "# print('Modified DataFrame:')\n",
    "# print(df['Review Rating'].head(10))"
   ]
  },
  {
   "cell_type": "code",
   "execution_count": null,
   "id": "dfb447c1",
   "metadata": {},
   "outputs": [],
   "source": [
    "df['Review Rating'].unique()"
   ]
  },
  {
   "cell_type": "code",
   "execution_count": null,
   "id": "49dc7b4a",
   "metadata": {},
   "outputs": [],
   "source": [
    "# First plot - Distribution plot\n",
    "plt.figure(figsize=(10, 7))\n",
    "sns.distplot(df['Review Rating'])\n",
    "plt.title('Distribution Plot for Review Rating')  # Title for the plot\n",
    "plt.xlabel('Review Rating Values')  # X-axis label\n",
    "plt.ylabel('Density')  # Y-axis label\n",
    "\n",
    "# Second plot - Boxplot\n",
    "plt.figure(figsize=(10, 7))\n",
    "sns.boxplot(df['Review Rating'],orient='h')\n",
    "plt.title('Box Plot for Review Rating')  # Title for the plot\n",
    "plt.xlabel('Review Rating')  # X-axis label\n",
    "plt.ylabel('Review Rating values')"
   ]
  },
  {
   "cell_type": "markdown",
   "id": "fcfd57cc",
   "metadata": {},
   "source": [
    "<font size=3.5px color='bblue'> # type some insight here </font>"
   ]
  },
  {
   "cell_type": "markdown",
   "id": "07deb1ec",
   "metadata": {},
   "source": [
    "#### <font size=3.5px color = 'blue'>clean data here</font>"
   ]
  },
  {
   "cell_type": "code",
   "execution_count": null,
   "id": "8ff1d38d",
   "metadata": {},
   "outputs": [],
   "source": [
    "## for removing null value\n",
    "# df.dropna(subset=['Review Rating'], inplace=True)"
   ]
  },
  {
   "cell_type": "code",
   "execution_count": null,
   "id": "c290d628",
   "metadata": {},
   "outputs": [],
   "source": [
    "# mean = df['Review Rating'].mean()\n",
    "# print(mean)\n",
    "\n",
    "# median = df['Review Rating'].median()\n",
    "# print(median)\n",
    "\n",
    "# mode = df['Review Rating'].mode()\n",
    "# print(mode)"
   ]
  },
  {
   "cell_type": "code",
   "execution_count": null,
   "id": "085cd583",
   "metadata": {},
   "outputs": [],
   "source": [
    "## Example 1: Replace missing values in a numerical column with the mean\n",
    "# df['Review Rating'].fillna(df['Review Rating'].mean(), inplace=True)\n",
    "\n",
    "## Example 2: Replace missing values in a numerical column with the median\n",
    "# df['Review Rating'].fillna(df['Review Rating'].median(), inplace=True)\n",
    "\n",
    "## Example 3: if **non-numeric**\n",
    "\n",
    "# df['Review Rating'].value_counts()\n",
    "\n",
    " ## Replace missing values in a categorical column with the mode\n",
    "# df['Review Rating'].fillna(df['Review Rating'].mode()[0], inplace=True)"
   ]
  },
  {
   "cell_type": "markdown",
   "id": "9017803c",
   "metadata": {},
   "source": [
    "#### <font size=3.5px color = 'blue'>outliers</font>"
   ]
  },
  {
   "cell_type": "code",
   "execution_count": null,
   "id": "b01c1890",
   "metadata": {},
   "outputs": [],
   "source": [
    "# remove_outliers(df,'Review Rating')"
   ]
  },
  {
   "cell_type": "code",
   "execution_count": null,
   "id": "9c56196d",
   "metadata": {},
   "outputs": [],
   "source": [
    "# print('null value in Review Ratingc* == {}'.format(df['Review Rating']c*.isnull().sum()))"
   ]
  },
  {
   "cell_type": "code",
   "execution_count": null,
   "id": "5d887578",
   "metadata": {},
   "outputs": [],
   "source": [
    "## Example 1: Replace missing values in a numerical column with the mean\n",
    "# df['Review Ratingc*'].fillna(df['Review Ratingc*'].mean(), inplace=True)\n",
    "\n",
    "## Example 2: Replace missing values in a numerical column with the median\n",
    "# df['Review Ratingc*'].fillna(df['Review Ratingc*'].median(), inplace=True)\n",
    "\n",
    "## Example 3: if **non-numeric**\n",
    "\n",
    "# df['Review Ratingc*'].value_counts()\n",
    "\n",
    " ## Replace missing values in a categorical column with the mode\n",
    "# df['Review Ratingc*'].fillna(df['Review Ratingc*'].mode()[0], inplace=True)"
   ]
  },
  {
   "cell_type": "markdown",
   "id": "2a2693ef",
   "metadata": {},
   "source": [
    "### **<font size = 5px color = 'lime'>verify the process</font>**"
   ]
  },
  {
   "cell_type": "code",
   "execution_count": null,
   "id": "62f0f5a9",
   "metadata": {},
   "outputs": [],
   "source": [
    "df.head()"
   ]
  },
  {
   "cell_type": "code",
   "execution_count": null,
   "id": "40044175",
   "metadata": {},
   "outputs": [],
   "source": [
    "print('null value in [Review Rating] == {}'.format(df['Review Rating'].isnull().sum()))\n",
    "# print('\\n---\\n')\n",
    "# print('null value in Review Ratingc* == {}'.format(df['Review Ratingc*'].isnull().sum()))"
   ]
  },
  {
   "cell_type": "code",
   "execution_count": null,
   "id": "2282da8f",
   "metadata": {},
   "outputs": [],
   "source": [
    "print(f'The dtype of [Review Rating] == {df['Review Rating'].dtype}')\n",
    "# print('\\n---\\n')\n",
    "# print(f'The dtype of Review Ratingc* is {df['Review Ratingc*'].dtype}')"
   ]
  },
  {
   "cell_type": "code",
   "execution_count": null,
   "id": "b8e2b1cc",
   "metadata": {},
   "outputs": [],
   "source": [
    "## First plot - Distribution plot\n",
    "# plt.figure(figsize=(10, 7))\n",
    "# sns.distplot(df['Review Ratingc*'])\n",
    "# plt.title('Distribution Plot for Review Ratingc*')  ## Title for the plot\n",
    "# plt.xlabel('Review Ratingc* Values')  ## X-axis label\n",
    "# plt.ylabel('Density')  ## Y-axis label\n",
    "\n",
    "## Second plot - Boxplot\n",
    "# plt.figure(figsize=(10, 7))\n",
    "# sns.boxplot(df['Review Ratingc*'],orient='h')\n",
    "# plt.title('Box Plot for Review Ratingc*')  ## Title for the plot\n",
    "# plt.xlabel('Review Ratingc*')  ## X-axis label\n",
    "# plt.ylabel('Review Ratingc* values')"
   ]
  },
  {
   "cell_type": "code",
   "execution_count": null,
   "id": "a65a540b",
   "metadata": {},
   "outputs": [],
   "source": [
    "# more plot ?\n"
   ]
  },
  {
   "cell_type": "markdown",
   "id": "720647b3",
   "metadata": {},
   "source": [
    "<font size=5px color='bblue'> # type some insight here </font>"
   ]
  },
  {
   "cell_type": "markdown",
   "id": "dda0eed8",
   "metadata": {},
   "source": [
    "<hr style=\"border: 2px solid magenta;\">"
   ]
  },
  {
   "cell_type": "markdown",
   "id": "8766796e",
   "metadata": {},
   "source": [
    "## [***](#INDEX)"
   ]
  },
  {
   "cell_type": "markdown",
   "id": "bf50b76a",
   "metadata": {},
   "source": [
    "<hr style=\"border: 2px solid lime;\">"
   ]
  },
  {
   "cell_type": "markdown",
   "id": "6eed61ae",
   "metadata": {},
   "source": [
    "# **<font size=17px color=\"lightgreen\">Subscription Status</font>**"
   ]
  },
  {
   "cell_type": "code",
   "execution_count": null,
   "id": "c465cd45",
   "metadata": {},
   "outputs": [],
   "source": [
    "print(f\"{df['Subscription Status'].head(5)}\\n\\n{'*'*21}\\n\\ntop 5 sorted values\\n{df['Subscription Status'].sort_values().head(5)}\\n\\n{'*'*21}\\n\\nbottom 5 sorted values\\n{df['Subscription Status'].sort_values().tail(5)}\")"
   ]
  },
  {
   "cell_type": "markdown",
   "id": "7cd6250a",
   "metadata": {},
   "source": [
    "### <font size=5px color='blue'>data operation</font>"
   ]
  },
  {
   "cell_type": "code",
   "execution_count": null,
   "id": "ebf5e191",
   "metadata": {},
   "outputs": [],
   "source": [
    "print('null value in [Subscription Status] == {}'.format(df['Subscription Status'].isnull().sum()))"
   ]
  },
  {
   "cell_type": "code",
   "execution_count": null,
   "id": "37d837af",
   "metadata": {},
   "outputs": [],
   "source": [
    "print(f'unique values in [Subscription Status] == {df['Subscription Status'].nunique()}')"
   ]
  },
  {
   "cell_type": "code",
   "execution_count": null,
   "id": "8453262a",
   "metadata": {},
   "outputs": [],
   "source": [
    "print(f'top 5 unique values:\\nvalue - count : {df['Subscription Status'].value_counts()[:5]}\\n\\n{'*'*21}\\n\\nbottom 5 unique value:\\nvalue - count :  {df['Subscription Status'].value_counts()[-5:]}')"
   ]
  },
  {
   "cell_type": "markdown",
   "id": "6fe7837b",
   "metadata": {},
   "source": [
    "#### <font size= 3.5px color='blue'>dtype</font>"
   ]
  },
  {
   "cell_type": "code",
   "execution_count": null,
   "id": "1436e508",
   "metadata": {},
   "outputs": [],
   "source": [
    "df['Subscription Status'].dtype\n",
    "# format if dtype is wrong"
   ]
  },
  {
   "cell_type": "code",
   "execution_count": null,
   "id": "74de6dce",
   "metadata": {},
   "outputs": [],
   "source": [
    "## see non numeric value in column\n",
    "\n",
    "## Identify non-numeric values using boolean indexing\n",
    "# non_numeric_value = df['Subscription Status'][numeric_column.isna()]\n",
    "# print(non_numeric_value)\n",
    "\n",
    "## Convert the column to numeric, coercing non-numeric values to NaN\n",
    "# numeric_column = pd.to_numeric(df['Subscription Status'], errors='coerce')\n",
    "\n"
   ]
  },
  {
   "cell_type": "code",
   "execution_count": null,
   "id": "97d7db15",
   "metadata": {},
   "outputs": [],
   "source": [
    "# format opreation\n",
    "# if dtype is numeric skip this 4 cell\n"
   ]
  },
  {
   "cell_type": "code",
   "execution_count": null,
   "id": "a2e89458",
   "metadata": {},
   "outputs": [],
   "source": [
    "# key = df['Subscription Status'].unique().tolist()\n",
    "# values = []  ## assign your values here\n",
    "# print(key)\n",
    "# print(values)  ## len of key and values should be same"
   ]
  },
  {
   "cell_type": "code",
   "execution_count": null,
   "id": "f152b4c4",
   "metadata": {},
   "outputs": [],
   "source": [
    "# Subscription Status = dict(zip(key,values)) # label data in 'key': value pair\n",
    "# label['Subscription Status'] = Subscription Status # store data label dict in main dict actually it's updating/"
   ]
  },
  {
   "cell_type": "code",
   "execution_count": null,
   "id": "7728b4a2",
   "metadata": {},
   "outputs": [],
   "source": [
    "# df['Subscription Status'].replace(Subscription Status, inplace=True)\n",
    "# print('Modified DataFrame:')\n",
    "# print(df['Subscription Status'].head(10))"
   ]
  },
  {
   "cell_type": "code",
   "execution_count": null,
   "id": "b158c9db",
   "metadata": {},
   "outputs": [],
   "source": [
    "df['Subscription Status'].unique()"
   ]
  },
  {
   "cell_type": "code",
   "execution_count": null,
   "id": "ccb080bc",
   "metadata": {},
   "outputs": [],
   "source": [
    "# First plot - Distribution plot\n",
    "plt.figure(figsize=(10, 7))\n",
    "sns.distplot(df['Subscription Status'])\n",
    "plt.title('Distribution Plot for Subscription Status')  # Title for the plot\n",
    "plt.xlabel('Subscription Status Values')  # X-axis label\n",
    "plt.ylabel('Density')  # Y-axis label\n",
    "\n",
    "# Second plot - Boxplot\n",
    "plt.figure(figsize=(10, 7))\n",
    "sns.boxplot(df['Subscription Status'],orient='h')\n",
    "plt.title('Box Plot for Subscription Status')  # Title for the plot\n",
    "plt.xlabel('Subscription Status')  # X-axis label\n",
    "plt.ylabel('Subscription Status values')"
   ]
  },
  {
   "cell_type": "markdown",
   "id": "c89a2cfa",
   "metadata": {},
   "source": [
    "<font size=3.5px color='bblue'> # type some insight here </font>"
   ]
  },
  {
   "cell_type": "markdown",
   "id": "a3c2b81c",
   "metadata": {},
   "source": [
    "#### <font size=3.5px color = 'blue'>clean data here</font>"
   ]
  },
  {
   "cell_type": "code",
   "execution_count": null,
   "id": "d26dea3d",
   "metadata": {},
   "outputs": [],
   "source": [
    "## for removing null value\n",
    "# df.dropna(subset=['Subscription Status'], inplace=True)"
   ]
  },
  {
   "cell_type": "code",
   "execution_count": null,
   "id": "d4fa3af9",
   "metadata": {},
   "outputs": [],
   "source": [
    "# mean = df['Subscription Status'].mean()\n",
    "# print(mean)\n",
    "\n",
    "# median = df['Subscription Status'].median()\n",
    "# print(median)\n",
    "\n",
    "# mode = df['Subscription Status'].mode()\n",
    "# print(mode)"
   ]
  },
  {
   "cell_type": "code",
   "execution_count": null,
   "id": "2a8d1fcf",
   "metadata": {},
   "outputs": [],
   "source": [
    "## Example 1: Replace missing values in a numerical column with the mean\n",
    "# df['Subscription Status'].fillna(df['Subscription Status'].mean(), inplace=True)\n",
    "\n",
    "## Example 2: Replace missing values in a numerical column with the median\n",
    "# df['Subscription Status'].fillna(df['Subscription Status'].median(), inplace=True)\n",
    "\n",
    "## Example 3: if **non-numeric**\n",
    "\n",
    "# df['Subscription Status'].value_counts()\n",
    "\n",
    " ## Replace missing values in a categorical column with the mode\n",
    "# df['Subscription Status'].fillna(df['Subscription Status'].mode()[0], inplace=True)"
   ]
  },
  {
   "cell_type": "markdown",
   "id": "8913ca25",
   "metadata": {},
   "source": [
    "#### <font size=3.5px color = 'blue'>outliers</font>"
   ]
  },
  {
   "cell_type": "code",
   "execution_count": null,
   "id": "53d84070",
   "metadata": {},
   "outputs": [],
   "source": [
    "# remove_outliers(df,'Subscription Status')"
   ]
  },
  {
   "cell_type": "code",
   "execution_count": null,
   "id": "0639e324",
   "metadata": {},
   "outputs": [],
   "source": [
    "# print('null value in Subscription Statusc* == {}'.format(df['Subscription Status']c*.isnull().sum()))"
   ]
  },
  {
   "cell_type": "code",
   "execution_count": null,
   "id": "59fdd28d",
   "metadata": {},
   "outputs": [],
   "source": [
    "## Example 1: Replace missing values in a numerical column with the mean\n",
    "# df['Subscription Statusc*'].fillna(df['Subscription Statusc*'].mean(), inplace=True)\n",
    "\n",
    "## Example 2: Replace missing values in a numerical column with the median\n",
    "# df['Subscription Statusc*'].fillna(df['Subscription Statusc*'].median(), inplace=True)\n",
    "\n",
    "## Example 3: if **non-numeric**\n",
    "\n",
    "# df['Subscription Statusc*'].value_counts()\n",
    "\n",
    " ## Replace missing values in a categorical column with the mode\n",
    "# df['Subscription Statusc*'].fillna(df['Subscription Statusc*'].mode()[0], inplace=True)"
   ]
  },
  {
   "cell_type": "markdown",
   "id": "2df3587d",
   "metadata": {},
   "source": [
    "### **<font size = 5px color = 'lime'>verify the process</font>**"
   ]
  },
  {
   "cell_type": "code",
   "execution_count": null,
   "id": "54ffc184",
   "metadata": {},
   "outputs": [],
   "source": [
    "df.head()"
   ]
  },
  {
   "cell_type": "code",
   "execution_count": null,
   "id": "976e8aed",
   "metadata": {},
   "outputs": [],
   "source": [
    "print('null value in [Subscription Status] == {}'.format(df['Subscription Status'].isnull().sum()))\n",
    "# print('\\n---\\n')\n",
    "# print('null value in Subscription Statusc* == {}'.format(df['Subscription Statusc*'].isnull().sum()))"
   ]
  },
  {
   "cell_type": "code",
   "execution_count": null,
   "id": "6d11eae8",
   "metadata": {},
   "outputs": [],
   "source": [
    "print(f'The dtype of [Subscription Status] == {df['Subscription Status'].dtype}')\n",
    "# print('\\n---\\n')\n",
    "# print(f'The dtype of Subscription Statusc* is {df['Subscription Statusc*'].dtype}')"
   ]
  },
  {
   "cell_type": "code",
   "execution_count": null,
   "id": "e50c94c2",
   "metadata": {},
   "outputs": [],
   "source": [
    "## First plot - Distribution plot\n",
    "# plt.figure(figsize=(10, 7))\n",
    "# sns.distplot(df['Subscription Statusc*'])\n",
    "# plt.title('Distribution Plot for Subscription Statusc*')  ## Title for the plot\n",
    "# plt.xlabel('Subscription Statusc* Values')  ## X-axis label\n",
    "# plt.ylabel('Density')  ## Y-axis label\n",
    "\n",
    "## Second plot - Boxplot\n",
    "# plt.figure(figsize=(10, 7))\n",
    "# sns.boxplot(df['Subscription Statusc*'],orient='h')\n",
    "# plt.title('Box Plot for Subscription Statusc*')  ## Title for the plot\n",
    "# plt.xlabel('Subscription Statusc*')  ## X-axis label\n",
    "# plt.ylabel('Subscription Statusc* values')"
   ]
  },
  {
   "cell_type": "code",
   "execution_count": null,
   "id": "0475733f",
   "metadata": {},
   "outputs": [],
   "source": [
    "# more plot ?\n"
   ]
  },
  {
   "cell_type": "markdown",
   "id": "47f4d32a",
   "metadata": {},
   "source": [
    "<font size=5px color='bblue'> # type some insight here </font>"
   ]
  },
  {
   "cell_type": "markdown",
   "id": "6c62893c",
   "metadata": {},
   "source": [
    "<hr style=\"border: 2px solid magenta;\">"
   ]
  },
  {
   "cell_type": "markdown",
   "id": "f1c7c185",
   "metadata": {},
   "source": [
    "## [***](#INDEX)"
   ]
  },
  {
   "cell_type": "markdown",
   "id": "37b585db",
   "metadata": {},
   "source": [
    "<hr style=\"border: 2px solid lime;\">"
   ]
  },
  {
   "cell_type": "markdown",
   "id": "3fe91b45",
   "metadata": {},
   "source": [
    "# **<font size=17px color=\"lightgreen\">Shipping Type</font>**"
   ]
  },
  {
   "cell_type": "code",
   "execution_count": null,
   "id": "a7e922c8",
   "metadata": {},
   "outputs": [],
   "source": [
    "print(f\"{df['Shipping Type'].head(5)}\\n\\n{'*'*21}\\n\\ntop 5 sorted values\\n{df['Shipping Type'].sort_values().head(5)}\\n\\n{'*'*21}\\n\\nbottom 5 sorted values\\n{df['Shipping Type'].sort_values().tail(5)}\")"
   ]
  },
  {
   "cell_type": "markdown",
   "id": "1ad95c74",
   "metadata": {},
   "source": [
    "### <font size=5px color='blue'>data operation</font>"
   ]
  },
  {
   "cell_type": "code",
   "execution_count": null,
   "id": "d84d0111",
   "metadata": {},
   "outputs": [],
   "source": [
    "print('null value in [Shipping Type] == {}'.format(df['Shipping Type'].isnull().sum()))"
   ]
  },
  {
   "cell_type": "code",
   "execution_count": null,
   "id": "02add818",
   "metadata": {},
   "outputs": [],
   "source": [
    "print(f'unique values in [Shipping Type] == {df['Shipping Type'].nunique()}')"
   ]
  },
  {
   "cell_type": "code",
   "execution_count": null,
   "id": "219a5d4e",
   "metadata": {},
   "outputs": [],
   "source": [
    "print(f'top 5 unique values:\\nvalue - count : {df['Shipping Type'].value_counts()[:5]}\\n\\n{'*'*21}\\n\\nbottom 5 unique value:\\nvalue - count :  {df['Shipping Type'].value_counts()[-5:]}')"
   ]
  },
  {
   "cell_type": "markdown",
   "id": "49a077fa",
   "metadata": {},
   "source": [
    "#### <font size= 3.5px color='blue'>dtype</font>"
   ]
  },
  {
   "cell_type": "code",
   "execution_count": null,
   "id": "647a15b5",
   "metadata": {},
   "outputs": [],
   "source": [
    "df['Shipping Type'].dtype\n",
    "# format if dtype is wrong"
   ]
  },
  {
   "cell_type": "code",
   "execution_count": null,
   "id": "484f497f",
   "metadata": {},
   "outputs": [],
   "source": [
    "## see non numeric value in column\n",
    "\n",
    "## Identify non-numeric values using boolean indexing\n",
    "# non_numeric_value = df['Shipping Type'][numeric_column.isna()]\n",
    "# print(non_numeric_value)\n",
    "\n",
    "## Convert the column to numeric, coercing non-numeric values to NaN\n",
    "# numeric_column = pd.to_numeric(df['Shipping Type'], errors='coerce')\n",
    "\n"
   ]
  },
  {
   "cell_type": "code",
   "execution_count": null,
   "id": "ef7bbfec",
   "metadata": {},
   "outputs": [],
   "source": [
    "# format opreation\n",
    "# if dtype is numeric skip this 4 cell\n"
   ]
  },
  {
   "cell_type": "code",
   "execution_count": null,
   "id": "c7b787a2",
   "metadata": {},
   "outputs": [],
   "source": [
    "# key = df['Shipping Type'].unique().tolist()\n",
    "# values = []  ## assign your values here\n",
    "# print(key)\n",
    "# print(values)  ## len of key and values should be same"
   ]
  },
  {
   "cell_type": "code",
   "execution_count": null,
   "id": "f3520d30",
   "metadata": {},
   "outputs": [],
   "source": [
    "# Shipping Type = dict(zip(key,values)) # label data in 'key': value pair\n",
    "# label['Shipping Type'] = Shipping Type # store data label dict in main dict actually it's updating/"
   ]
  },
  {
   "cell_type": "code",
   "execution_count": null,
   "id": "df637dba",
   "metadata": {},
   "outputs": [],
   "source": [
    "# df['Shipping Type'].replace(Shipping Type, inplace=True)\n",
    "# print('Modified DataFrame:')\n",
    "# print(df['Shipping Type'].head(10))"
   ]
  },
  {
   "cell_type": "code",
   "execution_count": null,
   "id": "7818a8f6",
   "metadata": {},
   "outputs": [],
   "source": [
    "df['Shipping Type'].unique()"
   ]
  },
  {
   "cell_type": "code",
   "execution_count": null,
   "id": "955bf1b8",
   "metadata": {},
   "outputs": [],
   "source": [
    "# First plot - Distribution plot\n",
    "plt.figure(figsize=(10, 7))\n",
    "sns.distplot(df['Shipping Type'])\n",
    "plt.title('Distribution Plot for Shipping Type')  # Title for the plot\n",
    "plt.xlabel('Shipping Type Values')  # X-axis label\n",
    "plt.ylabel('Density')  # Y-axis label\n",
    "\n",
    "# Second plot - Boxplot\n",
    "plt.figure(figsize=(10, 7))\n",
    "sns.boxplot(df['Shipping Type'],orient='h')\n",
    "plt.title('Box Plot for Shipping Type')  # Title for the plot\n",
    "plt.xlabel('Shipping Type')  # X-axis label\n",
    "plt.ylabel('Shipping Type values')"
   ]
  },
  {
   "cell_type": "markdown",
   "id": "efbd6cb0",
   "metadata": {},
   "source": [
    "<font size=3.5px color='bblue'> # type some insight here </font>"
   ]
  },
  {
   "cell_type": "markdown",
   "id": "11b8b9d7",
   "metadata": {},
   "source": [
    "#### <font size=3.5px color = 'blue'>clean data here</font>"
   ]
  },
  {
   "cell_type": "code",
   "execution_count": null,
   "id": "bbeabffa",
   "metadata": {},
   "outputs": [],
   "source": [
    "## for removing null value\n",
    "# df.dropna(subset=['Shipping Type'], inplace=True)"
   ]
  },
  {
   "cell_type": "code",
   "execution_count": null,
   "id": "28d89187",
   "metadata": {},
   "outputs": [],
   "source": [
    "# mean = df['Shipping Type'].mean()\n",
    "# print(mean)\n",
    "\n",
    "# median = df['Shipping Type'].median()\n",
    "# print(median)\n",
    "\n",
    "# mode = df['Shipping Type'].mode()\n",
    "# print(mode)"
   ]
  },
  {
   "cell_type": "code",
   "execution_count": null,
   "id": "78343d86",
   "metadata": {},
   "outputs": [],
   "source": [
    "## Example 1: Replace missing values in a numerical column with the mean\n",
    "# df['Shipping Type'].fillna(df['Shipping Type'].mean(), inplace=True)\n",
    "\n",
    "## Example 2: Replace missing values in a numerical column with the median\n",
    "# df['Shipping Type'].fillna(df['Shipping Type'].median(), inplace=True)\n",
    "\n",
    "## Example 3: if **non-numeric**\n",
    "\n",
    "# df['Shipping Type'].value_counts()\n",
    "\n",
    " ## Replace missing values in a categorical column with the mode\n",
    "# df['Shipping Type'].fillna(df['Shipping Type'].mode()[0], inplace=True)"
   ]
  },
  {
   "cell_type": "markdown",
   "id": "24cb173d",
   "metadata": {},
   "source": [
    "#### <font size=3.5px color = 'blue'>outliers</font>"
   ]
  },
  {
   "cell_type": "code",
   "execution_count": null,
   "id": "561e89d4",
   "metadata": {},
   "outputs": [],
   "source": [
    "# remove_outliers(df,'Shipping Type')"
   ]
  },
  {
   "cell_type": "code",
   "execution_count": null,
   "id": "8932b491",
   "metadata": {},
   "outputs": [],
   "source": [
    "# print('null value in Shipping Typec* == {}'.format(df['Shipping Type']c*.isnull().sum()))"
   ]
  },
  {
   "cell_type": "code",
   "execution_count": null,
   "id": "bf6abe0d",
   "metadata": {},
   "outputs": [],
   "source": [
    "## Example 1: Replace missing values in a numerical column with the mean\n",
    "# df['Shipping Typec*'].fillna(df['Shipping Typec*'].mean(), inplace=True)\n",
    "\n",
    "## Example 2: Replace missing values in a numerical column with the median\n",
    "# df['Shipping Typec*'].fillna(df['Shipping Typec*'].median(), inplace=True)\n",
    "\n",
    "## Example 3: if **non-numeric**\n",
    "\n",
    "# df['Shipping Typec*'].value_counts()\n",
    "\n",
    " ## Replace missing values in a categorical column with the mode\n",
    "# df['Shipping Typec*'].fillna(df['Shipping Typec*'].mode()[0], inplace=True)"
   ]
  },
  {
   "cell_type": "markdown",
   "id": "f7569c5d",
   "metadata": {},
   "source": [
    "### **<font size = 5px color = 'lime'>verify the process</font>**"
   ]
  },
  {
   "cell_type": "code",
   "execution_count": null,
   "id": "c7a556e4",
   "metadata": {},
   "outputs": [],
   "source": [
    "df.head()"
   ]
  },
  {
   "cell_type": "code",
   "execution_count": null,
   "id": "fed7adad",
   "metadata": {},
   "outputs": [],
   "source": [
    "print('null value in [Shipping Type] == {}'.format(df['Shipping Type'].isnull().sum()))\n",
    "# print('\\n---\\n')\n",
    "# print('null value in Shipping Typec* == {}'.format(df['Shipping Typec*'].isnull().sum()))"
   ]
  },
  {
   "cell_type": "code",
   "execution_count": null,
   "id": "c2dc2f18",
   "metadata": {},
   "outputs": [],
   "source": [
    "print(f'The dtype of [Shipping Type] == {df['Shipping Type'].dtype}')\n",
    "# print('\\n---\\n')\n",
    "# print(f'The dtype of Shipping Typec* is {df['Shipping Typec*'].dtype}')"
   ]
  },
  {
   "cell_type": "code",
   "execution_count": null,
   "id": "3bb4dba7",
   "metadata": {},
   "outputs": [],
   "source": [
    "## First plot - Distribution plot\n",
    "# plt.figure(figsize=(10, 7))\n",
    "# sns.distplot(df['Shipping Typec*'])\n",
    "# plt.title('Distribution Plot for Shipping Typec*')  ## Title for the plot\n",
    "# plt.xlabel('Shipping Typec* Values')  ## X-axis label\n",
    "# plt.ylabel('Density')  ## Y-axis label\n",
    "\n",
    "## Second plot - Boxplot\n",
    "# plt.figure(figsize=(10, 7))\n",
    "# sns.boxplot(df['Shipping Typec*'],orient='h')\n",
    "# plt.title('Box Plot for Shipping Typec*')  ## Title for the plot\n",
    "# plt.xlabel('Shipping Typec*')  ## X-axis label\n",
    "# plt.ylabel('Shipping Typec* values')"
   ]
  },
  {
   "cell_type": "code",
   "execution_count": null,
   "id": "6b4b2d63",
   "metadata": {},
   "outputs": [],
   "source": [
    "# more plot ?\n"
   ]
  },
  {
   "cell_type": "markdown",
   "id": "763f8515",
   "metadata": {},
   "source": [
    "<font size=5px color='bblue'> # type some insight here </font>"
   ]
  },
  {
   "cell_type": "markdown",
   "id": "f7cb7104",
   "metadata": {},
   "source": [
    "<hr style=\"border: 2px solid magenta;\">"
   ]
  },
  {
   "cell_type": "markdown",
   "id": "4f8c683a",
   "metadata": {},
   "source": [
    "## [***](#INDEX)"
   ]
  },
  {
   "cell_type": "markdown",
   "id": "583d9ab2",
   "metadata": {},
   "source": [
    "<hr style=\"border: 2px solid lime;\">"
   ]
  },
  {
   "cell_type": "markdown",
   "id": "6a133aa0",
   "metadata": {},
   "source": [
    "# **<font size=17px color=\"lightgreen\">Discount Applied</font>**"
   ]
  },
  {
   "cell_type": "code",
   "execution_count": null,
   "id": "dc0f552e",
   "metadata": {},
   "outputs": [],
   "source": [
    "print(f\"{df['Discount Applied'].head(5)}\\n\\n{'*'*21}\\n\\ntop 5 sorted values\\n{df['Discount Applied'].sort_values().head(5)}\\n\\n{'*'*21}\\n\\nbottom 5 sorted values\\n{df['Discount Applied'].sort_values().tail(5)}\")"
   ]
  },
  {
   "cell_type": "markdown",
   "id": "afc5b9d0",
   "metadata": {},
   "source": [
    "### <font size=5px color='blue'>data operation</font>"
   ]
  },
  {
   "cell_type": "code",
   "execution_count": null,
   "id": "02aa228b",
   "metadata": {},
   "outputs": [],
   "source": [
    "print('null value in [Discount Applied] == {}'.format(df['Discount Applied'].isnull().sum()))"
   ]
  },
  {
   "cell_type": "code",
   "execution_count": null,
   "id": "f0b4d274",
   "metadata": {},
   "outputs": [],
   "source": [
    "print(f'unique values in [Discount Applied] == {df['Discount Applied'].nunique()}')"
   ]
  },
  {
   "cell_type": "code",
   "execution_count": null,
   "id": "b2b880be",
   "metadata": {},
   "outputs": [],
   "source": [
    "print(f'top 5 unique values:\\nvalue - count : {df['Discount Applied'].value_counts()[:5]}\\n\\n{'*'*21}\\n\\nbottom 5 unique value:\\nvalue - count :  {df['Discount Applied'].value_counts()[-5:]}')"
   ]
  },
  {
   "cell_type": "markdown",
   "id": "36ac5e1c",
   "metadata": {},
   "source": [
    "#### <font size= 3.5px color='blue'>dtype</font>"
   ]
  },
  {
   "cell_type": "code",
   "execution_count": null,
   "id": "98d44f94",
   "metadata": {},
   "outputs": [],
   "source": [
    "df['Discount Applied'].dtype\n",
    "# format if dtype is wrong"
   ]
  },
  {
   "cell_type": "code",
   "execution_count": null,
   "id": "17a2e646",
   "metadata": {},
   "outputs": [],
   "source": [
    "## see non numeric value in column\n",
    "\n",
    "## Identify non-numeric values using boolean indexing\n",
    "# non_numeric_value = df['Discount Applied'][numeric_column.isna()]\n",
    "# print(non_numeric_value)\n",
    "\n",
    "## Convert the column to numeric, coercing non-numeric values to NaN\n",
    "# numeric_column = pd.to_numeric(df['Discount Applied'], errors='coerce')\n",
    "\n"
   ]
  },
  {
   "cell_type": "code",
   "execution_count": null,
   "id": "4f29bf96",
   "metadata": {},
   "outputs": [],
   "source": [
    "# format opreation\n",
    "# if dtype is numeric skip this 4 cell\n"
   ]
  },
  {
   "cell_type": "code",
   "execution_count": null,
   "id": "0f6694b4",
   "metadata": {},
   "outputs": [],
   "source": [
    "# key = df['Discount Applied'].unique().tolist()\n",
    "# values = []  ## assign your values here\n",
    "# print(key)\n",
    "# print(values)  ## len of key and values should be same"
   ]
  },
  {
   "cell_type": "code",
   "execution_count": null,
   "id": "904bf490",
   "metadata": {},
   "outputs": [],
   "source": [
    "# Discount Applied = dict(zip(key,values)) # label data in 'key': value pair\n",
    "# label['Discount Applied'] = Discount Applied # store data label dict in main dict actually it's updating/"
   ]
  },
  {
   "cell_type": "code",
   "execution_count": null,
   "id": "7fc115dc",
   "metadata": {},
   "outputs": [],
   "source": [
    "# df['Discount Applied'].replace(Discount Applied, inplace=True)\n",
    "# print('Modified DataFrame:')\n",
    "# print(df['Discount Applied'].head(10))"
   ]
  },
  {
   "cell_type": "code",
   "execution_count": null,
   "id": "18628fff",
   "metadata": {},
   "outputs": [],
   "source": [
    "df['Discount Applied'].unique()"
   ]
  },
  {
   "cell_type": "code",
   "execution_count": null,
   "id": "14274fd9",
   "metadata": {},
   "outputs": [],
   "source": [
    "# First plot - Distribution plot\n",
    "plt.figure(figsize=(10, 7))\n",
    "sns.distplot(df['Discount Applied'])\n",
    "plt.title('Distribution Plot for Discount Applied')  # Title for the plot\n",
    "plt.xlabel('Discount Applied Values')  # X-axis label\n",
    "plt.ylabel('Density')  # Y-axis label\n",
    "\n",
    "# Second plot - Boxplot\n",
    "plt.figure(figsize=(10, 7))\n",
    "sns.boxplot(df['Discount Applied'],orient='h')\n",
    "plt.title('Box Plot for Discount Applied')  # Title for the plot\n",
    "plt.xlabel('Discount Applied')  # X-axis label\n",
    "plt.ylabel('Discount Applied values')"
   ]
  },
  {
   "cell_type": "markdown",
   "id": "d8069c6d",
   "metadata": {},
   "source": [
    "<font size=3.5px color='bblue'> # type some insight here </font>"
   ]
  },
  {
   "cell_type": "markdown",
   "id": "9b0c494d",
   "metadata": {},
   "source": [
    "#### <font size=3.5px color = 'blue'>clean data here</font>"
   ]
  },
  {
   "cell_type": "code",
   "execution_count": null,
   "id": "7f0664c5",
   "metadata": {},
   "outputs": [],
   "source": [
    "## for removing null value\n",
    "# df.dropna(subset=['Discount Applied'], inplace=True)"
   ]
  },
  {
   "cell_type": "code",
   "execution_count": null,
   "id": "ef6832bb",
   "metadata": {},
   "outputs": [],
   "source": [
    "# mean = df['Discount Applied'].mean()\n",
    "# print(mean)\n",
    "\n",
    "# median = df['Discount Applied'].median()\n",
    "# print(median)\n",
    "\n",
    "# mode = df['Discount Applied'].mode()\n",
    "# print(mode)"
   ]
  },
  {
   "cell_type": "code",
   "execution_count": null,
   "id": "e46b8a9a",
   "metadata": {},
   "outputs": [],
   "source": [
    "## Example 1: Replace missing values in a numerical column with the mean\n",
    "# df['Discount Applied'].fillna(df['Discount Applied'].mean(), inplace=True)\n",
    "\n",
    "## Example 2: Replace missing values in a numerical column with the median\n",
    "# df['Discount Applied'].fillna(df['Discount Applied'].median(), inplace=True)\n",
    "\n",
    "## Example 3: if **non-numeric**\n",
    "\n",
    "# df['Discount Applied'].value_counts()\n",
    "\n",
    " ## Replace missing values in a categorical column with the mode\n",
    "# df['Discount Applied'].fillna(df['Discount Applied'].mode()[0], inplace=True)"
   ]
  },
  {
   "cell_type": "markdown",
   "id": "e0440352",
   "metadata": {},
   "source": [
    "#### <font size=3.5px color = 'blue'>outliers</font>"
   ]
  },
  {
   "cell_type": "code",
   "execution_count": null,
   "id": "1fc715ad",
   "metadata": {},
   "outputs": [],
   "source": [
    "# remove_outliers(df,'Discount Applied')"
   ]
  },
  {
   "cell_type": "code",
   "execution_count": null,
   "id": "3bbd9cfc",
   "metadata": {},
   "outputs": [],
   "source": [
    "# print('null value in Discount Appliedc* == {}'.format(df['Discount Applied']c*.isnull().sum()))"
   ]
  },
  {
   "cell_type": "code",
   "execution_count": null,
   "id": "94f286ef",
   "metadata": {},
   "outputs": [],
   "source": [
    "## Example 1: Replace missing values in a numerical column with the mean\n",
    "# df['Discount Appliedc*'].fillna(df['Discount Appliedc*'].mean(), inplace=True)\n",
    "\n",
    "## Example 2: Replace missing values in a numerical column with the median\n",
    "# df['Discount Appliedc*'].fillna(df['Discount Appliedc*'].median(), inplace=True)\n",
    "\n",
    "## Example 3: if **non-numeric**\n",
    "\n",
    "# df['Discount Appliedc*'].value_counts()\n",
    "\n",
    " ## Replace missing values in a categorical column with the mode\n",
    "# df['Discount Appliedc*'].fillna(df['Discount Appliedc*'].mode()[0], inplace=True)"
   ]
  },
  {
   "cell_type": "markdown",
   "id": "b0b1fa51",
   "metadata": {},
   "source": [
    "### **<font size = 5px color = 'lime'>verify the process</font>**"
   ]
  },
  {
   "cell_type": "code",
   "execution_count": null,
   "id": "0d1b8935",
   "metadata": {},
   "outputs": [],
   "source": [
    "df.head()"
   ]
  },
  {
   "cell_type": "code",
   "execution_count": null,
   "id": "99b40ab1",
   "metadata": {},
   "outputs": [],
   "source": [
    "print('null value in [Discount Applied] == {}'.format(df['Discount Applied'].isnull().sum()))\n",
    "# print('\\n---\\n')\n",
    "# print('null value in Discount Appliedc* == {}'.format(df['Discount Appliedc*'].isnull().sum()))"
   ]
  },
  {
   "cell_type": "code",
   "execution_count": null,
   "id": "4540144a",
   "metadata": {},
   "outputs": [],
   "source": [
    "print(f'The dtype of [Discount Applied] == {df['Discount Applied'].dtype}')\n",
    "# print('\\n---\\n')\n",
    "# print(f'The dtype of Discount Appliedc* is {df['Discount Appliedc*'].dtype}')"
   ]
  },
  {
   "cell_type": "code",
   "execution_count": null,
   "id": "b5ab2b94",
   "metadata": {},
   "outputs": [],
   "source": [
    "## First plot - Distribution plot\n",
    "# plt.figure(figsize=(10, 7))\n",
    "# sns.distplot(df['Discount Appliedc*'])\n",
    "# plt.title('Distribution Plot for Discount Appliedc*')  ## Title for the plot\n",
    "# plt.xlabel('Discount Appliedc* Values')  ## X-axis label\n",
    "# plt.ylabel('Density')  ## Y-axis label\n",
    "\n",
    "## Second plot - Boxplot\n",
    "# plt.figure(figsize=(10, 7))\n",
    "# sns.boxplot(df['Discount Appliedc*'],orient='h')\n",
    "# plt.title('Box Plot for Discount Appliedc*')  ## Title for the plot\n",
    "# plt.xlabel('Discount Appliedc*')  ## X-axis label\n",
    "# plt.ylabel('Discount Appliedc* values')"
   ]
  },
  {
   "cell_type": "code",
   "execution_count": null,
   "id": "3e263577",
   "metadata": {},
   "outputs": [],
   "source": [
    "# more plot ?\n"
   ]
  },
  {
   "cell_type": "markdown",
   "id": "80d5d2bb",
   "metadata": {},
   "source": [
    "<font size=5px color='bblue'> # type some insight here </font>"
   ]
  },
  {
   "cell_type": "markdown",
   "id": "fdb9d192",
   "metadata": {},
   "source": [
    "<hr style=\"border: 2px solid magenta;\">"
   ]
  },
  {
   "cell_type": "markdown",
   "id": "054a0217",
   "metadata": {},
   "source": [
    "## [***](#INDEX)"
   ]
  },
  {
   "cell_type": "markdown",
   "id": "7b5e3501",
   "metadata": {},
   "source": [
    "<hr style=\"border: 2px solid lime;\">"
   ]
  },
  {
   "cell_type": "markdown",
   "id": "b4143baf",
   "metadata": {},
   "source": [
    "# **<font size=17px color=\"lightgreen\">Promo Code Used</font>**"
   ]
  },
  {
   "cell_type": "code",
   "execution_count": null,
   "id": "68e372c2",
   "metadata": {},
   "outputs": [],
   "source": [
    "print(f\"{df['Promo Code Used'].head(5)}\\n\\n{'*'*21}\\n\\ntop 5 sorted values\\n{df['Promo Code Used'].sort_values().head(5)}\\n\\n{'*'*21}\\n\\nbottom 5 sorted values\\n{df['Promo Code Used'].sort_values().tail(5)}\")"
   ]
  },
  {
   "cell_type": "markdown",
   "id": "5ad44b87",
   "metadata": {},
   "source": [
    "### <font size=5px color='blue'>data operation</font>"
   ]
  },
  {
   "cell_type": "code",
   "execution_count": null,
   "id": "7a5636eb",
   "metadata": {},
   "outputs": [],
   "source": [
    "print('null value in [Promo Code Used] == {}'.format(df['Promo Code Used'].isnull().sum()))"
   ]
  },
  {
   "cell_type": "code",
   "execution_count": null,
   "id": "1411a72e",
   "metadata": {},
   "outputs": [],
   "source": [
    "print(f'unique values in [Promo Code Used] == {df['Promo Code Used'].nunique()}')"
   ]
  },
  {
   "cell_type": "code",
   "execution_count": null,
   "id": "0021a5e4",
   "metadata": {},
   "outputs": [],
   "source": [
    "print(f'top 5 unique values:\\nvalue - count : {df['Promo Code Used'].value_counts()[:5]}\\n\\n{'*'*21}\\n\\nbottom 5 unique value:\\nvalue - count :  {df['Promo Code Used'].value_counts()[-5:]}')"
   ]
  },
  {
   "cell_type": "markdown",
   "id": "ac091804",
   "metadata": {},
   "source": [
    "#### <font size= 3.5px color='blue'>dtype</font>"
   ]
  },
  {
   "cell_type": "code",
   "execution_count": null,
   "id": "f336241b",
   "metadata": {},
   "outputs": [],
   "source": [
    "df['Promo Code Used'].dtype\n",
    "# format if dtype is wrong"
   ]
  },
  {
   "cell_type": "code",
   "execution_count": null,
   "id": "3244081f",
   "metadata": {},
   "outputs": [],
   "source": [
    "## see non numeric value in column\n",
    "\n",
    "## Identify non-numeric values using boolean indexing\n",
    "# non_numeric_value = df['Promo Code Used'][numeric_column.isna()]\n",
    "# print(non_numeric_value)\n",
    "\n",
    "## Convert the column to numeric, coercing non-numeric values to NaN\n",
    "# numeric_column = pd.to_numeric(df['Promo Code Used'], errors='coerce')\n",
    "\n"
   ]
  },
  {
   "cell_type": "code",
   "execution_count": null,
   "id": "d1f1f3df",
   "metadata": {},
   "outputs": [],
   "source": [
    "# format opreation\n",
    "# if dtype is numeric skip this 4 cell\n"
   ]
  },
  {
   "cell_type": "code",
   "execution_count": null,
   "id": "572faeb0",
   "metadata": {},
   "outputs": [],
   "source": [
    "# key = df['Promo Code Used'].unique().tolist()\n",
    "# values = []  ## assign your values here\n",
    "# print(key)\n",
    "# print(values)  ## len of key and values should be same"
   ]
  },
  {
   "cell_type": "code",
   "execution_count": null,
   "id": "a69d97a6",
   "metadata": {},
   "outputs": [],
   "source": [
    "# Promo Code Used = dict(zip(key,values)) # label data in 'key': value pair\n",
    "# label['Promo Code Used'] = Promo Code Used # store data label dict in main dict actually it's updating/"
   ]
  },
  {
   "cell_type": "code",
   "execution_count": null,
   "id": "db564f32",
   "metadata": {},
   "outputs": [],
   "source": [
    "# df['Promo Code Used'].replace(Promo Code Used, inplace=True)\n",
    "# print('Modified DataFrame:')\n",
    "# print(df['Promo Code Used'].head(10))"
   ]
  },
  {
   "cell_type": "code",
   "execution_count": null,
   "id": "4661d8a2",
   "metadata": {},
   "outputs": [],
   "source": [
    "df['Promo Code Used'].unique()"
   ]
  },
  {
   "cell_type": "code",
   "execution_count": null,
   "id": "ce19c86a",
   "metadata": {},
   "outputs": [],
   "source": [
    "# First plot - Distribution plot\n",
    "plt.figure(figsize=(10, 7))\n",
    "sns.distplot(df['Promo Code Used'])\n",
    "plt.title('Distribution Plot for Promo Code Used')  # Title for the plot\n",
    "plt.xlabel('Promo Code Used Values')  # X-axis label\n",
    "plt.ylabel('Density')  # Y-axis label\n",
    "\n",
    "# Second plot - Boxplot\n",
    "plt.figure(figsize=(10, 7))\n",
    "sns.boxplot(df['Promo Code Used'],orient='h')\n",
    "plt.title('Box Plot for Promo Code Used')  # Title for the plot\n",
    "plt.xlabel('Promo Code Used')  # X-axis label\n",
    "plt.ylabel('Promo Code Used values')"
   ]
  },
  {
   "cell_type": "markdown",
   "id": "1b7cb2f5",
   "metadata": {},
   "source": [
    "<font size=3.5px color='bblue'> # type some insight here </font>"
   ]
  },
  {
   "cell_type": "markdown",
   "id": "f2e926be",
   "metadata": {},
   "source": [
    "#### <font size=3.5px color = 'blue'>clean data here</font>"
   ]
  },
  {
   "cell_type": "code",
   "execution_count": null,
   "id": "a138384c",
   "metadata": {},
   "outputs": [],
   "source": [
    "## for removing null value\n",
    "# df.dropna(subset=['Promo Code Used'], inplace=True)"
   ]
  },
  {
   "cell_type": "code",
   "execution_count": null,
   "id": "3e472b12",
   "metadata": {},
   "outputs": [],
   "source": [
    "# mean = df['Promo Code Used'].mean()\n",
    "# print(mean)\n",
    "\n",
    "# median = df['Promo Code Used'].median()\n",
    "# print(median)\n",
    "\n",
    "# mode = df['Promo Code Used'].mode()\n",
    "# print(mode)"
   ]
  },
  {
   "cell_type": "code",
   "execution_count": null,
   "id": "898fb43a",
   "metadata": {},
   "outputs": [],
   "source": [
    "## Example 1: Replace missing values in a numerical column with the mean\n",
    "# df['Promo Code Used'].fillna(df['Promo Code Used'].mean(), inplace=True)\n",
    "\n",
    "## Example 2: Replace missing values in a numerical column with the median\n",
    "# df['Promo Code Used'].fillna(df['Promo Code Used'].median(), inplace=True)\n",
    "\n",
    "## Example 3: if **non-numeric**\n",
    "\n",
    "# df['Promo Code Used'].value_counts()\n",
    "\n",
    " ## Replace missing values in a categorical column with the mode\n",
    "# df['Promo Code Used'].fillna(df['Promo Code Used'].mode()[0], inplace=True)"
   ]
  },
  {
   "cell_type": "markdown",
   "id": "a482efa5",
   "metadata": {},
   "source": [
    "#### <font size=3.5px color = 'blue'>outliers</font>"
   ]
  },
  {
   "cell_type": "code",
   "execution_count": null,
   "id": "b481827b",
   "metadata": {},
   "outputs": [],
   "source": [
    "# remove_outliers(df,'Promo Code Used')"
   ]
  },
  {
   "cell_type": "code",
   "execution_count": null,
   "id": "48e44c5d",
   "metadata": {},
   "outputs": [],
   "source": [
    "# print('null value in Promo Code Usedc* == {}'.format(df['Promo Code Used']c*.isnull().sum()))"
   ]
  },
  {
   "cell_type": "code",
   "execution_count": null,
   "id": "9e63e629",
   "metadata": {},
   "outputs": [],
   "source": [
    "## Example 1: Replace missing values in a numerical column with the mean\n",
    "# df['Promo Code Usedc*'].fillna(df['Promo Code Usedc*'].mean(), inplace=True)\n",
    "\n",
    "## Example 2: Replace missing values in a numerical column with the median\n",
    "# df['Promo Code Usedc*'].fillna(df['Promo Code Usedc*'].median(), inplace=True)\n",
    "\n",
    "## Example 3: if **non-numeric**\n",
    "\n",
    "# df['Promo Code Usedc*'].value_counts()\n",
    "\n",
    " ## Replace missing values in a categorical column with the mode\n",
    "# df['Promo Code Usedc*'].fillna(df['Promo Code Usedc*'].mode()[0], inplace=True)"
   ]
  },
  {
   "cell_type": "markdown",
   "id": "0c8632ab",
   "metadata": {},
   "source": [
    "### **<font size = 5px color = 'lime'>verify the process</font>**"
   ]
  },
  {
   "cell_type": "code",
   "execution_count": null,
   "id": "ede97f55",
   "metadata": {},
   "outputs": [],
   "source": [
    "df.head()"
   ]
  },
  {
   "cell_type": "code",
   "execution_count": null,
   "id": "76891dd5",
   "metadata": {},
   "outputs": [],
   "source": [
    "print('null value in [Promo Code Used] == {}'.format(df['Promo Code Used'].isnull().sum()))\n",
    "# print('\\n---\\n')\n",
    "# print('null value in Promo Code Usedc* == {}'.format(df['Promo Code Usedc*'].isnull().sum()))"
   ]
  },
  {
   "cell_type": "code",
   "execution_count": null,
   "id": "63f2f925",
   "metadata": {},
   "outputs": [],
   "source": [
    "print(f'The dtype of [Promo Code Used] == {df['Promo Code Used'].dtype}')\n",
    "# print('\\n---\\n')\n",
    "# print(f'The dtype of Promo Code Usedc* is {df['Promo Code Usedc*'].dtype}')"
   ]
  },
  {
   "cell_type": "code",
   "execution_count": null,
   "id": "aea094cb",
   "metadata": {},
   "outputs": [],
   "source": [
    "## First plot - Distribution plot\n",
    "# plt.figure(figsize=(10, 7))\n",
    "# sns.distplot(df['Promo Code Usedc*'])\n",
    "# plt.title('Distribution Plot for Promo Code Usedc*')  ## Title for the plot\n",
    "# plt.xlabel('Promo Code Usedc* Values')  ## X-axis label\n",
    "# plt.ylabel('Density')  ## Y-axis label\n",
    "\n",
    "## Second plot - Boxplot\n",
    "# plt.figure(figsize=(10, 7))\n",
    "# sns.boxplot(df['Promo Code Usedc*'],orient='h')\n",
    "# plt.title('Box Plot for Promo Code Usedc*')  ## Title for the plot\n",
    "# plt.xlabel('Promo Code Usedc*')  ## X-axis label\n",
    "# plt.ylabel('Promo Code Usedc* values')"
   ]
  },
  {
   "cell_type": "code",
   "execution_count": null,
   "id": "3dd254b7",
   "metadata": {},
   "outputs": [],
   "source": [
    "# more plot ?\n"
   ]
  },
  {
   "cell_type": "markdown",
   "id": "d990738e",
   "metadata": {},
   "source": [
    "<font size=5px color='bblue'> # type some insight here </font>"
   ]
  },
  {
   "cell_type": "markdown",
   "id": "166ff0d4",
   "metadata": {},
   "source": [
    "<hr style=\"border: 2px solid magenta;\">"
   ]
  },
  {
   "cell_type": "markdown",
   "id": "d9f1bae4",
   "metadata": {},
   "source": [
    "## [***](#INDEX)"
   ]
  },
  {
   "cell_type": "markdown",
   "id": "55dfaba0",
   "metadata": {},
   "source": [
    "<hr style=\"border: 2px solid lime;\">"
   ]
  },
  {
   "cell_type": "markdown",
   "id": "90bec2c1",
   "metadata": {},
   "source": [
    "# **<font size=17px color=\"lightgreen\">Previous Purchases</font>**"
   ]
  },
  {
   "cell_type": "code",
   "execution_count": null,
   "id": "7aa262d0",
   "metadata": {},
   "outputs": [],
   "source": [
    "print(f\"{df['Previous Purchases'].head(5)}\\n\\n{'*'*21}\\n\\ntop 5 sorted values\\n{df['Previous Purchases'].sort_values().head(5)}\\n\\n{'*'*21}\\n\\nbottom 5 sorted values\\n{df['Previous Purchases'].sort_values().tail(5)}\")"
   ]
  },
  {
   "cell_type": "markdown",
   "id": "bd52f711",
   "metadata": {},
   "source": [
    "### <font size=5px color='blue'>data operation</font>"
   ]
  },
  {
   "cell_type": "code",
   "execution_count": null,
   "id": "8c0278db",
   "metadata": {},
   "outputs": [],
   "source": [
    "print('null value in [Previous Purchases] == {}'.format(df['Previous Purchases'].isnull().sum()))"
   ]
  },
  {
   "cell_type": "code",
   "execution_count": null,
   "id": "c578351a",
   "metadata": {},
   "outputs": [],
   "source": [
    "print(f'unique values in [Previous Purchases] == {df['Previous Purchases'].nunique()}')"
   ]
  },
  {
   "cell_type": "code",
   "execution_count": null,
   "id": "cdfcde6f",
   "metadata": {},
   "outputs": [],
   "source": [
    "print(f'top 5 unique values:\\nvalue - count : {df['Previous Purchases'].value_counts()[:5]}\\n\\n{'*'*21}\\n\\nbottom 5 unique value:\\nvalue - count :  {df['Previous Purchases'].value_counts()[-5:]}')"
   ]
  },
  {
   "cell_type": "markdown",
   "id": "089ad50a",
   "metadata": {},
   "source": [
    "#### <font size= 3.5px color='blue'>dtype</font>"
   ]
  },
  {
   "cell_type": "code",
   "execution_count": null,
   "id": "133b4cab",
   "metadata": {},
   "outputs": [],
   "source": [
    "df['Previous Purchases'].dtype\n",
    "# format if dtype is wrong"
   ]
  },
  {
   "cell_type": "code",
   "execution_count": null,
   "id": "062514d2",
   "metadata": {},
   "outputs": [],
   "source": [
    "## see non numeric value in column\n",
    "\n",
    "## Identify non-numeric values using boolean indexing\n",
    "# non_numeric_value = df['Previous Purchases'][numeric_column.isna()]\n",
    "# print(non_numeric_value)\n",
    "\n",
    "## Convert the column to numeric, coercing non-numeric values to NaN\n",
    "# numeric_column = pd.to_numeric(df['Previous Purchases'], errors='coerce')\n",
    "\n"
   ]
  },
  {
   "cell_type": "code",
   "execution_count": null,
   "id": "d7437c8d",
   "metadata": {},
   "outputs": [],
   "source": [
    "# format opreation\n",
    "# if dtype is numeric skip this 4 cell\n"
   ]
  },
  {
   "cell_type": "code",
   "execution_count": null,
   "id": "b3f430ff",
   "metadata": {},
   "outputs": [],
   "source": [
    "# key = df['Previous Purchases'].unique().tolist()\n",
    "# values = []  ## assign your values here\n",
    "# print(key)\n",
    "# print(values)  ## len of key and values should be same"
   ]
  },
  {
   "cell_type": "code",
   "execution_count": null,
   "id": "405eaf2e",
   "metadata": {},
   "outputs": [],
   "source": [
    "# Previous Purchases = dict(zip(key,values)) # label data in 'key': value pair\n",
    "# label['Previous Purchases'] = Previous Purchases # store data label dict in main dict actually it's updating/"
   ]
  },
  {
   "cell_type": "code",
   "execution_count": null,
   "id": "296e5f4a",
   "metadata": {},
   "outputs": [],
   "source": [
    "# df['Previous Purchases'].replace(Previous Purchases, inplace=True)\n",
    "# print('Modified DataFrame:')\n",
    "# print(df['Previous Purchases'].head(10))"
   ]
  },
  {
   "cell_type": "code",
   "execution_count": null,
   "id": "40646645",
   "metadata": {},
   "outputs": [],
   "source": [
    "df['Previous Purchases'].unique()"
   ]
  },
  {
   "cell_type": "code",
   "execution_count": null,
   "id": "b286788b",
   "metadata": {},
   "outputs": [],
   "source": [
    "# First plot - Distribution plot\n",
    "plt.figure(figsize=(10, 7))\n",
    "sns.distplot(df['Previous Purchases'])\n",
    "plt.title('Distribution Plot for Previous Purchases')  # Title for the plot\n",
    "plt.xlabel('Previous Purchases Values')  # X-axis label\n",
    "plt.ylabel('Density')  # Y-axis label\n",
    "\n",
    "# Second plot - Boxplot\n",
    "plt.figure(figsize=(10, 7))\n",
    "sns.boxplot(df['Previous Purchases'],orient='h')\n",
    "plt.title('Box Plot for Previous Purchases')  # Title for the plot\n",
    "plt.xlabel('Previous Purchases')  # X-axis label\n",
    "plt.ylabel('Previous Purchases values')"
   ]
  },
  {
   "cell_type": "markdown",
   "id": "f71a2433",
   "metadata": {},
   "source": [
    "<font size=3.5px color='bblue'> # type some insight here </font>"
   ]
  },
  {
   "cell_type": "markdown",
   "id": "7266e3f0",
   "metadata": {},
   "source": [
    "#### <font size=3.5px color = 'blue'>clean data here</font>"
   ]
  },
  {
   "cell_type": "code",
   "execution_count": null,
   "id": "4a82948f",
   "metadata": {},
   "outputs": [],
   "source": [
    "## for removing null value\n",
    "# df.dropna(subset=['Previous Purchases'], inplace=True)"
   ]
  },
  {
   "cell_type": "code",
   "execution_count": null,
   "id": "4f83c723",
   "metadata": {},
   "outputs": [],
   "source": [
    "# mean = df['Previous Purchases'].mean()\n",
    "# print(mean)\n",
    "\n",
    "# median = df['Previous Purchases'].median()\n",
    "# print(median)\n",
    "\n",
    "# mode = df['Previous Purchases'].mode()\n",
    "# print(mode)"
   ]
  },
  {
   "cell_type": "code",
   "execution_count": null,
   "id": "9d76cee5",
   "metadata": {},
   "outputs": [],
   "source": [
    "## Example 1: Replace missing values in a numerical column with the mean\n",
    "# df['Previous Purchases'].fillna(df['Previous Purchases'].mean(), inplace=True)\n",
    "\n",
    "## Example 2: Replace missing values in a numerical column with the median\n",
    "# df['Previous Purchases'].fillna(df['Previous Purchases'].median(), inplace=True)\n",
    "\n",
    "## Example 3: if **non-numeric**\n",
    "\n",
    "# df['Previous Purchases'].value_counts()\n",
    "\n",
    " ## Replace missing values in a categorical column with the mode\n",
    "# df['Previous Purchases'].fillna(df['Previous Purchases'].mode()[0], inplace=True)"
   ]
  },
  {
   "cell_type": "markdown",
   "id": "3c92f743",
   "metadata": {},
   "source": [
    "#### <font size=3.5px color = 'blue'>outliers</font>"
   ]
  },
  {
   "cell_type": "code",
   "execution_count": null,
   "id": "e8f57ce3",
   "metadata": {},
   "outputs": [],
   "source": [
    "# remove_outliers(df,'Previous Purchases')"
   ]
  },
  {
   "cell_type": "code",
   "execution_count": null,
   "id": "adf11716",
   "metadata": {},
   "outputs": [],
   "source": [
    "# print('null value in Previous Purchasesc* == {}'.format(df['Previous Purchases']c*.isnull().sum()))"
   ]
  },
  {
   "cell_type": "code",
   "execution_count": null,
   "id": "9fc9c96c",
   "metadata": {},
   "outputs": [],
   "source": [
    "## Example 1: Replace missing values in a numerical column with the mean\n",
    "# df['Previous Purchasesc*'].fillna(df['Previous Purchasesc*'].mean(), inplace=True)\n",
    "\n",
    "## Example 2: Replace missing values in a numerical column with the median\n",
    "# df['Previous Purchasesc*'].fillna(df['Previous Purchasesc*'].median(), inplace=True)\n",
    "\n",
    "## Example 3: if **non-numeric**\n",
    "\n",
    "# df['Previous Purchasesc*'].value_counts()\n",
    "\n",
    " ## Replace missing values in a categorical column with the mode\n",
    "# df['Previous Purchasesc*'].fillna(df['Previous Purchasesc*'].mode()[0], inplace=True)"
   ]
  },
  {
   "cell_type": "markdown",
   "id": "76d8d97b",
   "metadata": {},
   "source": [
    "### **<font size = 5px color = 'lime'>verify the process</font>**"
   ]
  },
  {
   "cell_type": "code",
   "execution_count": null,
   "id": "d22f3304",
   "metadata": {},
   "outputs": [],
   "source": [
    "df.head()"
   ]
  },
  {
   "cell_type": "code",
   "execution_count": null,
   "id": "a8766104",
   "metadata": {},
   "outputs": [],
   "source": [
    "print('null value in [Previous Purchases] == {}'.format(df['Previous Purchases'].isnull().sum()))\n",
    "# print('\\n---\\n')\n",
    "# print('null value in Previous Purchasesc* == {}'.format(df['Previous Purchasesc*'].isnull().sum()))"
   ]
  },
  {
   "cell_type": "code",
   "execution_count": null,
   "id": "7f14776f",
   "metadata": {},
   "outputs": [],
   "source": [
    "print(f'The dtype of [Previous Purchases] == {df['Previous Purchases'].dtype}')\n",
    "# print('\\n---\\n')\n",
    "# print(f'The dtype of Previous Purchasesc* is {df['Previous Purchasesc*'].dtype}')"
   ]
  },
  {
   "cell_type": "code",
   "execution_count": null,
   "id": "39b93983",
   "metadata": {},
   "outputs": [],
   "source": [
    "## First plot - Distribution plot\n",
    "# plt.figure(figsize=(10, 7))\n",
    "# sns.distplot(df['Previous Purchasesc*'])\n",
    "# plt.title('Distribution Plot for Previous Purchasesc*')  ## Title for the plot\n",
    "# plt.xlabel('Previous Purchasesc* Values')  ## X-axis label\n",
    "# plt.ylabel('Density')  ## Y-axis label\n",
    "\n",
    "## Second plot - Boxplot\n",
    "# plt.figure(figsize=(10, 7))\n",
    "# sns.boxplot(df['Previous Purchasesc*'],orient='h')\n",
    "# plt.title('Box Plot for Previous Purchasesc*')  ## Title for the plot\n",
    "# plt.xlabel('Previous Purchasesc*')  ## X-axis label\n",
    "# plt.ylabel('Previous Purchasesc* values')"
   ]
  },
  {
   "cell_type": "code",
   "execution_count": null,
   "id": "ce86841e",
   "metadata": {},
   "outputs": [],
   "source": [
    "# more plot ?\n"
   ]
  },
  {
   "cell_type": "markdown",
   "id": "6f87b6a5",
   "metadata": {},
   "source": [
    "<font size=5px color='bblue'> # type some insight here </font>"
   ]
  },
  {
   "cell_type": "markdown",
   "id": "63dfab80",
   "metadata": {},
   "source": [
    "<hr style=\"border: 2px solid magenta;\">"
   ]
  },
  {
   "cell_type": "markdown",
   "id": "0cc12312",
   "metadata": {},
   "source": [
    "## [***](#INDEX)"
   ]
  },
  {
   "cell_type": "markdown",
   "id": "87e7062d",
   "metadata": {},
   "source": [
    "<hr style=\"border: 2px solid lime;\">"
   ]
  },
  {
   "cell_type": "markdown",
   "id": "2d1a138d",
   "metadata": {},
   "source": [
    "# **<font size=17px color=\"lightgreen\">Payment Method</font>**"
   ]
  },
  {
   "cell_type": "code",
   "execution_count": null,
   "id": "985aca58",
   "metadata": {},
   "outputs": [],
   "source": [
    "print(f\"{df['Payment Method'].head(5)}\\n\\n{'*'*21}\\n\\ntop 5 sorted values\\n{df['Payment Method'].sort_values().head(5)}\\n\\n{'*'*21}\\n\\nbottom 5 sorted values\\n{df['Payment Method'].sort_values().tail(5)}\")"
   ]
  },
  {
   "cell_type": "markdown",
   "id": "bb998c07",
   "metadata": {},
   "source": [
    "### <font size=5px color='blue'>data operation</font>"
   ]
  },
  {
   "cell_type": "code",
   "execution_count": null,
   "id": "692fd07f",
   "metadata": {},
   "outputs": [],
   "source": [
    "print('null value in [Payment Method] == {}'.format(df['Payment Method'].isnull().sum()))"
   ]
  },
  {
   "cell_type": "code",
   "execution_count": null,
   "id": "be85b12c",
   "metadata": {},
   "outputs": [],
   "source": [
    "print(f'unique values in [Payment Method] == {df['Payment Method'].nunique()}')"
   ]
  },
  {
   "cell_type": "code",
   "execution_count": null,
   "id": "d2243b08",
   "metadata": {},
   "outputs": [],
   "source": [
    "print(f'top 5 unique values:\\nvalue - count : {df['Payment Method'].value_counts()[:5]}\\n\\n{'*'*21}\\n\\nbottom 5 unique value:\\nvalue - count :  {df['Payment Method'].value_counts()[-5:]}')"
   ]
  },
  {
   "cell_type": "markdown",
   "id": "7b947647",
   "metadata": {},
   "source": [
    "#### <font size= 3.5px color='blue'>dtype</font>"
   ]
  },
  {
   "cell_type": "code",
   "execution_count": null,
   "id": "b2a5c9aa",
   "metadata": {},
   "outputs": [],
   "source": [
    "df['Payment Method'].dtype\n",
    "# format if dtype is wrong"
   ]
  },
  {
   "cell_type": "code",
   "execution_count": null,
   "id": "909780f7",
   "metadata": {},
   "outputs": [],
   "source": [
    "## see non numeric value in column\n",
    "\n",
    "## Identify non-numeric values using boolean indexing\n",
    "# non_numeric_value = df['Payment Method'][numeric_column.isna()]\n",
    "# print(non_numeric_value)\n",
    "\n",
    "## Convert the column to numeric, coercing non-numeric values to NaN\n",
    "# numeric_column = pd.to_numeric(df['Payment Method'], errors='coerce')\n",
    "\n"
   ]
  },
  {
   "cell_type": "code",
   "execution_count": null,
   "id": "3662e3f8",
   "metadata": {},
   "outputs": [],
   "source": [
    "# format opreation\n",
    "# if dtype is numeric skip this 4 cell\n"
   ]
  },
  {
   "cell_type": "code",
   "execution_count": null,
   "id": "8be2904d",
   "metadata": {},
   "outputs": [],
   "source": [
    "# key = df['Payment Method'].unique().tolist()\n",
    "# values = []  ## assign your values here\n",
    "# print(key)\n",
    "# print(values)  ## len of key and values should be same"
   ]
  },
  {
   "cell_type": "code",
   "execution_count": null,
   "id": "b5ffe74c",
   "metadata": {},
   "outputs": [],
   "source": [
    "# Payment Method = dict(zip(key,values)) # label data in 'key': value pair\n",
    "# label['Payment Method'] = Payment Method # store data label dict in main dict actually it's updating/"
   ]
  },
  {
   "cell_type": "code",
   "execution_count": null,
   "id": "c6ef4f04",
   "metadata": {},
   "outputs": [],
   "source": [
    "# df['Payment Method'].replace(Payment Method, inplace=True)\n",
    "# print('Modified DataFrame:')\n",
    "# print(df['Payment Method'].head(10))"
   ]
  },
  {
   "cell_type": "code",
   "execution_count": null,
   "id": "a54c7ba0",
   "metadata": {},
   "outputs": [],
   "source": [
    "df['Payment Method'].unique()"
   ]
  },
  {
   "cell_type": "code",
   "execution_count": null,
   "id": "10283443",
   "metadata": {},
   "outputs": [],
   "source": [
    "# First plot - Distribution plot\n",
    "plt.figure(figsize=(10, 7))\n",
    "sns.distplot(df['Payment Method'])\n",
    "plt.title('Distribution Plot for Payment Method')  # Title for the plot\n",
    "plt.xlabel('Payment Method Values')  # X-axis label\n",
    "plt.ylabel('Density')  # Y-axis label\n",
    "\n",
    "# Second plot - Boxplot\n",
    "plt.figure(figsize=(10, 7))\n",
    "sns.boxplot(df['Payment Method'],orient='h')\n",
    "plt.title('Box Plot for Payment Method')  # Title for the plot\n",
    "plt.xlabel('Payment Method')  # X-axis label\n",
    "plt.ylabel('Payment Method values')"
   ]
  },
  {
   "cell_type": "markdown",
   "id": "55e2c93b",
   "metadata": {},
   "source": [
    "<font size=3.5px color='bblue'> # type some insight here </font>"
   ]
  },
  {
   "cell_type": "markdown",
   "id": "926b6afe",
   "metadata": {},
   "source": [
    "#### <font size=3.5px color = 'blue'>clean data here</font>"
   ]
  },
  {
   "cell_type": "code",
   "execution_count": null,
   "id": "ad189269",
   "metadata": {},
   "outputs": [],
   "source": [
    "## for removing null value\n",
    "# df.dropna(subset=['Payment Method'], inplace=True)"
   ]
  },
  {
   "cell_type": "code",
   "execution_count": null,
   "id": "1ea95f4e",
   "metadata": {},
   "outputs": [],
   "source": [
    "# mean = df['Payment Method'].mean()\n",
    "# print(mean)\n",
    "\n",
    "# median = df['Payment Method'].median()\n",
    "# print(median)\n",
    "\n",
    "# mode = df['Payment Method'].mode()\n",
    "# print(mode)"
   ]
  },
  {
   "cell_type": "code",
   "execution_count": null,
   "id": "fcad470f",
   "metadata": {},
   "outputs": [],
   "source": [
    "## Example 1: Replace missing values in a numerical column with the mean\n",
    "# df['Payment Method'].fillna(df['Payment Method'].mean(), inplace=True)\n",
    "\n",
    "## Example 2: Replace missing values in a numerical column with the median\n",
    "# df['Payment Method'].fillna(df['Payment Method'].median(), inplace=True)\n",
    "\n",
    "## Example 3: if **non-numeric**\n",
    "\n",
    "# df['Payment Method'].value_counts()\n",
    "\n",
    " ## Replace missing values in a categorical column with the mode\n",
    "# df['Payment Method'].fillna(df['Payment Method'].mode()[0], inplace=True)"
   ]
  },
  {
   "cell_type": "markdown",
   "id": "ac1a3ebb",
   "metadata": {},
   "source": [
    "#### <font size=3.5px color = 'blue'>outliers</font>"
   ]
  },
  {
   "cell_type": "code",
   "execution_count": null,
   "id": "bb8bf432",
   "metadata": {},
   "outputs": [],
   "source": [
    "# remove_outliers(df,'Payment Method')"
   ]
  },
  {
   "cell_type": "code",
   "execution_count": null,
   "id": "80700300",
   "metadata": {},
   "outputs": [],
   "source": [
    "# print('null value in Payment Methodc* == {}'.format(df['Payment Method']c*.isnull().sum()))"
   ]
  },
  {
   "cell_type": "code",
   "execution_count": null,
   "id": "6c34af81",
   "metadata": {},
   "outputs": [],
   "source": [
    "## Example 1: Replace missing values in a numerical column with the mean\n",
    "# df['Payment Methodc*'].fillna(df['Payment Methodc*'].mean(), inplace=True)\n",
    "\n",
    "## Example 2: Replace missing values in a numerical column with the median\n",
    "# df['Payment Methodc*'].fillna(df['Payment Methodc*'].median(), inplace=True)\n",
    "\n",
    "## Example 3: if **non-numeric**\n",
    "\n",
    "# df['Payment Methodc*'].value_counts()\n",
    "\n",
    " ## Replace missing values in a categorical column with the mode\n",
    "# df['Payment Methodc*'].fillna(df['Payment Methodc*'].mode()[0], inplace=True)"
   ]
  },
  {
   "cell_type": "markdown",
   "id": "2a4cfde3",
   "metadata": {},
   "source": [
    "### **<font size = 5px color = 'lime'>verify the process</font>**"
   ]
  },
  {
   "cell_type": "code",
   "execution_count": null,
   "id": "fa711060",
   "metadata": {},
   "outputs": [],
   "source": [
    "df.head()"
   ]
  },
  {
   "cell_type": "code",
   "execution_count": null,
   "id": "900151c3",
   "metadata": {},
   "outputs": [],
   "source": [
    "print('null value in [Payment Method] == {}'.format(df['Payment Method'].isnull().sum()))\n",
    "# print('\\n---\\n')\n",
    "# print('null value in Payment Methodc* == {}'.format(df['Payment Methodc*'].isnull().sum()))"
   ]
  },
  {
   "cell_type": "code",
   "execution_count": null,
   "id": "7c9b4938",
   "metadata": {},
   "outputs": [],
   "source": [
    "print(f'The dtype of [Payment Method] == {df['Payment Method'].dtype}')\n",
    "# print('\\n---\\n')\n",
    "# print(f'The dtype of Payment Methodc* is {df['Payment Methodc*'].dtype}')"
   ]
  },
  {
   "cell_type": "code",
   "execution_count": null,
   "id": "071a9d0a",
   "metadata": {},
   "outputs": [],
   "source": [
    "## First plot - Distribution plot\n",
    "# plt.figure(figsize=(10, 7))\n",
    "# sns.distplot(df['Payment Methodc*'])\n",
    "# plt.title('Distribution Plot for Payment Methodc*')  ## Title for the plot\n",
    "# plt.xlabel('Payment Methodc* Values')  ## X-axis label\n",
    "# plt.ylabel('Density')  ## Y-axis label\n",
    "\n",
    "## Second plot - Boxplot\n",
    "# plt.figure(figsize=(10, 7))\n",
    "# sns.boxplot(df['Payment Methodc*'],orient='h')\n",
    "# plt.title('Box Plot for Payment Methodc*')  ## Title for the plot\n",
    "# plt.xlabel('Payment Methodc*')  ## X-axis label\n",
    "# plt.ylabel('Payment Methodc* values')"
   ]
  },
  {
   "cell_type": "code",
   "execution_count": null,
   "id": "c39f1805",
   "metadata": {},
   "outputs": [],
   "source": [
    "# more plot ?\n"
   ]
  },
  {
   "cell_type": "markdown",
   "id": "2240e1e1",
   "metadata": {},
   "source": [
    "<font size=5px color='bblue'> # type some insight here </font>"
   ]
  },
  {
   "cell_type": "markdown",
   "id": "ecbcf0ec",
   "metadata": {},
   "source": [
    "<hr style=\"border: 2px solid magenta;\">"
   ]
  },
  {
   "cell_type": "markdown",
   "id": "fd0d08ba",
   "metadata": {},
   "source": [
    "## [***](#INDEX)"
   ]
  },
  {
   "cell_type": "markdown",
   "id": "4365f5f7",
   "metadata": {},
   "source": [
    "<hr style=\"border: 2px solid lime;\">"
   ]
  },
  {
   "cell_type": "markdown",
   "id": "8aa2cd5f",
   "metadata": {},
   "source": [
    "# **<font size=17px color=\"lightgreen\">Frequency of Purchases</font>**"
   ]
  },
  {
   "cell_type": "code",
   "execution_count": null,
   "id": "c91d7be2",
   "metadata": {},
   "outputs": [],
   "source": [
    "print(f\"{df['Frequency of Purchases'].head(5)}\\n\\n{'*'*21}\\n\\ntop 5 sorted values\\n{df['Frequency of Purchases'].sort_values().head(5)}\\n\\n{'*'*21}\\n\\nbottom 5 sorted values\\n{df['Frequency of Purchases'].sort_values().tail(5)}\")"
   ]
  },
  {
   "cell_type": "markdown",
   "id": "39291d6b",
   "metadata": {},
   "source": [
    "### <font size=5px color='blue'>data operation</font>"
   ]
  },
  {
   "cell_type": "code",
   "execution_count": null,
   "id": "e1d269e9",
   "metadata": {},
   "outputs": [],
   "source": [
    "print('null value in [Frequency of Purchases] == {}'.format(df['Frequency of Purchases'].isnull().sum()))"
   ]
  },
  {
   "cell_type": "code",
   "execution_count": null,
   "id": "b2fa82b8",
   "metadata": {},
   "outputs": [],
   "source": [
    "print(f'unique values in [Frequency of Purchases] == {df['Frequency of Purchases'].nunique()}')"
   ]
  },
  {
   "cell_type": "code",
   "execution_count": null,
   "id": "e6d5649a",
   "metadata": {},
   "outputs": [],
   "source": [
    "print(f'top 5 unique values:\\nvalue - count : {df['Frequency of Purchases'].value_counts()[:5]}\\n\\n{'*'*21}\\n\\nbottom 5 unique value:\\nvalue - count :  {df['Frequency of Purchases'].value_counts()[-5:]}')"
   ]
  },
  {
   "cell_type": "markdown",
   "id": "c6896372",
   "metadata": {},
   "source": [
    "#### <font size= 3.5px color='blue'>dtype</font>"
   ]
  },
  {
   "cell_type": "code",
   "execution_count": null,
   "id": "d340ab36",
   "metadata": {},
   "outputs": [],
   "source": [
    "df['Frequency of Purchases'].dtype\n",
    "# format if dtype is wrong"
   ]
  },
  {
   "cell_type": "code",
   "execution_count": null,
   "id": "5451e8e3",
   "metadata": {},
   "outputs": [],
   "source": [
    "## see non numeric value in column\n",
    "\n",
    "## Identify non-numeric values using boolean indexing\n",
    "# non_numeric_value = df['Frequency of Purchases'][numeric_column.isna()]\n",
    "# print(non_numeric_value)\n",
    "\n",
    "## Convert the column to numeric, coercing non-numeric values to NaN\n",
    "# numeric_column = pd.to_numeric(df['Frequency of Purchases'], errors='coerce')\n",
    "\n"
   ]
  },
  {
   "cell_type": "code",
   "execution_count": null,
   "id": "33c4a9df",
   "metadata": {},
   "outputs": [],
   "source": [
    "# format opreation\n",
    "# if dtype is numeric skip this 4 cell\n"
   ]
  },
  {
   "cell_type": "code",
   "execution_count": null,
   "id": "fcded82e",
   "metadata": {},
   "outputs": [],
   "source": [
    "# key = df['Frequency of Purchases'].unique().tolist()\n",
    "# values = []  ## assign your values here\n",
    "# print(key)\n",
    "# print(values)  ## len of key and values should be same"
   ]
  },
  {
   "cell_type": "code",
   "execution_count": null,
   "id": "0e80d42b",
   "metadata": {},
   "outputs": [],
   "source": [
    "# Frequency of Purchases = dict(zip(key,values)) # label data in 'key': value pair\n",
    "# label['Frequency of Purchases'] = Frequency of Purchases # store data label dict in main dict actually it's updating/"
   ]
  },
  {
   "cell_type": "code",
   "execution_count": null,
   "id": "5b1a0780",
   "metadata": {},
   "outputs": [],
   "source": [
    "# df['Frequency of Purchases'].replace(Frequency of Purchases, inplace=True)\n",
    "# print('Modified DataFrame:')\n",
    "# print(df['Frequency of Purchases'].head(10))"
   ]
  },
  {
   "cell_type": "code",
   "execution_count": null,
   "id": "04e0a3bc",
   "metadata": {},
   "outputs": [],
   "source": [
    "df['Frequency of Purchases'].unique()"
   ]
  },
  {
   "cell_type": "code",
   "execution_count": null,
   "id": "227b9fdb",
   "metadata": {},
   "outputs": [],
   "source": [
    "# First plot - Distribution plot\n",
    "plt.figure(figsize=(10, 7))\n",
    "sns.distplot(df['Frequency of Purchases'])\n",
    "plt.title('Distribution Plot for Frequency of Purchases')  # Title for the plot\n",
    "plt.xlabel('Frequency of Purchases Values')  # X-axis label\n",
    "plt.ylabel('Density')  # Y-axis label\n",
    "\n",
    "# Second plot - Boxplot\n",
    "plt.figure(figsize=(10, 7))\n",
    "sns.boxplot(df['Frequency of Purchases'],orient='h')\n",
    "plt.title('Box Plot for Frequency of Purchases')  # Title for the plot\n",
    "plt.xlabel('Frequency of Purchases')  # X-axis label\n",
    "plt.ylabel('Frequency of Purchases values')"
   ]
  },
  {
   "cell_type": "markdown",
   "id": "91e2a27e",
   "metadata": {},
   "source": [
    "<font size=3.5px color='bblue'> # type some insight here </font>"
   ]
  },
  {
   "cell_type": "markdown",
   "id": "e9e468f7",
   "metadata": {},
   "source": [
    "#### <font size=3.5px color = 'blue'>clean data here</font>"
   ]
  },
  {
   "cell_type": "code",
   "execution_count": null,
   "id": "00166657",
   "metadata": {},
   "outputs": [],
   "source": [
    "## for removing null value\n",
    "# df.dropna(subset=['Frequency of Purchases'], inplace=True)"
   ]
  },
  {
   "cell_type": "code",
   "execution_count": null,
   "id": "cac41277",
   "metadata": {},
   "outputs": [],
   "source": [
    "# mean = df['Frequency of Purchases'].mean()\n",
    "# print(mean)\n",
    "\n",
    "# median = df['Frequency of Purchases'].median()\n",
    "# print(median)\n",
    "\n",
    "# mode = df['Frequency of Purchases'].mode()\n",
    "# print(mode)"
   ]
  },
  {
   "cell_type": "code",
   "execution_count": null,
   "id": "cce17319",
   "metadata": {},
   "outputs": [],
   "source": [
    "## Example 1: Replace missing values in a numerical column with the mean\n",
    "# df['Frequency of Purchases'].fillna(df['Frequency of Purchases'].mean(), inplace=True)\n",
    "\n",
    "## Example 2: Replace missing values in a numerical column with the median\n",
    "# df['Frequency of Purchases'].fillna(df['Frequency of Purchases'].median(), inplace=True)\n",
    "\n",
    "## Example 3: if **non-numeric**\n",
    "\n",
    "# df['Frequency of Purchases'].value_counts()\n",
    "\n",
    " ## Replace missing values in a categorical column with the mode\n",
    "# df['Frequency of Purchases'].fillna(df['Frequency of Purchases'].mode()[0], inplace=True)"
   ]
  },
  {
   "cell_type": "markdown",
   "id": "f41f367f",
   "metadata": {},
   "source": [
    "#### <font size=3.5px color = 'blue'>outliers</font>"
   ]
  },
  {
   "cell_type": "code",
   "execution_count": null,
   "id": "945b9680",
   "metadata": {},
   "outputs": [],
   "source": [
    "# remove_outliers(df,'Frequency of Purchases')"
   ]
  },
  {
   "cell_type": "code",
   "execution_count": null,
   "id": "32e748c5",
   "metadata": {},
   "outputs": [],
   "source": [
    "# print('null value in Frequency of Purchasesc* == {}'.format(df['Frequency of Purchases']c*.isnull().sum()))"
   ]
  },
  {
   "cell_type": "code",
   "execution_count": null,
   "id": "668e1255",
   "metadata": {},
   "outputs": [],
   "source": [
    "## Example 1: Replace missing values in a numerical column with the mean\n",
    "# df['Frequency of Purchasesc*'].fillna(df['Frequency of Purchasesc*'].mean(), inplace=True)\n",
    "\n",
    "## Example 2: Replace missing values in a numerical column with the median\n",
    "# df['Frequency of Purchasesc*'].fillna(df['Frequency of Purchasesc*'].median(), inplace=True)\n",
    "\n",
    "## Example 3: if **non-numeric**\n",
    "\n",
    "# df['Frequency of Purchasesc*'].value_counts()\n",
    "\n",
    " ## Replace missing values in a categorical column with the mode\n",
    "# df['Frequency of Purchasesc*'].fillna(df['Frequency of Purchasesc*'].mode()[0], inplace=True)"
   ]
  },
  {
   "cell_type": "markdown",
   "id": "ce9b5d70",
   "metadata": {},
   "source": [
    "### **<font size = 5px color = 'lime'>verify the process</font>**"
   ]
  },
  {
   "cell_type": "code",
   "execution_count": null,
   "id": "46c5749c",
   "metadata": {},
   "outputs": [],
   "source": [
    "df.head()"
   ]
  },
  {
   "cell_type": "code",
   "execution_count": null,
   "id": "6a70b68f",
   "metadata": {},
   "outputs": [],
   "source": [
    "print('null value in [Frequency of Purchases] == {}'.format(df['Frequency of Purchases'].isnull().sum()))\n",
    "# print('\\n---\\n')\n",
    "# print('null value in Frequency of Purchasesc* == {}'.format(df['Frequency of Purchasesc*'].isnull().sum()))"
   ]
  },
  {
   "cell_type": "code",
   "execution_count": null,
   "id": "7282b954",
   "metadata": {},
   "outputs": [],
   "source": [
    "print(f'The dtype of [Frequency of Purchases] == {df['Frequency of Purchases'].dtype}')\n",
    "# print('\\n---\\n')\n",
    "# print(f'The dtype of Frequency of Purchasesc* is {df['Frequency of Purchasesc*'].dtype}')"
   ]
  },
  {
   "cell_type": "code",
   "execution_count": null,
   "id": "ac1d7fcd",
   "metadata": {},
   "outputs": [],
   "source": [
    "## First plot - Distribution plot\n",
    "# plt.figure(figsize=(10, 7))\n",
    "# sns.distplot(df['Frequency of Purchasesc*'])\n",
    "# plt.title('Distribution Plot for Frequency of Purchasesc*')  ## Title for the plot\n",
    "# plt.xlabel('Frequency of Purchasesc* Values')  ## X-axis label\n",
    "# plt.ylabel('Density')  ## Y-axis label\n",
    "\n",
    "## Second plot - Boxplot\n",
    "# plt.figure(figsize=(10, 7))\n",
    "# sns.boxplot(df['Frequency of Purchasesc*'],orient='h')\n",
    "# plt.title('Box Plot for Frequency of Purchasesc*')  ## Title for the plot\n",
    "# plt.xlabel('Frequency of Purchasesc*')  ## X-axis label\n",
    "# plt.ylabel('Frequency of Purchasesc* values')"
   ]
  },
  {
   "cell_type": "code",
   "execution_count": null,
   "id": "9f9dd3a5",
   "metadata": {},
   "outputs": [],
   "source": [
    "# more plot ?\n"
   ]
  },
  {
   "cell_type": "markdown",
   "id": "40c6820d",
   "metadata": {},
   "source": [
    "<font size=5px color='bblue'> # type some insight here </font>"
   ]
  },
  {
   "cell_type": "markdown",
   "id": "941769c9",
   "metadata": {},
   "source": [
    "<hr style=\"border: 2px solid magenta;\">"
   ]
  },
  {
   "cell_type": "markdown",
   "id": "becdcffa",
   "metadata": {},
   "source": [
    "## [***](#INDEX)"
   ]
  }
 ],
 "metadata": {
  "kernelspec": {
   "display_name": "Python 3 (ipykernel)",
   "language": "python",
   "name": "python3"
  },
  "language_info": {
   "codemirror_mode": {
    "name": "ipython",
    "version": 3
   },
   "file_extension": ".py",
   "mimetype": "text/x-python",
   "name": "python",
   "nbconvert_exporter": "python",
   "pygments_lexer": "ipython3",
   "version": "3.12.0"
  }
 },
 "nbformat": 4,
 "nbformat_minor": 5
}
